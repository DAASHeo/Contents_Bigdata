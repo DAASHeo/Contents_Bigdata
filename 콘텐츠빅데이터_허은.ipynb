{
  "nbformat": 4,
  "nbformat_minor": 0,
  "metadata": {
    "colab": {
      "provenance": [],
      "collapsed_sections": [],
      "authorship_tag": "ABX9TyNCNMMtVs20B3sQEos5MlZ5",
      "include_colab_link": true
    },
    "kernelspec": {
      "name": "python3",
      "display_name": "Python 3"
    },
    "language_info": {
      "name": "python"
    }
  },
  "cells": [
    {
      "cell_type": "markdown",
      "metadata": {
        "id": "view-in-github",
        "colab_type": "text"
      },
      "source": [
        "<a href=\"https://colab.research.google.com/github/DAASHeo/Contents_Bigdata/blob/main/%EC%BD%98%ED%85%90%EC%B8%A0%EB%B9%85%EB%8D%B0%EC%9D%B4%ED%84%B0_%ED%97%88%EC%9D%80.ipynb\" target=\"_parent\"><img src=\"https://colab.research.google.com/assets/colab-badge.svg\" alt=\"Open In Colab\"/></a>"
      ]
    },
    {
      "cell_type": "code",
      "execution_count": null,
      "metadata": {
        "id": "BrH0T5A7-k7c"
      },
      "outputs": [],
      "source": [
        "import numpy as np"
      ]
    }
  ]
}