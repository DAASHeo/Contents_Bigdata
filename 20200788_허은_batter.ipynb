{
  "cells": [
    {
      "cell_type": "markdown",
      "metadata": {
        "id": "view-in-github",
        "colab_type": "text"
      },
      "source": [
        "<a href=\"https://colab.research.google.com/github/DAASHeo/Contents_Bigdata/blob/main/20200788_%ED%97%88%EC%9D%80_batter.ipynb\" target=\"_parent\"><img src=\"https://colab.research.google.com/assets/colab-badge.svg\" alt=\"Open In Colab\"/></a>"
      ]
    },
    {
      "cell_type": "code",
      "source": [
        "# 학과 : IT미디어공학전공\n",
        "\n",
        "# 학번 : 20200788\n",
        "\n",
        "# 이름 : 허은 "
      ],
      "metadata": {
        "id": "dgzORbTYfF-Y"
      },
      "id": "dgzORbTYfF-Y",
      "execution_count": null,
      "outputs": []
    },
    {
      "cell_type": "markdown",
      "source": [
        "# 임포트 및 한글 설정\n"
      ],
      "metadata": {
        "id": "S0OcsgNQt7v3"
      },
      "id": "S0OcsgNQt7v3"
    },
    {
      "cell_type": "code",
      "execution_count": 1,
      "id": "7e68f404",
      "metadata": {
        "id": "7e68f404",
        "colab": {
          "base_uri": "https://localhost:8080/"
        },
        "outputId": "592e85c3-b8b4-4d98-b58c-fb610ba7ee23"
      },
      "outputs": [
        {
          "output_type": "stream",
          "name": "stdout",
          "text": [
            "Looking in indexes: https://pypi.org/simple, https://us-python.pkg.dev/colab-wheels/public/simple/\n",
            "Requirement already satisfied: statsmodels in /usr/local/lib/python3.8/dist-packages (0.12.2)\n",
            "Requirement already satisfied: patsy>=0.5 in /usr/local/lib/python3.8/dist-packages (from statsmodels) (0.5.3)\n",
            "Requirement already satisfied: numpy>=1.15 in /usr/local/lib/python3.8/dist-packages (from statsmodels) (1.21.6)\n",
            "Requirement already satisfied: pandas>=0.21 in /usr/local/lib/python3.8/dist-packages (from statsmodels) (1.3.5)\n",
            "Requirement already satisfied: scipy>=1.1 in /usr/local/lib/python3.8/dist-packages (from statsmodels) (1.7.3)\n",
            "Requirement already satisfied: python-dateutil>=2.7.3 in /usr/local/lib/python3.8/dist-packages (from pandas>=0.21->statsmodels) (2.8.2)\n",
            "Requirement already satisfied: pytz>=2017.3 in /usr/local/lib/python3.8/dist-packages (from pandas>=0.21->statsmodels) (2022.6)\n",
            "Requirement already satisfied: six in /usr/local/lib/python3.8/dist-packages (from patsy>=0.5->statsmodels) (1.15.0)\n"
          ]
        }
      ],
      "source": [
        "import pandas as pd\n",
        "import numpy as np\n",
        "import matplotlib.pyplot as plt\n",
        "import io\n",
        "from google.colab import files\n",
        "import warnings\n",
        "import seaborn as sns\n",
        "from sklearn import linear_model\n",
        "from sklearn.model_selection import train_test_split\n",
        "from sklearn.metrics import mean_squared_error\n",
        "from math import sqrt\n",
        "from statsmodels.stats.outliers_influence import variance_inflation_factor\n",
        "!pip install statsmodels\n",
        "import statsmodels.api as sm"
      ]
    },
    {
      "cell_type": "code",
      "source": [
        "!sudo apt-get install -y fonts-nanum\n",
        "!sudo fc-cache -fv\n",
        "!rm ~/.cache/matplotlib -rf"
      ],
      "metadata": {
        "colab": {
          "base_uri": "https://localhost:8080/"
        },
        "id": "WnteeeY6c9hs",
        "outputId": "0eba5105-cc3a-4b41-ec50-c148d9b2c33d"
      },
      "id": "WnteeeY6c9hs",
      "execution_count": 189,
      "outputs": [
        {
          "output_type": "stream",
          "name": "stdout",
          "text": [
            "Reading package lists... Done\n",
            "Building dependency tree       \n",
            "Reading state information... Done\n",
            "fonts-nanum is already the newest version (20170925-1).\n",
            "The following package was automatically installed and is no longer required:\n",
            "  libnvidia-common-460\n",
            "Use 'sudo apt autoremove' to remove it.\n",
            "0 upgraded, 0 newly installed, 0 to remove and 7 not upgraded.\n",
            "/usr/share/fonts: caching, new cache contents: 0 fonts, 1 dirs\n",
            "/usr/share/fonts/truetype: caching, new cache contents: 0 fonts, 3 dirs\n",
            "/usr/share/fonts/truetype/humor-sans: caching, new cache contents: 1 fonts, 0 dirs\n",
            "/usr/share/fonts/truetype/liberation: caching, new cache contents: 16 fonts, 0 dirs\n",
            "/usr/share/fonts/truetype/nanum: caching, new cache contents: 10 fonts, 0 dirs\n",
            "/usr/local/share/fonts: caching, new cache contents: 0 fonts, 0 dirs\n",
            "/root/.local/share/fonts: skipping, no such directory\n",
            "/root/.fonts: skipping, no such directory\n",
            "/var/cache/fontconfig: cleaning cache directory\n",
            "/root/.cache/fontconfig: not cleaning non-existent cache directory\n",
            "/root/.fontconfig: not cleaning non-existent cache directory\n",
            "fc-cache: succeeded\n"
          ]
        }
      ]
    },
    {
      "cell_type": "code",
      "source": [
        "plt.rc('font', family='NanumGothic')"
      ],
      "metadata": {
        "id": "_d28bHe_FIaG"
      },
      "id": "_d28bHe_FIaG",
      "execution_count": 2,
      "outputs": []
    },
    {
      "cell_type": "code",
      "execution_count": 4,
      "id": "a3e16a0c",
      "metadata": {
        "colab": {
          "base_uri": "https://localhost:8080/",
          "height": 77
        },
        "id": "a3e16a0c",
        "outputId": "60e8f789-9d00-4529-ac7c-922777970601"
      },
      "outputs": [
        {
          "output_type": "display_data",
          "data": {
            "text/plain": [
              "<IPython.core.display.HTML object>"
            ],
            "text/html": [
              "\n",
              "     <input type=\"file\" id=\"files-e433a23c-ab76-44d1-84d5-b2d26012c3a1\" name=\"files[]\" multiple disabled\n",
              "        style=\"border:none\" />\n",
              "     <output id=\"result-e433a23c-ab76-44d1-84d5-b2d26012c3a1\">\n",
              "      Upload widget is only available when the cell has been executed in the\n",
              "      current browser session. Please rerun this cell to enable.\n",
              "      </output>\n",
              "      <script>// Copyright 2017 Google LLC\n",
              "//\n",
              "// Licensed under the Apache License, Version 2.0 (the \"License\");\n",
              "// you may not use this file except in compliance with the License.\n",
              "// You may obtain a copy of the License at\n",
              "//\n",
              "//      http://www.apache.org/licenses/LICENSE-2.0\n",
              "//\n",
              "// Unless required by applicable law or agreed to in writing, software\n",
              "// distributed under the License is distributed on an \"AS IS\" BASIS,\n",
              "// WITHOUT WARRANTIES OR CONDITIONS OF ANY KIND, either express or implied.\n",
              "// See the License for the specific language governing permissions and\n",
              "// limitations under the License.\n",
              "\n",
              "/**\n",
              " * @fileoverview Helpers for google.colab Python module.\n",
              " */\n",
              "(function(scope) {\n",
              "function span(text, styleAttributes = {}) {\n",
              "  const element = document.createElement('span');\n",
              "  element.textContent = text;\n",
              "  for (const key of Object.keys(styleAttributes)) {\n",
              "    element.style[key] = styleAttributes[key];\n",
              "  }\n",
              "  return element;\n",
              "}\n",
              "\n",
              "// Max number of bytes which will be uploaded at a time.\n",
              "const MAX_PAYLOAD_SIZE = 100 * 1024;\n",
              "\n",
              "function _uploadFiles(inputId, outputId) {\n",
              "  const steps = uploadFilesStep(inputId, outputId);\n",
              "  const outputElement = document.getElementById(outputId);\n",
              "  // Cache steps on the outputElement to make it available for the next call\n",
              "  // to uploadFilesContinue from Python.\n",
              "  outputElement.steps = steps;\n",
              "\n",
              "  return _uploadFilesContinue(outputId);\n",
              "}\n",
              "\n",
              "// This is roughly an async generator (not supported in the browser yet),\n",
              "// where there are multiple asynchronous steps and the Python side is going\n",
              "// to poll for completion of each step.\n",
              "// This uses a Promise to block the python side on completion of each step,\n",
              "// then passes the result of the previous step as the input to the next step.\n",
              "function _uploadFilesContinue(outputId) {\n",
              "  const outputElement = document.getElementById(outputId);\n",
              "  const steps = outputElement.steps;\n",
              "\n",
              "  const next = steps.next(outputElement.lastPromiseValue);\n",
              "  return Promise.resolve(next.value.promise).then((value) => {\n",
              "    // Cache the last promise value to make it available to the next\n",
              "    // step of the generator.\n",
              "    outputElement.lastPromiseValue = value;\n",
              "    return next.value.response;\n",
              "  });\n",
              "}\n",
              "\n",
              "/**\n",
              " * Generator function which is called between each async step of the upload\n",
              " * process.\n",
              " * @param {string} inputId Element ID of the input file picker element.\n",
              " * @param {string} outputId Element ID of the output display.\n",
              " * @return {!Iterable<!Object>} Iterable of next steps.\n",
              " */\n",
              "function* uploadFilesStep(inputId, outputId) {\n",
              "  const inputElement = document.getElementById(inputId);\n",
              "  inputElement.disabled = false;\n",
              "\n",
              "  const outputElement = document.getElementById(outputId);\n",
              "  outputElement.innerHTML = '';\n",
              "\n",
              "  const pickedPromise = new Promise((resolve) => {\n",
              "    inputElement.addEventListener('change', (e) => {\n",
              "      resolve(e.target.files);\n",
              "    });\n",
              "  });\n",
              "\n",
              "  const cancel = document.createElement('button');\n",
              "  inputElement.parentElement.appendChild(cancel);\n",
              "  cancel.textContent = 'Cancel upload';\n",
              "  const cancelPromise = new Promise((resolve) => {\n",
              "    cancel.onclick = () => {\n",
              "      resolve(null);\n",
              "    };\n",
              "  });\n",
              "\n",
              "  // Wait for the user to pick the files.\n",
              "  const files = yield {\n",
              "    promise: Promise.race([pickedPromise, cancelPromise]),\n",
              "    response: {\n",
              "      action: 'starting',\n",
              "    }\n",
              "  };\n",
              "\n",
              "  cancel.remove();\n",
              "\n",
              "  // Disable the input element since further picks are not allowed.\n",
              "  inputElement.disabled = true;\n",
              "\n",
              "  if (!files) {\n",
              "    return {\n",
              "      response: {\n",
              "        action: 'complete',\n",
              "      }\n",
              "    };\n",
              "  }\n",
              "\n",
              "  for (const file of files) {\n",
              "    const li = document.createElement('li');\n",
              "    li.append(span(file.name, {fontWeight: 'bold'}));\n",
              "    li.append(span(\n",
              "        `(${file.type || 'n/a'}) - ${file.size} bytes, ` +\n",
              "        `last modified: ${\n",
              "            file.lastModifiedDate ? file.lastModifiedDate.toLocaleDateString() :\n",
              "                                    'n/a'} - `));\n",
              "    const percent = span('0% done');\n",
              "    li.appendChild(percent);\n",
              "\n",
              "    outputElement.appendChild(li);\n",
              "\n",
              "    const fileDataPromise = new Promise((resolve) => {\n",
              "      const reader = new FileReader();\n",
              "      reader.onload = (e) => {\n",
              "        resolve(e.target.result);\n",
              "      };\n",
              "      reader.readAsArrayBuffer(file);\n",
              "    });\n",
              "    // Wait for the data to be ready.\n",
              "    let fileData = yield {\n",
              "      promise: fileDataPromise,\n",
              "      response: {\n",
              "        action: 'continue',\n",
              "      }\n",
              "    };\n",
              "\n",
              "    // Use a chunked sending to avoid message size limits. See b/62115660.\n",
              "    let position = 0;\n",
              "    do {\n",
              "      const length = Math.min(fileData.byteLength - position, MAX_PAYLOAD_SIZE);\n",
              "      const chunk = new Uint8Array(fileData, position, length);\n",
              "      position += length;\n",
              "\n",
              "      const base64 = btoa(String.fromCharCode.apply(null, chunk));\n",
              "      yield {\n",
              "        response: {\n",
              "          action: 'append',\n",
              "          file: file.name,\n",
              "          data: base64,\n",
              "        },\n",
              "      };\n",
              "\n",
              "      let percentDone = fileData.byteLength === 0 ?\n",
              "          100 :\n",
              "          Math.round((position / fileData.byteLength) * 100);\n",
              "      percent.textContent = `${percentDone}% done`;\n",
              "\n",
              "    } while (position < fileData.byteLength);\n",
              "  }\n",
              "\n",
              "  // All done.\n",
              "  yield {\n",
              "    response: {\n",
              "      action: 'complete',\n",
              "    }\n",
              "  };\n",
              "}\n",
              "\n",
              "scope.google = scope.google || {};\n",
              "scope.google.colab = scope.google.colab || {};\n",
              "scope.google.colab._files = {\n",
              "  _uploadFiles,\n",
              "  _uploadFilesContinue,\n",
              "};\n",
              "})(self);\n",
              "</script> "
            ]
          },
          "metadata": {}
        },
        {
          "output_type": "stream",
          "name": "stdout",
          "text": [
            "Saving batter_stats_2017.csv to batter_stats_2017 (5).csv\n"
          ]
        }
      ],
      "source": [
        "warnings.filterwarnings(\"ignore\")\n",
        "batter_file_path=files.upload()\n",
        "batter=pd.read_csv(io.BytesIO(batter_file_path['batter_stats_2017.csv']))"
      ]
    },
    {
      "cell_type": "markdown",
      "source": [
        "# 기초 정보"
      ],
      "metadata": {
        "id": "uCGX6C58Gfta"
      },
      "id": "uCGX6C58Gfta"
    },
    {
      "cell_type": "code",
      "execution_count": 5,
      "id": "13efe6c6",
      "metadata": {
        "colab": {
          "base_uri": "https://localhost:8080/"
        },
        "id": "13efe6c6",
        "outputId": "1f814f21-ff3e-45f4-db0a-7c70de5ff3b8"
      },
      "outputs": [
        {
          "output_type": "stream",
          "name": "stdout",
          "text": [
            "<class 'pandas.core.frame.DataFrame'>\n",
            "RangeIndex: 191 entries, 0 to 190\n",
            "Data columns (total 21 columns):\n",
            " #   Column    Non-Null Count  Dtype  \n",
            "---  ------    --------------  -----  \n",
            " 0   선수명       191 non-null    object \n",
            " 1   팀명        191 non-null    object \n",
            " 2   경기        191 non-null    int64  \n",
            " 3   타석        191 non-null    int64  \n",
            " 4   타수        191 non-null    int64  \n",
            " 5   안타        191 non-null    int64  \n",
            " 6   홈런        191 non-null    int64  \n",
            " 7   득점        191 non-null    int64  \n",
            " 8   타점        191 non-null    int64  \n",
            " 9   볼넷        191 non-null    int64  \n",
            " 10  삼진        191 non-null    int64  \n",
            " 11  도루        191 non-null    int64  \n",
            " 12  BABIP     191 non-null    float64\n",
            " 13  타율        191 non-null    float64\n",
            " 14  출루율       191 non-null    float64\n",
            " 15  장타율       191 non-null    float64\n",
            " 16  OPS       191 non-null    float64\n",
            " 17  wOBA      191 non-null    float64\n",
            " 18  WAR       191 non-null    float64\n",
            " 19  연봉(2018)  191 non-null    int64  \n",
            " 20  연봉(2017)  191 non-null    int64  \n",
            "dtypes: float64(7), int64(12), object(2)\n",
            "memory usage: 31.5+ KB\n",
            "None\n"
          ]
        }
      ],
      "source": [
        "print(batter.info())"
      ]
    },
    {
      "cell_type": "code",
      "execution_count": 6,
      "id": "c9f5b176",
      "metadata": {
        "colab": {
          "base_uri": "https://localhost:8080/"
        },
        "id": "c9f5b176",
        "outputId": "4409be90-29c2-4c04-d7db-0e9c693f643a"
      },
      "outputs": [
        {
          "output_type": "execute_result",
          "data": {
            "text/plain": [
              "Index(['선수명', '팀명', '경기', '타석', '타수', '안타', '홈런', '득점', '타점', '볼넷', '삼진', '도루',\n",
              "       'BABIP', '타율', '출루율', '장타율', 'OPS', 'wOBA', 'WAR', '연봉(2018)',\n",
              "       '연봉(2017)'],\n",
              "      dtype='object')"
            ]
          },
          "metadata": {},
          "execution_count": 6
        }
      ],
      "source": [
        "batter.columns"
      ]
    },
    {
      "cell_type": "code",
      "execution_count": 7,
      "id": "324cd1af",
      "metadata": {
        "colab": {
          "base_uri": "https://localhost:8080/",
          "height": 235
        },
        "id": "324cd1af",
        "outputId": "21c98c96-f359-461d-adde-d2bfee898bbf"
      },
      "outputs": [
        {
          "output_type": "execute_result",
          "data": {
            "text/plain": [
              "   선수명   팀명   경기   타석   타수   안타  홈런   득점   타점  볼넷  ...  도루  BABIP     타율  \\\n",
              "0   최정   SK  130  527  430  136  46   89  113  70  ...   1  0.316  0.316   \n",
              "1  최형우  KIA  142  629  514  176  26   98  120  96  ...   0  0.362  0.342   \n",
              "2  박건우   두산  131  543  483  177  20   91   78  41  ...  20  0.390  0.366   \n",
              "3  나성범   NC  125  561  498  173  24  103   99  48  ...  17  0.413  0.347   \n",
              "4  손아섭   롯데  144  667  576  193  20  113   80  83  ...  25  0.374  0.335   \n",
              "\n",
              "     출루율    장타율    OPS   wOBA   WAR  연봉(2018)  연봉(2017)  \n",
              "0  0.427  0.684  1.111  0.442  7.30    120000    120000  \n",
              "1  0.450  0.576  1.026  0.430  7.20    150000    150000  \n",
              "2  0.424  0.582  1.006  0.424  7.04     37000     19500  \n",
              "3  0.415  0.584  0.999  0.416  5.64     43000     35000  \n",
              "4  0.420  0.514  0.934  0.398  5.60    150000     65000  \n",
              "\n",
              "[5 rows x 21 columns]"
            ],
            "text/html": [
              "\n",
              "  <div id=\"df-614e6240-c70a-4b85-97c5-9bba153d14dc\">\n",
              "    <div class=\"colab-df-container\">\n",
              "      <div>\n",
              "<style scoped>\n",
              "    .dataframe tbody tr th:only-of-type {\n",
              "        vertical-align: middle;\n",
              "    }\n",
              "\n",
              "    .dataframe tbody tr th {\n",
              "        vertical-align: top;\n",
              "    }\n",
              "\n",
              "    .dataframe thead th {\n",
              "        text-align: right;\n",
              "    }\n",
              "</style>\n",
              "<table border=\"1\" class=\"dataframe\">\n",
              "  <thead>\n",
              "    <tr style=\"text-align: right;\">\n",
              "      <th></th>\n",
              "      <th>선수명</th>\n",
              "      <th>팀명</th>\n",
              "      <th>경기</th>\n",
              "      <th>타석</th>\n",
              "      <th>타수</th>\n",
              "      <th>안타</th>\n",
              "      <th>홈런</th>\n",
              "      <th>득점</th>\n",
              "      <th>타점</th>\n",
              "      <th>볼넷</th>\n",
              "      <th>...</th>\n",
              "      <th>도루</th>\n",
              "      <th>BABIP</th>\n",
              "      <th>타율</th>\n",
              "      <th>출루율</th>\n",
              "      <th>장타율</th>\n",
              "      <th>OPS</th>\n",
              "      <th>wOBA</th>\n",
              "      <th>WAR</th>\n",
              "      <th>연봉(2018)</th>\n",
              "      <th>연봉(2017)</th>\n",
              "    </tr>\n",
              "  </thead>\n",
              "  <tbody>\n",
              "    <tr>\n",
              "      <th>0</th>\n",
              "      <td>최정</td>\n",
              "      <td>SK</td>\n",
              "      <td>130</td>\n",
              "      <td>527</td>\n",
              "      <td>430</td>\n",
              "      <td>136</td>\n",
              "      <td>46</td>\n",
              "      <td>89</td>\n",
              "      <td>113</td>\n",
              "      <td>70</td>\n",
              "      <td>...</td>\n",
              "      <td>1</td>\n",
              "      <td>0.316</td>\n",
              "      <td>0.316</td>\n",
              "      <td>0.427</td>\n",
              "      <td>0.684</td>\n",
              "      <td>1.111</td>\n",
              "      <td>0.442</td>\n",
              "      <td>7.30</td>\n",
              "      <td>120000</td>\n",
              "      <td>120000</td>\n",
              "    </tr>\n",
              "    <tr>\n",
              "      <th>1</th>\n",
              "      <td>최형우</td>\n",
              "      <td>KIA</td>\n",
              "      <td>142</td>\n",
              "      <td>629</td>\n",
              "      <td>514</td>\n",
              "      <td>176</td>\n",
              "      <td>26</td>\n",
              "      <td>98</td>\n",
              "      <td>120</td>\n",
              "      <td>96</td>\n",
              "      <td>...</td>\n",
              "      <td>0</td>\n",
              "      <td>0.362</td>\n",
              "      <td>0.342</td>\n",
              "      <td>0.450</td>\n",
              "      <td>0.576</td>\n",
              "      <td>1.026</td>\n",
              "      <td>0.430</td>\n",
              "      <td>7.20</td>\n",
              "      <td>150000</td>\n",
              "      <td>150000</td>\n",
              "    </tr>\n",
              "    <tr>\n",
              "      <th>2</th>\n",
              "      <td>박건우</td>\n",
              "      <td>두산</td>\n",
              "      <td>131</td>\n",
              "      <td>543</td>\n",
              "      <td>483</td>\n",
              "      <td>177</td>\n",
              "      <td>20</td>\n",
              "      <td>91</td>\n",
              "      <td>78</td>\n",
              "      <td>41</td>\n",
              "      <td>...</td>\n",
              "      <td>20</td>\n",
              "      <td>0.390</td>\n",
              "      <td>0.366</td>\n",
              "      <td>0.424</td>\n",
              "      <td>0.582</td>\n",
              "      <td>1.006</td>\n",
              "      <td>0.424</td>\n",
              "      <td>7.04</td>\n",
              "      <td>37000</td>\n",
              "      <td>19500</td>\n",
              "    </tr>\n",
              "    <tr>\n",
              "      <th>3</th>\n",
              "      <td>나성범</td>\n",
              "      <td>NC</td>\n",
              "      <td>125</td>\n",
              "      <td>561</td>\n",
              "      <td>498</td>\n",
              "      <td>173</td>\n",
              "      <td>24</td>\n",
              "      <td>103</td>\n",
              "      <td>99</td>\n",
              "      <td>48</td>\n",
              "      <td>...</td>\n",
              "      <td>17</td>\n",
              "      <td>0.413</td>\n",
              "      <td>0.347</td>\n",
              "      <td>0.415</td>\n",
              "      <td>0.584</td>\n",
              "      <td>0.999</td>\n",
              "      <td>0.416</td>\n",
              "      <td>5.64</td>\n",
              "      <td>43000</td>\n",
              "      <td>35000</td>\n",
              "    </tr>\n",
              "    <tr>\n",
              "      <th>4</th>\n",
              "      <td>손아섭</td>\n",
              "      <td>롯데</td>\n",
              "      <td>144</td>\n",
              "      <td>667</td>\n",
              "      <td>576</td>\n",
              "      <td>193</td>\n",
              "      <td>20</td>\n",
              "      <td>113</td>\n",
              "      <td>80</td>\n",
              "      <td>83</td>\n",
              "      <td>...</td>\n",
              "      <td>25</td>\n",
              "      <td>0.374</td>\n",
              "      <td>0.335</td>\n",
              "      <td>0.420</td>\n",
              "      <td>0.514</td>\n",
              "      <td>0.934</td>\n",
              "      <td>0.398</td>\n",
              "      <td>5.60</td>\n",
              "      <td>150000</td>\n",
              "      <td>65000</td>\n",
              "    </tr>\n",
              "  </tbody>\n",
              "</table>\n",
              "<p>5 rows × 21 columns</p>\n",
              "</div>\n",
              "      <button class=\"colab-df-convert\" onclick=\"convertToInteractive('df-614e6240-c70a-4b85-97c5-9bba153d14dc')\"\n",
              "              title=\"Convert this dataframe to an interactive table.\"\n",
              "              style=\"display:none;\">\n",
              "        \n",
              "  <svg xmlns=\"http://www.w3.org/2000/svg\" height=\"24px\"viewBox=\"0 0 24 24\"\n",
              "       width=\"24px\">\n",
              "    <path d=\"M0 0h24v24H0V0z\" fill=\"none\"/>\n",
              "    <path d=\"M18.56 5.44l.94 2.06.94-2.06 2.06-.94-2.06-.94-.94-2.06-.94 2.06-2.06.94zm-11 1L8.5 8.5l.94-2.06 2.06-.94-2.06-.94L8.5 2.5l-.94 2.06-2.06.94zm10 10l.94 2.06.94-2.06 2.06-.94-2.06-.94-.94-2.06-.94 2.06-2.06.94z\"/><path d=\"M17.41 7.96l-1.37-1.37c-.4-.4-.92-.59-1.43-.59-.52 0-1.04.2-1.43.59L10.3 9.45l-7.72 7.72c-.78.78-.78 2.05 0 2.83L4 21.41c.39.39.9.59 1.41.59.51 0 1.02-.2 1.41-.59l7.78-7.78 2.81-2.81c.8-.78.8-2.07 0-2.86zM5.41 20L4 18.59l7.72-7.72 1.47 1.35L5.41 20z\"/>\n",
              "  </svg>\n",
              "      </button>\n",
              "      \n",
              "  <style>\n",
              "    .colab-df-container {\n",
              "      display:flex;\n",
              "      flex-wrap:wrap;\n",
              "      gap: 12px;\n",
              "    }\n",
              "\n",
              "    .colab-df-convert {\n",
              "      background-color: #E8F0FE;\n",
              "      border: none;\n",
              "      border-radius: 50%;\n",
              "      cursor: pointer;\n",
              "      display: none;\n",
              "      fill: #1967D2;\n",
              "      height: 32px;\n",
              "      padding: 0 0 0 0;\n",
              "      width: 32px;\n",
              "    }\n",
              "\n",
              "    .colab-df-convert:hover {\n",
              "      background-color: #E2EBFA;\n",
              "      box-shadow: 0px 1px 2px rgba(60, 64, 67, 0.3), 0px 1px 3px 1px rgba(60, 64, 67, 0.15);\n",
              "      fill: #174EA6;\n",
              "    }\n",
              "\n",
              "    [theme=dark] .colab-df-convert {\n",
              "      background-color: #3B4455;\n",
              "      fill: #D2E3FC;\n",
              "    }\n",
              "\n",
              "    [theme=dark] .colab-df-convert:hover {\n",
              "      background-color: #434B5C;\n",
              "      box-shadow: 0px 1px 3px 1px rgba(0, 0, 0, 0.15);\n",
              "      filter: drop-shadow(0px 1px 2px rgba(0, 0, 0, 0.3));\n",
              "      fill: #FFFFFF;\n",
              "    }\n",
              "  </style>\n",
              "\n",
              "      <script>\n",
              "        const buttonEl =\n",
              "          document.querySelector('#df-614e6240-c70a-4b85-97c5-9bba153d14dc button.colab-df-convert');\n",
              "        buttonEl.style.display =\n",
              "          google.colab.kernel.accessAllowed ? 'block' : 'none';\n",
              "\n",
              "        async function convertToInteractive(key) {\n",
              "          const element = document.querySelector('#df-614e6240-c70a-4b85-97c5-9bba153d14dc');\n",
              "          const dataTable =\n",
              "            await google.colab.kernel.invokeFunction('convertToInteractive',\n",
              "                                                     [key], {});\n",
              "          if (!dataTable) return;\n",
              "\n",
              "          const docLinkHtml = 'Like what you see? Visit the ' +\n",
              "            '<a target=\"_blank\" href=https://colab.research.google.com/notebooks/data_table.ipynb>data table notebook</a>'\n",
              "            + ' to learn more about interactive tables.';\n",
              "          element.innerHTML = '';\n",
              "          dataTable['output_type'] = 'display_data';\n",
              "          await google.colab.output.renderOutput(dataTable, element);\n",
              "          const docLink = document.createElement('div');\n",
              "          docLink.innerHTML = docLinkHtml;\n",
              "          element.appendChild(docLink);\n",
              "        }\n",
              "      </script>\n",
              "    </div>\n",
              "  </div>\n",
              "  "
            ]
          },
          "metadata": {},
          "execution_count": 7
        }
      ],
      "source": [
        "batter.head()"
      ]
    },
    {
      "cell_type": "code",
      "execution_count": 8,
      "id": "6aaff3f6",
      "metadata": {
        "colab": {
          "base_uri": "https://localhost:8080/"
        },
        "id": "6aaff3f6",
        "outputId": "1bb0ae47-ca87-4d43-d1b4-6485dcb28e02"
      },
      "outputs": [
        {
          "output_type": "execute_result",
          "data": {
            "text/plain": [
              "(191, 21)"
            ]
          },
          "metadata": {},
          "execution_count": 8
        }
      ],
      "source": [
        "batter.shape\n"
      ]
    },
    {
      "cell_type": "code",
      "execution_count": 9,
      "id": "6f84ff80",
      "metadata": {
        "colab": {
          "base_uri": "https://localhost:8080/"
        },
        "id": "6f84ff80",
        "outputId": "957aab45-e376-45aa-9b19-bfea6c2b37c6"
      },
      "outputs": [
        {
          "output_type": "execute_result",
          "data": {
            "text/plain": [
              "count       191.000000\n",
              "mean      20625.654450\n",
              "std       31978.855209\n",
              "min        2700.000000\n",
              "25%        4200.000000\n",
              "50%        7500.000000\n",
              "75%       25000.000000\n",
              "max      250000.000000\n",
              "Name: 연봉(2018), dtype: float64"
            ]
          },
          "metadata": {},
          "execution_count": 9
        }
      ],
      "source": [
        "batter['연봉(2018)'].describe()"
      ]
    },
    {
      "cell_type": "code",
      "execution_count": 10,
      "id": "7aba8e54",
      "metadata": {
        "colab": {
          "base_uri": "https://localhost:8080/",
          "height": 283
        },
        "id": "7aba8e54",
        "outputId": "eba42b07-43fa-4d86-b180-8c3fdf739769"
      },
      "outputs": [
        {
          "output_type": "execute_result",
          "data": {
            "text/plain": [
              "<matplotlib.axes._subplots.AxesSubplot at 0x7f6e2b104ee0>"
            ]
          },
          "metadata": {},
          "execution_count": 10
        },
        {
          "output_type": "display_data",
          "data": {
            "text/plain": [
              "<Figure size 432x288 with 1 Axes>"
            ],
            "image/png": "[encoded data removed]"
          },
          "metadata": {
            "needs_background": "light"
          }
        }
      ],
      "source": [
        "batter['연봉(2018)'].hist(bins=10)"
      ]
    },
    {
      "cell_type": "code",
      "execution_count": 11,
      "id": "1b007423",
      "metadata": {
        "colab": {
          "base_uri": "https://localhost:8080/",
          "height": 265
        },
        "id": "1b007423",
        "outputId": "3de7f0d3-b00a-446e-e6f4-9651124ca89a"
      },
      "outputs": [
        {
          "output_type": "display_data",
          "data": {
            "text/plain": [
              "<Figure size 432x288 with 1 Axes>"
            ],
            "image/png": "[encoded data removed]"
          },
          "metadata": {
            "needs_background": "light"
          }
        }
      ],
      "source": [
        "batter.boxplot(column=['연봉(2018)'])\n",
        "plt.rc('font',family='NanumGothic')"
      ]
    },
    {
      "cell_type": "code",
      "execution_count": 12,
      "id": "2ce45581",
      "metadata": {
        "colab": {
          "base_uri": "https://localhost:8080/",
          "height": 284
        },
        "id": "2ce45581",
        "outputId": "5b8d6f34-6b3e-4ac7-a3b1-0625fb869f13"
      },
      "outputs": [
        {
          "output_type": "execute_result",
          "data": {
            "text/plain": [
              "<matplotlib.axes._subplots.AxesSubplot at 0x7f6e2ab1a730>"
            ]
          },
          "metadata": {},
          "execution_count": 12
        },
        {
          "output_type": "display_data",
          "data": {
            "text/plain": [
              "<Figure size 432x288 with 1 Axes>"
            ],
            "image/png": "[encoded data removed]"
          },
          "metadata": {
            "needs_background": "light"
          }
        }
      ],
      "source": [
        "batter.boxplot()\n"
      ]
    },
    {
      "cell_type": "code",
      "execution_count": 13,
      "id": "7d09df90",
      "metadata": {
        "colab": {
          "base_uri": "https://localhost:8080/",
          "height": 0
        },
        "id": "7d09df90",
        "outputId": "0ac8a381-c16e-4f12-d69e-59ce016c5f72"
      },
      "outputs": [
        {
          "output_type": "display_data",
          "data": {
            "text/plain": [
              "<Figure size 1440x1152 with 19 Axes>"
            ],
            "image/png": "[encoded data removed]"
          },
          "metadata": {
            "needs_background": "light"
          }
        }
      ],
      "source": [
        "batter_features_df=batter[['경기', '타석', '타수', '안타', '홈런', '득점', '타점', '볼넷', '삼진', '도루', 'BABIP', '타율', '출루율', '장타율', 'OPS', 'wOBA', 'WAR', '연봉(2018)', '연봉(2017)']]\n",
        "def plt_hist_each_column(df):\n",
        "    plt.rcParams['figure.figsize']=[20,16]\n",
        "    fig=plt.figure(1)\n",
        "    \n",
        "    for i in range(len(df.columns)):\n",
        "        ax = fig.add_subplot(5,5,i+1)\n",
        "        plt.hist(df[df.columns[i]],bins=50)\n",
        "        ax.set_title(df.columns[i])\n",
        "    plt.show()\n",
        "    \n",
        "plt_hist_each_column(batter_features_df)"
      ]
    },
    {
      "cell_type": "markdown",
      "source": [
        "# 피처 스케일링"
      ],
      "metadata": {
        "id": "tVZI1tSDiIcR"
      },
      "id": "tVZI1tSDiIcR"
    },
    {
      "cell_type": "code",
      "execution_count": 14,
      "id": "c6b4142c",
      "metadata": {
        "colab": {
          "base_uri": "https://localhost:8080/",
          "height": 490
        },
        "id": "c6b4142c",
        "outputId": "14e9329c-8ff6-4ab5-a9cb-eddefc09710d"
      },
      "outputs": [
        {
          "output_type": "execute_result",
          "data": {
            "text/plain": [
              "   선수명   팀명        경기        타석        타수        안타        홈런        득점  \\\n",
              "0   최정   SK  1.149505  1.434367  1.231734  1.344928  4.621390  1.871933   \n",
              "1  최형우  KIA  1.413314  1.952604  1.716832  2.074446  2.289944  2.174277   \n",
              "2  박건우   두산  1.171489  1.515659  1.537807  2.092684  1.590510  1.939120   \n",
              "3  나성범   NC  1.039584  1.607113  1.624432  2.019732  2.056799  2.342246   \n",
              "4  손아섭   롯데  1.457283  2.145672  2.074881  2.384491  1.590510  2.678185   \n",
              "\n",
              "         타점        볼넷  ...        도루     BABIP        타율       출루율       장타율  \\\n",
              "0  2.601791  2.595310  ... -0.448042  0.112293  0.647202  1.064628  2.156064   \n",
              "1  2.823399  3.927160  ... -0.615839  0.467572  0.899677  1.267954  1.424382   \n",
              "2  1.493746  1.109785  ...  2.740086  0.683829  1.132730  1.038107  1.465031   \n",
              "3  2.158573  1.468360  ...  2.236697  0.861468  0.948230  0.958544  1.478581   \n",
              "4  1.557063  3.261235  ...  3.579067  0.560253  0.831703  1.002746  1.004343   \n",
              "\n",
              "        OPS      wOBA       WAR       y  연봉(2017)  \n",
              "0  1.732763  1.380264  3.857382  120000  3.264136  \n",
              "1  1.397014  1.268659  3.798140  150000  4.234754  \n",
              "2  1.318014  1.212856  3.703353   37000  0.012569  \n",
              "3  1.290364  1.138453  2.873969   43000  0.514054  \n",
              "4  1.033615  0.971045  2.850272  150000  1.484672  \n",
              "\n",
              "[5 rows x 21 columns]"
            ],
            "text/html": [
              "\n",
              "  <div id=\"df-33e76dc1-8293-41bd-820b-31ea888a72b7\">\n",
              "    <div class=\"colab-df-container\">\n",
              "      <div>\n",
              "<style scoped>\n",
              "    .dataframe tbody tr th:only-of-type {\n",
              "        vertical-align: middle;\n",
              "    }\n",
              "\n",
              "    .dataframe tbody tr th {\n",
              "        vertical-align: top;\n",
              "    }\n",
              "\n",
              "    .dataframe thead th {\n",
              "        text-align: right;\n",
              "    }\n",
              "</style>\n",
              "<table border=\"1\" class=\"dataframe\">\n",
              "  <thead>\n",
              "    <tr style=\"text-align: right;\">\n",
              "      <th></th>\n",
              "      <th>선수명</th>\n",
              "      <th>팀명</th>\n",
              "      <th>경기</th>\n",
              "      <th>타석</th>\n",
              "      <th>타수</th>\n",
              "      <th>안타</th>\n",
              "      <th>홈런</th>\n",
              "      <th>득점</th>\n",
              "      <th>타점</th>\n",
              "      <th>볼넷</th>\n",
              "      <th>...</th>\n",
              "      <th>도루</th>\n",
              "      <th>BABIP</th>\n",
              "      <th>타율</th>\n",
              "      <th>출루율</th>\n",
              "      <th>장타율</th>\n",
              "      <th>OPS</th>\n",
              "      <th>wOBA</th>\n",
              "      <th>WAR</th>\n",
              "      <th>y</th>\n",
              "      <th>연봉(2017)</th>\n",
              "    </tr>\n",
              "  </thead>\n",
              "  <tbody>\n",
              "    <tr>\n",
              "      <th>0</th>\n",
              "      <td>최정</td>\n",
              "      <td>SK</td>\n",
              "      <td>1.149505</td>\n",
              "      <td>1.434367</td>\n",
              "      <td>1.231734</td>\n",
              "      <td>1.344928</td>\n",
              "      <td>4.621390</td>\n",
              "      <td>1.871933</td>\n",
              "      <td>2.601791</td>\n",
              "      <td>2.595310</td>\n",
              "      <td>...</td>\n",
              "      <td>-0.448042</td>\n",
              "      <td>0.112293</td>\n",
              "      <td>0.647202</td>\n",
              "      <td>1.064628</td>\n",
              "      <td>2.156064</td>\n",
              "      <td>1.732763</td>\n",
              "      <td>1.380264</td>\n",
              "      <td>3.857382</td>\n",
              "      <td>120000</td>\n",
              "      <td>3.264136</td>\n",
              "    </tr>\n",
              "    <tr>\n",
              "      <th>1</th>\n",
              "      <td>최형우</td>\n",
              "      <td>KIA</td>\n",
              "      <td>1.413314</td>\n",
              "      <td>1.952604</td>\n",
              "      <td>1.716832</td>\n",
              "      <td>2.074446</td>\n",
              "      <td>2.289944</td>\n",
              "      <td>2.174277</td>\n",
              "      <td>2.823399</td>\n",
              "      <td>3.927160</td>\n",
              "      <td>...</td>\n",
              "      <td>-0.615839</td>\n",
              "      <td>0.467572</td>\n",
              "      <td>0.899677</td>\n",
              "      <td>1.267954</td>\n",
              "      <td>1.424382</td>\n",
              "      <td>1.397014</td>\n",
              "      <td>1.268659</td>\n",
              "      <td>3.798140</td>\n",
              "      <td>150000</td>\n",
              "      <td>4.234754</td>\n",
              "    </tr>\n",
              "    <tr>\n",
              "      <th>2</th>\n",
              "      <td>박건우</td>\n",
              "      <td>두산</td>\n",
              "      <td>1.171489</td>\n",
              "      <td>1.515659</td>\n",
              "      <td>1.537807</td>\n",
              "      <td>2.092684</td>\n",
              "      <td>1.590510</td>\n",
              "      <td>1.939120</td>\n",
              "      <td>1.493746</td>\n",
              "      <td>1.109785</td>\n",
              "      <td>...</td>\n",
              "      <td>2.740086</td>\n",
              "      <td>0.683829</td>\n",
              "      <td>1.132730</td>\n",
              "      <td>1.038107</td>\n",
              "      <td>1.465031</td>\n",
              "      <td>1.318014</td>\n",
              "      <td>1.212856</td>\n",
              "      <td>3.703353</td>\n",
              "      <td>37000</td>\n",
              "      <td>0.012569</td>\n",
              "    </tr>\n",
              "    <tr>\n",
              "      <th>3</th>\n",
              "      <td>나성범</td>\n",
              "      <td>NC</td>\n",
              "      <td>1.039584</td>\n",
              "      <td>1.607113</td>\n",
              "      <td>1.624432</td>\n",
              "      <td>2.019732</td>\n",
              "      <td>2.056799</td>\n",
              "      <td>2.342246</td>\n",
              "      <td>2.158573</td>\n",
              "      <td>1.468360</td>\n",
              "      <td>...</td>\n",
              "      <td>2.236697</td>\n",
              "      <td>0.861468</td>\n",
              "      <td>0.948230</td>\n",
              "      <td>0.958544</td>\n",
              "      <td>1.478581</td>\n",
              "      <td>1.290364</td>\n",
              "      <td>1.138453</td>\n",
              "      <td>2.873969</td>\n",
              "      <td>43000</td>\n",
              "      <td>0.514054</td>\n",
              "    </tr>\n",
              "    <tr>\n",
              "      <th>4</th>\n",
              "      <td>손아섭</td>\n",
              "      <td>롯데</td>\n",
              "      <td>1.457283</td>\n",
              "      <td>2.145672</td>\n",
              "      <td>2.074881</td>\n",
              "      <td>2.384491</td>\n",
              "      <td>1.590510</td>\n",
              "      <td>2.678185</td>\n",
              "      <td>1.557063</td>\n",
              "      <td>3.261235</td>\n",
              "      <td>...</td>\n",
              "      <td>3.579067</td>\n",
              "      <td>0.560253</td>\n",
              "      <td>0.831703</td>\n",
              "      <td>1.002746</td>\n",
              "      <td>1.004343</td>\n",
              "      <td>1.033615</td>\n",
              "      <td>0.971045</td>\n",
              "      <td>2.850272</td>\n",
              "      <td>150000</td>\n",
              "      <td>1.484672</td>\n",
              "    </tr>\n",
              "  </tbody>\n",
              "</table>\n",
              "<p>5 rows × 21 columns</p>\n",
              "</div>\n",
              "      <button class=\"colab-df-convert\" onclick=\"convertToInteractive('df-33e76dc1-8293-41bd-820b-31ea888a72b7')\"\n",
              "              title=\"Convert this dataframe to an interactive table.\"\n",
              "              style=\"display:none;\">\n",
              "        \n",
              "  <svg xmlns=\"http://www.w3.org/2000/svg\" height=\"24px\"viewBox=\"0 0 24 24\"\n",
              "       width=\"24px\">\n",
              "    <path d=\"M0 0h24v24H0V0z\" fill=\"none\"/>\n",
              "    <path d=\"M18.56 5.44l.94 2.06.94-2.06 2.06-.94-2.06-.94-.94-2.06-.94 2.06-2.06.94zm-11 1L8.5 8.5l.94-2.06 2.06-.94-2.06-.94L8.5 2.5l-.94 2.06-2.06.94zm10 10l.94 2.06.94-2.06 2.06-.94-2.06-.94-.94-2.06-.94 2.06-2.06.94z\"/><path d=\"M17.41 7.96l-1.37-1.37c-.4-.4-.92-.59-1.43-.59-.52 0-1.04.2-1.43.59L10.3 9.45l-7.72 7.72c-.78.78-.78 2.05 0 2.83L4 21.41c.39.39.9.59 1.41.59.51 0 1.02-.2 1.41-.59l7.78-7.78 2.81-2.81c.8-.78.8-2.07 0-2.86zM5.41 20L4 18.59l7.72-7.72 1.47 1.35L5.41 20z\"/>\n",
              "  </svg>\n",
              "      </button>\n",
              "      \n",
              "  <style>\n",
              "    .colab-df-container {\n",
              "      display:flex;\n",
              "      flex-wrap:wrap;\n",
              "      gap: 12px;\n",
              "    }\n",
              "\n",
              "    .colab-df-convert {\n",
              "      background-color: #E8F0FE;\n",
              "      border: none;\n",
              "      border-radius: 50%;\n",
              "      cursor: pointer;\n",
              "      display: none;\n",
              "      fill: #1967D2;\n",
              "      height: 32px;\n",
              "      padding: 0 0 0 0;\n",
              "      width: 32px;\n",
              "    }\n",
              "\n",
              "    .colab-df-convert:hover {\n",
              "      background-color: #E2EBFA;\n",
              "      box-shadow: 0px 1px 2px rgba(60, 64, 67, 0.3), 0px 1px 3px 1px rgba(60, 64, 67, 0.15);\n",
              "      fill: #174EA6;\n",
              "    }\n",
              "\n",
              "    [theme=dark] .colab-df-convert {\n",
              "      background-color: #3B4455;\n",
              "      fill: #D2E3FC;\n",
              "    }\n",
              "\n",
              "    [theme=dark] .colab-df-convert:hover {\n",
              "      background-color: #434B5C;\n",
              "      box-shadow: 0px 1px 3px 1px rgba(0, 0, 0, 0.15);\n",
              "      filter: drop-shadow(0px 1px 2px rgba(0, 0, 0, 0.3));\n",
              "      fill: #FFFFFF;\n",
              "    }\n",
              "  </style>\n",
              "\n",
              "      <script>\n",
              "        const buttonEl =\n",
              "          document.querySelector('#df-33e76dc1-8293-41bd-820b-31ea888a72b7 button.colab-df-convert');\n",
              "        buttonEl.style.display =\n",
              "          google.colab.kernel.accessAllowed ? 'block' : 'none';\n",
              "\n",
              "        async function convertToInteractive(key) {\n",
              "          const element = document.querySelector('#df-33e76dc1-8293-41bd-820b-31ea888a72b7');\n",
              "          const dataTable =\n",
              "            await google.colab.kernel.invokeFunction('convertToInteractive',\n",
              "                                                     [key], {});\n",
              "          if (!dataTable) return;\n",
              "\n",
              "          const docLinkHtml = 'Like what you see? Visit the ' +\n",
              "            '<a target=\"_blank\" href=https://colab.research.google.com/notebooks/data_table.ipynb>data table notebook</a>'\n",
              "            + ' to learn more about interactive tables.';\n",
              "          element.innerHTML = '';\n",
              "          dataTable['output_type'] = 'display_data';\n",
              "          await google.colab.output.renderOutput(dataTable, element);\n",
              "          const docLink = document.createElement('div');\n",
              "          docLink.innerHTML = docLinkHtml;\n",
              "          element.appendChild(docLink);\n",
              "        }\n",
              "      </script>\n",
              "    </div>\n",
              "  </div>\n",
              "  "
            ]
          },
          "metadata": {},
          "execution_count": 14
        }
      ],
      "source": [
        "pd.options.mode.chained_assignment = None\n",
        "\n",
        "def standard_scaling(df, scale_columns):\n",
        "  for col in scale_columns:\n",
        "    series_mean = df[col].mean()\n",
        "    series_std = df[col].std()\n",
        "    df[col] = df[col].apply(lambda x: (x-series_mean)/series_std)\n",
        "  return df\n",
        "\n",
        "scale_columns = ['경기', '타석', '타수', '안타', '홈런', '득점', '타점', '볼넷', '삼진', '도루', 'BABIP', '타율', '출루율', '장타율', 'OPS', 'wOBA', 'WAR','연봉(2017)']\n",
        "\n",
        "batter_df = standard_scaling(batter, scale_columns)\n",
        "batter_df = batter_df.rename(columns={'연봉(2018)':'y'})\n",
        "batter_df.head(5)"
      ]
    },
    {
      "cell_type": "markdown",
      "source": [
        "# 범주형 피처 정규화"
      ],
      "metadata": {
        "id": "zC3ULT1FviUA"
      },
      "id": "zC3ULT1FviUA"
    },
    {
      "cell_type": "code",
      "source": [
        "# 팀명 피처를 one-hot encoding으로 변환\n",
        "team_encoding = pd.get_dummies(batter_df['팀명'])\n",
        "team_encoding.head(5)"
      ],
      "metadata": {
        "colab": {
          "base_uri": "https://localhost:8080/",
          "height": 206
        },
        "id": "rqU8qJy5uI73",
        "outputId": "11bb85c2-a192-4f6e-cfd3-bc36c99cc468"
      },
      "id": "rqU8qJy5uI73",
      "execution_count": 15,
      "outputs": [
        {
          "output_type": "execute_result",
          "data": {
            "text/plain": [
              "   KIA  KT  LG  NC  SK  넥센  두산  롯데  삼성  한화\n",
              "0    0   0   0   0   1   0   0   0   0   0\n",
              "1    1   0   0   0   0   0   0   0   0   0\n",
              "2    0   0   0   0   0   0   1   0   0   0\n",
              "3    0   0   0   1   0   0   0   0   0   0\n",
              "4    0   0   0   0   0   0   0   1   0   0"
            ],
            "text/html": [
              "\n",
              "  <div id=\"df-c075db80-8c6a-45b8-9aec-9a69d550a43c\">\n",
              "    <div class=\"colab-df-container\">\n",
              "      <div>\n",
              "<style scoped>\n",
              "    .dataframe tbody tr th:only-of-type {\n",
              "        vertical-align: middle;\n",
              "    }\n",
              "\n",
              "    .dataframe tbody tr th {\n",
              "        vertical-align: top;\n",
              "    }\n",
              "\n",
              "    .dataframe thead th {\n",
              "        text-align: right;\n",
              "    }\n",
              "</style>\n",
              "<table border=\"1\" class=\"dataframe\">\n",
              "  <thead>\n",
              "    <tr style=\"text-align: right;\">\n",
              "      <th></th>\n",
              "      <th>KIA</th>\n",
              "      <th>KT</th>\n",
              "      <th>LG</th>\n",
              "      <th>NC</th>\n",
              "      <th>SK</th>\n",
              "      <th>넥센</th>\n",
              "      <th>두산</th>\n",
              "      <th>롯데</th>\n",
              "      <th>삼성</th>\n",
              "      <th>한화</th>\n",
              "    </tr>\n",
              "  </thead>\n",
              "  <tbody>\n",
              "    <tr>\n",
              "      <th>0</th>\n",
              "      <td>0</td>\n",
              "      <td>0</td>\n",
              "      <td>0</td>\n",
              "      <td>0</td>\n",
              "      <td>1</td>\n",
              "      <td>0</td>\n",
              "      <td>0</td>\n",
              "      <td>0</td>\n",
              "      <td>0</td>\n",
              "      <td>0</td>\n",
              "    </tr>\n",
              "    <tr>\n",
              "      <th>1</th>\n",
              "      <td>1</td>\n",
              "      <td>0</td>\n",
              "      <td>0</td>\n",
              "      <td>0</td>\n",
              "      <td>0</td>\n",
              "      <td>0</td>\n",
              "      <td>0</td>\n",
              "      <td>0</td>\n",
              "      <td>0</td>\n",
              "      <td>0</td>\n",
              "    </tr>\n",
              "    <tr>\n",
              "      <th>2</th>\n",
              "      <td>0</td>\n",
              "      <td>0</td>\n",
              "      <td>0</td>\n",
              "      <td>0</td>\n",
              "      <td>0</td>\n",
              "      <td>0</td>\n",
              "      <td>1</td>\n",
              "      <td>0</td>\n",
              "      <td>0</td>\n",
              "      <td>0</td>\n",
              "    </tr>\n",
              "    <tr>\n",
              "      <th>3</th>\n",
              "      <td>0</td>\n",
              "      <td>0</td>\n",
              "      <td>0</td>\n",
              "      <td>1</td>\n",
              "      <td>0</td>\n",
              "      <td>0</td>\n",
              "      <td>0</td>\n",
              "      <td>0</td>\n",
              "      <td>0</td>\n",
              "      <td>0</td>\n",
              "    </tr>\n",
              "    <tr>\n",
              "      <th>4</th>\n",
              "      <td>0</td>\n",
              "      <td>0</td>\n",
              "      <td>0</td>\n",
              "      <td>0</td>\n",
              "      <td>0</td>\n",
              "      <td>0</td>\n",
              "      <td>0</td>\n",
              "      <td>1</td>\n",
              "      <td>0</td>\n",
              "      <td>0</td>\n",
              "    </tr>\n",
              "  </tbody>\n",
              "</table>\n",
              "</div>\n",
              "      <button class=\"colab-df-convert\" onclick=\"convertToInteractive('df-c075db80-8c6a-45b8-9aec-9a69d550a43c')\"\n",
              "              title=\"Convert this dataframe to an interactive table.\"\n",
              "              style=\"display:none;\">\n",
              "        \n",
              "  <svg xmlns=\"http://www.w3.org/2000/svg\" height=\"24px\"viewBox=\"0 0 24 24\"\n",
              "       width=\"24px\">\n",
              "    <path d=\"M0 0h24v24H0V0z\" fill=\"none\"/>\n",
              "    <path d=\"M18.56 5.44l.94 2.06.94-2.06 2.06-.94-2.06-.94-.94-2.06-.94 2.06-2.06.94zm-11 1L8.5 8.5l.94-2.06 2.06-.94-2.06-.94L8.5 2.5l-.94 2.06-2.06.94zm10 10l.94 2.06.94-2.06 2.06-.94-2.06-.94-.94-2.06-.94 2.06-2.06.94z\"/><path d=\"M17.41 7.96l-1.37-1.37c-.4-.4-.92-.59-1.43-.59-.52 0-1.04.2-1.43.59L10.3 9.45l-7.72 7.72c-.78.78-.78 2.05 0 2.83L4 21.41c.39.39.9.59 1.41.59.51 0 1.02-.2 1.41-.59l7.78-7.78 2.81-2.81c.8-.78.8-2.07 0-2.86zM5.41 20L4 18.59l7.72-7.72 1.47 1.35L5.41 20z\"/>\n",
              "  </svg>\n",
              "      </button>\n",
              "      \n",
              "  <style>\n",
              "    .colab-df-container {\n",
              "      display:flex;\n",
              "      flex-wrap:wrap;\n",
              "      gap: 12px;\n",
              "    }\n",
              "\n",
              "    .colab-df-convert {\n",
              "      background-color: #E8F0FE;\n",
              "      border: none;\n",
              "      border-radius: 50%;\n",
              "      cursor: pointer;\n",
              "      display: none;\n",
              "      fill: #1967D2;\n",
              "      height: 32px;\n",
              "      padding: 0 0 0 0;\n",
              "      width: 32px;\n",
              "    }\n",
              "\n",
              "    .colab-df-convert:hover {\n",
              "      background-color: #E2EBFA;\n",
              "      box-shadow: 0px 1px 2px rgba(60, 64, 67, 0.3), 0px 1px 3px 1px rgba(60, 64, 67, 0.15);\n",
              "      fill: #174EA6;\n",
              "    }\n",
              "\n",
              "    [theme=dark] .colab-df-convert {\n",
              "      background-color: #3B4455;\n",
              "      fill: #D2E3FC;\n",
              "    }\n",
              "\n",
              "    [theme=dark] .colab-df-convert:hover {\n",
              "      background-color: #434B5C;\n",
              "      box-shadow: 0px 1px 3px 1px rgba(0, 0, 0, 0.15);\n",
              "      filter: drop-shadow(0px 1px 2px rgba(0, 0, 0, 0.3));\n",
              "      fill: #FFFFFF;\n",
              "    }\n",
              "  </style>\n",
              "\n",
              "      <script>\n",
              "        const buttonEl =\n",
              "          document.querySelector('#df-c075db80-8c6a-45b8-9aec-9a69d550a43c button.colab-df-convert');\n",
              "        buttonEl.style.display =\n",
              "          google.colab.kernel.accessAllowed ? 'block' : 'none';\n",
              "\n",
              "        async function convertToInteractive(key) {\n",
              "          const element = document.querySelector('#df-c075db80-8c6a-45b8-9aec-9a69d550a43c');\n",
              "          const dataTable =\n",
              "            await google.colab.kernel.invokeFunction('convertToInteractive',\n",
              "                                                     [key], {});\n",
              "          if (!dataTable) return;\n",
              "\n",
              "          const docLinkHtml = 'Like what you see? Visit the ' +\n",
              "            '<a target=\"_blank\" href=https://colab.research.google.com/notebooks/data_table.ipynb>data table notebook</a>'\n",
              "            + ' to learn more about interactive tables.';\n",
              "          element.innerHTML = '';\n",
              "          dataTable['output_type'] = 'display_data';\n",
              "          await google.colab.output.renderOutput(dataTable, element);\n",
              "          const docLink = document.createElement('div');\n",
              "          docLink.innerHTML = docLinkHtml;\n",
              "          element.appendChild(docLink);\n",
              "        }\n",
              "      </script>\n",
              "    </div>\n",
              "  </div>\n",
              "  "
            ]
          },
          "metadata": {},
          "execution_count": 15
        }
      ]
    },
    {
      "cell_type": "code",
      "source": [
        "batter_df = batter_df.drop('팀명', axis=1)\n",
        "batter_df = batter_df.join(team_encoding)\n",
        "batter_df.head(5)"
      ],
      "metadata": {
        "colab": {
          "base_uri": "https://localhost:8080/",
          "height": 279
        },
        "id": "t_Obtn8ZvMR8",
        "outputId": "7ddf07ee-94c7-4805-970e-9effa30fa190"
      },
      "id": "t_Obtn8ZvMR8",
      "execution_count": 16,
      "outputs": [
        {
          "output_type": "execute_result",
          "data": {
            "text/plain": [
              "   선수명        경기        타석        타수        안타        홈런        득점        타점  \\\n",
              "0   최정  1.149505  1.434367  1.231734  1.344928  4.621390  1.871933  2.601791   \n",
              "1  최형우  1.413314  1.952604  1.716832  2.074446  2.289944  2.174277  2.823399   \n",
              "2  박건우  1.171489  1.515659  1.537807  2.092684  1.590510  1.939120  1.493746   \n",
              "3  나성범  1.039584  1.607113  1.624432  2.019732  2.056799  2.342246  2.158573   \n",
              "4  손아섭  1.457283  2.145672  2.074881  2.384491  1.590510  2.678185  1.557063   \n",
              "\n",
              "         볼넷        삼진  ...  KIA  KT  LG  NC  SK  넥센  두산  롯데  삼성  한화  \n",
              "0  2.595310  1.960099  ...    0   0   0   0   1   0   0   0   0   0  \n",
              "1  3.927160  1.204511  ...    1   0   0   0   0   0   0   0   0   0  \n",
              "2  1.109785  0.660487  ...    0   0   0   0   0   0   1   0   0   0  \n",
              "3  1.468360  2.232111  ...    0   0   0   1   0   0   0   0   0   0  \n",
              "4  3.261235  1.627640  ...    0   0   0   0   0   0   0   1   0   0  \n",
              "\n",
              "[5 rows x 30 columns]"
            ],
            "text/html": [
              "\n",
              "  <div id=\"df-b2ec1e22-f3d0-4e52-a04d-bf447cb1ac77\">\n",
              "    <div class=\"colab-df-container\">\n",
              "      <div>\n",
              "<style scoped>\n",
              "    .dataframe tbody tr th:only-of-type {\n",
              "        vertical-align: middle;\n",
              "    }\n",
              "\n",
              "    .dataframe tbody tr th {\n",
              "        vertical-align: top;\n",
              "    }\n",
              "\n",
              "    .dataframe thead th {\n",
              "        text-align: right;\n",
              "    }\n",
              "</style>\n",
              "<table border=\"1\" class=\"dataframe\">\n",
              "  <thead>\n",
              "    <tr style=\"text-align: right;\">\n",
              "      <th></th>\n",
              "      <th>선수명</th>\n",
              "      <th>경기</th>\n",
              "      <th>타석</th>\n",
              "      <th>타수</th>\n",
              "      <th>안타</th>\n",
              "      <th>홈런</th>\n",
              "      <th>득점</th>\n",
              "      <th>타점</th>\n",
              "      <th>볼넷</th>\n",
              "      <th>삼진</th>\n",
              "      <th>...</th>\n",
              "      <th>KIA</th>\n",
              "      <th>KT</th>\n",
              "      <th>LG</th>\n",
              "      <th>NC</th>\n",
              "      <th>SK</th>\n",
              "      <th>넥센</th>\n",
              "      <th>두산</th>\n",
              "      <th>롯데</th>\n",
              "      <th>삼성</th>\n",
              "      <th>한화</th>\n",
              "    </tr>\n",
              "  </thead>\n",
              "  <tbody>\n",
              "    <tr>\n",
              "      <th>0</th>\n",
              "      <td>최정</td>\n",
              "      <td>1.149505</td>\n",
              "      <td>1.434367</td>\n",
              "      <td>1.231734</td>\n",
              "      <td>1.344928</td>\n",
              "      <td>4.621390</td>\n",
              "      <td>1.871933</td>\n",
              "      <td>2.601791</td>\n",
              "      <td>2.595310</td>\n",
              "      <td>1.960099</td>\n",
              "      <td>...</td>\n",
              "      <td>0</td>\n",
              "      <td>0</td>\n",
              "      <td>0</td>\n",
              "      <td>0</td>\n",
              "      <td>1</td>\n",
              "      <td>0</td>\n",
              "      <td>0</td>\n",
              "      <td>0</td>\n",
              "      <td>0</td>\n",
              "      <td>0</td>\n",
              "    </tr>\n",
              "    <tr>\n",
              "      <th>1</th>\n",
              "      <td>최형우</td>\n",
              "      <td>1.413314</td>\n",
              "      <td>1.952604</td>\n",
              "      <td>1.716832</td>\n",
              "      <td>2.074446</td>\n",
              "      <td>2.289944</td>\n",
              "      <td>2.174277</td>\n",
              "      <td>2.823399</td>\n",
              "      <td>3.927160</td>\n",
              "      <td>1.204511</td>\n",
              "      <td>...</td>\n",
              "      <td>1</td>\n",
              "      <td>0</td>\n",
              "      <td>0</td>\n",
              "      <td>0</td>\n",
              "      <td>0</td>\n",
              "      <td>0</td>\n",
              "      <td>0</td>\n",
              "      <td>0</td>\n",
              "      <td>0</td>\n",
              "      <td>0</td>\n",
              "    </tr>\n",
              "    <tr>\n",
              "      <th>2</th>\n",
              "      <td>박건우</td>\n",
              "      <td>1.171489</td>\n",
              "      <td>1.515659</td>\n",
              "      <td>1.537807</td>\n",
              "      <td>2.092684</td>\n",
              "      <td>1.590510</td>\n",
              "      <td>1.939120</td>\n",
              "      <td>1.493746</td>\n",
              "      <td>1.109785</td>\n",
              "      <td>0.660487</td>\n",
              "      <td>...</td>\n",
              "      <td>0</td>\n",
              "      <td>0</td>\n",
              "      <td>0</td>\n",
              "      <td>0</td>\n",
              "      <td>0</td>\n",
              "      <td>0</td>\n",
              "      <td>1</td>\n",
              "      <td>0</td>\n",
              "      <td>0</td>\n",
              "      <td>0</td>\n",
              "    </tr>\n",
              "    <tr>\n",
              "      <th>3</th>\n",
              "      <td>나성범</td>\n",
              "      <td>1.039584</td>\n",
              "      <td>1.607113</td>\n",
              "      <td>1.624432</td>\n",
              "      <td>2.019732</td>\n",
              "      <td>2.056799</td>\n",
              "      <td>2.342246</td>\n",
              "      <td>2.158573</td>\n",
              "      <td>1.468360</td>\n",
              "      <td>2.232111</td>\n",
              "      <td>...</td>\n",
              "      <td>0</td>\n",
              "      <td>0</td>\n",
              "      <td>0</td>\n",
              "      <td>1</td>\n",
              "      <td>0</td>\n",
              "      <td>0</td>\n",
              "      <td>0</td>\n",
              "      <td>0</td>\n",
              "      <td>0</td>\n",
              "      <td>0</td>\n",
              "    </tr>\n",
              "    <tr>\n",
              "      <th>4</th>\n",
              "      <td>손아섭</td>\n",
              "      <td>1.457283</td>\n",
              "      <td>2.145672</td>\n",
              "      <td>2.074881</td>\n",
              "      <td>2.384491</td>\n",
              "      <td>1.590510</td>\n",
              "      <td>2.678185</td>\n",
              "      <td>1.557063</td>\n",
              "      <td>3.261235</td>\n",
              "      <td>1.627640</td>\n",
              "      <td>...</td>\n",
              "      <td>0</td>\n",
              "      <td>0</td>\n",
              "      <td>0</td>\n",
              "      <td>0</td>\n",
              "      <td>0</td>\n",
              "      <td>0</td>\n",
              "      <td>0</td>\n",
              "      <td>1</td>\n",
              "      <td>0</td>\n",
              "      <td>0</td>\n",
              "    </tr>\n",
              "  </tbody>\n",
              "</table>\n",
              "<p>5 rows × 30 columns</p>\n",
              "</div>\n",
              "      <button class=\"colab-df-convert\" onclick=\"convertToInteractive('df-b2ec1e22-f3d0-4e52-a04d-bf447cb1ac77')\"\n",
              "              title=\"Convert this dataframe to an interactive table.\"\n",
              "              style=\"display:none;\">\n",
              "        \n",
              "  <svg xmlns=\"http://www.w3.org/2000/svg\" height=\"24px\"viewBox=\"0 0 24 24\"\n",
              "       width=\"24px\">\n",
              "    <path d=\"M0 0h24v24H0V0z\" fill=\"none\"/>\n",
              "    <path d=\"M18.56 5.44l.94 2.06.94-2.06 2.06-.94-2.06-.94-.94-2.06-.94 2.06-2.06.94zm-11 1L8.5 8.5l.94-2.06 2.06-.94-2.06-.94L8.5 2.5l-.94 2.06-2.06.94zm10 10l.94 2.06.94-2.06 2.06-.94-2.06-.94-.94-2.06-.94 2.06-2.06.94z\"/><path d=\"M17.41 7.96l-1.37-1.37c-.4-.4-.92-.59-1.43-.59-.52 0-1.04.2-1.43.59L10.3 9.45l-7.72 7.72c-.78.78-.78 2.05 0 2.83L4 21.41c.39.39.9.59 1.41.59.51 0 1.02-.2 1.41-.59l7.78-7.78 2.81-2.81c.8-.78.8-2.07 0-2.86zM5.41 20L4 18.59l7.72-7.72 1.47 1.35L5.41 20z\"/>\n",
              "  </svg>\n",
              "      </button>\n",
              "      \n",
              "  <style>\n",
              "    .colab-df-container {\n",
              "      display:flex;\n",
              "      flex-wrap:wrap;\n",
              "      gap: 12px;\n",
              "    }\n",
              "\n",
              "    .colab-df-convert {\n",
              "      background-color: #E8F0FE;\n",
              "      border: none;\n",
              "      border-radius: 50%;\n",
              "      cursor: pointer;\n",
              "      display: none;\n",
              "      fill: #1967D2;\n",
              "      height: 32px;\n",
              "      padding: 0 0 0 0;\n",
              "      width: 32px;\n",
              "    }\n",
              "\n",
              "    .colab-df-convert:hover {\n",
              "      background-color: #E2EBFA;\n",
              "      box-shadow: 0px 1px 2px rgba(60, 64, 67, 0.3), 0px 1px 3px 1px rgba(60, 64, 67, 0.15);\n",
              "      fill: #174EA6;\n",
              "    }\n",
              "\n",
              "    [theme=dark] .colab-df-convert {\n",
              "      background-color: #3B4455;\n",
              "      fill: #D2E3FC;\n",
              "    }\n",
              "\n",
              "    [theme=dark] .colab-df-convert:hover {\n",
              "      background-color: #434B5C;\n",
              "      box-shadow: 0px 1px 3px 1px rgba(0, 0, 0, 0.15);\n",
              "      filter: drop-shadow(0px 1px 2px rgba(0, 0, 0, 0.3));\n",
              "      fill: #FFFFFF;\n",
              "    }\n",
              "  </style>\n",
              "\n",
              "      <script>\n",
              "        const buttonEl =\n",
              "          document.querySelector('#df-b2ec1e22-f3d0-4e52-a04d-bf447cb1ac77 button.colab-df-convert');\n",
              "        buttonEl.style.display =\n",
              "          google.colab.kernel.accessAllowed ? 'block' : 'none';\n",
              "\n",
              "        async function convertToInteractive(key) {\n",
              "          const element = document.querySelector('#df-b2ec1e22-f3d0-4e52-a04d-bf447cb1ac77');\n",
              "          const dataTable =\n",
              "            await google.colab.kernel.invokeFunction('convertToInteractive',\n",
              "                                                     [key], {});\n",
              "          if (!dataTable) return;\n",
              "\n",
              "          const docLinkHtml = 'Like what you see? Visit the ' +\n",
              "            '<a target=\"_blank\" href=https://colab.research.google.com/notebooks/data_table.ipynb>data table notebook</a>'\n",
              "            + ' to learn more about interactive tables.';\n",
              "          element.innerHTML = '';\n",
              "          dataTable['output_type'] = 'display_data';\n",
              "          await google.colab.output.renderOutput(dataTable, element);\n",
              "          const docLink = document.createElement('div');\n",
              "          docLink.innerHTML = docLinkHtml;\n",
              "          element.appendChild(docLink);\n",
              "        }\n",
              "      </script>\n",
              "    </div>\n",
              "  </div>\n",
              "  "
            ]
          },
          "metadata": {},
          "execution_count": 16
        }
      ]
    },
    {
      "cell_type": "markdown",
      "source": [
        "#훈련 세트와 테스트 세트로 분리"
      ],
      "metadata": {
        "id": "9uZoNe48iW3p"
      },
      "id": "9uZoNe48iW3p"
    },
    {
      "cell_type": "code",
      "source": [
        "X = batter_df[batter_df.columns.difference(['선수명','y'])]\n",
        "Y = batter_df['y']\n",
        "X_train, X_test, Y_train, Y_test = train_test_split(X, Y, test_size=0.2, random_state=19)\n",
        "print(X_train)"
      ],
      "metadata": {
        "colab": {
          "base_uri": "https://localhost:8080/"
        },
        "id": "dxsJBoQLhV1X",
        "outputId": "d1a5fc3c-588b-4c43-9aec-be0077fad2a8"
      },
      "id": "dxsJBoQLhV1X",
      "execution_count": 17,
      "outputs": [
        {
          "output_type": "stream",
          "name": "stdout",
          "text": [
            "        BABIP  KIA  KT  LG  NC       OPS  SK       WAR      wOBA        경기  \\\n",
            "60   0.297656    0   0   0   0  0.397667   0 -0.082194  0.468820 -0.279463   \n",
            "165 -0.428348    0   0   0   0 -0.167182   0 -0.722005 -0.145009 -0.455336   \n",
            "161 -0.250709    0   0   0   0 -0.925579   0 -0.674611 -0.907646 -1.246765   \n",
            "2    0.683829    0   0   0   0  1.318014   0  3.703353  1.212856  1.171489   \n",
            "134  0.243592    0   1   0   0  0.081668   0 -0.550204  0.134004 -0.499304   \n",
            "..        ...  ...  ..  ..  ..       ...  ..       ...       ...       ...   \n",
            "19   0.351720    0   0   0   0  0.792665   0  1.416622  0.719933  0.709822   \n",
            "168 -0.096240    0   0   0   0 -0.167182   0 -0.733853 -0.070605  1.105537   \n",
            "98  -0.289326    0   0   0   0 -0.017082   1 -0.443569 -0.033404  0.797759   \n",
            "110  0.475295    0   0   0   0 -0.024982   0 -0.490962 -0.014803  0.424029   \n",
            "93  -0.173474    0   0   0   0  0.184367   0 -0.425796  0.208408  0.995616   \n",
            "\n",
            "     ...        안타  연봉(2017)       장타율       출루율        타석        타수  \\\n",
            "60   ... -0.095869 -0.372443  0.245561  0.569573 -0.181311 -0.188911   \n",
            "165  ... -0.807148 -0.456563 -0.113505 -0.226052 -0.755436 -0.754859   \n",
            "161  ... -1.007765 -0.450092 -0.994234 -0.774148 -1.075523 -1.066708   \n",
            "2    ...  2.092684  0.012569  1.465031  1.038107  1.515659  1.537807   \n",
            "134  ... -0.478865 -0.456563 -0.025432  0.215962 -0.506479 -0.500760   \n",
            "..   ...       ...       ...       ...       ...       ...       ...   \n",
            "19   ...  1.527308  0.044923  0.929819  0.560732  1.276864  1.376108   \n",
            "168  ...  0.268890 -0.440386 -0.330300  0.056837  0.692578  0.625361   \n",
            "98   ...  0.250652  0.514054  0.069415 -0.128809  0.535075  0.561836   \n",
            "110  ... -0.588293 -0.501858 -0.045757  0.003795 -0.587771 -0.575835   \n",
            "93   ...  0.578935 -0.456563  0.150713  0.215962  0.809435  0.804385   \n",
            "\n",
            "           타율        타점  한화        홈런  \n",
            "60   0.588938 -0.310783   1 -0.507791  \n",
            "165 -0.391829 -0.437416   0 -0.391219  \n",
            "161 -0.294723 -0.912292   1 -0.740936  \n",
            "2    1.132730  1.493746   0  1.590510  \n",
            "134  0.268490 -0.722342   0 -0.624364  \n",
            "..        ...       ...  ..       ...  \n",
            "19   0.695755  1.208821   0  1.357366  \n",
            "168 -0.119933  0.512336   0 -0.158074  \n",
            "98  -0.071380  0.354044   0  0.308215  \n",
            "110  0.064568 -0.627367   0 -0.624364  \n",
            "93   0.142252  0.512336   0  0.308215  \n",
            "\n",
            "[152 rows x 28 columns]\n"
          ]
        }
      ]
    },
    {
      "cell_type": "code",
      "source": [
        "X_train.shape\n"
      ],
      "metadata": {
        "colab": {
          "base_uri": "https://localhost:8080/"
        },
        "id": "Q1ORm8ik7fWe",
        "outputId": "f2778bfa-b469-4459-f80f-3c839640d0ba"
      },
      "id": "Q1ORm8ik7fWe",
      "execution_count": 18,
      "outputs": [
        {
          "output_type": "execute_result",
          "data": {
            "text/plain": [
              "(152, 28)"
            ]
          },
          "metadata": {},
          "execution_count": 18
        }
      ]
    },
    {
      "cell_type": "code",
      "source": [
        "X_test.shape"
      ],
      "metadata": {
        "colab": {
          "base_uri": "https://localhost:8080/"
        },
        "id": "QnIVIbGS77Lo",
        "outputId": "e3462730-3581-46ed-de34-ec167d87751f"
      },
      "id": "QnIVIbGS77Lo",
      "execution_count": 19,
      "outputs": [
        {
          "output_type": "execute_result",
          "data": {
            "text/plain": [
              "(39, 28)"
            ]
          },
          "metadata": {},
          "execution_count": 19
        }
      ]
    },
    {
      "cell_type": "code",
      "source": [
        "Y_train.shape"
      ],
      "metadata": {
        "colab": {
          "base_uri": "https://localhost:8080/"
        },
        "id": "qDKDDUCc787h",
        "outputId": "5682ed4e-bacd-4268-99e2-6ffbd79dcbbe"
      },
      "id": "qDKDDUCc787h",
      "execution_count": 20,
      "outputs": [
        {
          "output_type": "execute_result",
          "data": {
            "text/plain": [
              "(152,)"
            ]
          },
          "metadata": {},
          "execution_count": 20
        }
      ]
    },
    {
      "cell_type": "code",
      "source": [
        "Y_test.shape"
      ],
      "metadata": {
        "colab": {
          "base_uri": "https://localhost:8080/"
        },
        "id": "NBIBhSJ57_w8",
        "outputId": "8564a019-a74d-4dee-acea-7417d287c4ce"
      },
      "id": "NBIBhSJ57_w8",
      "execution_count": 21,
      "outputs": [
        {
          "output_type": "execute_result",
          "data": {
            "text/plain": [
              "(39,)"
            ]
          },
          "metadata": {},
          "execution_count": 21
        }
      ]
    },
    {
      "cell_type": "markdown",
      "source": [
        "8:2의 비율로 총 4개의 데이터 생성된 것을 확인할 수 있다."
      ],
      "metadata": {
        "id": "oSv3UQuv8M0a"
      },
      "id": "oSv3UQuv8M0a"
    },
    {
      "cell_type": "code",
      "source": [
        "# 선형회귀 모델 훈련 및 출력\n",
        "lr = linear_model.LinearRegression()\n",
        "model = lr.fit(X_train, Y_train)\n",
        "print(lr.coef_)"
      ],
      "metadata": {
        "colab": {
          "base_uri": "https://localhost:8080/"
        },
        "id": "KV22y-ec8S03",
        "outputId": "15541c86-536d-4340-e1e3-7f957da109b9"
      },
      "id": "KV22y-ec8S03",
      "execution_count": 22,
      "outputs": [
        {
          "output_type": "stream",
          "name": "stdout",
          "text": [
            "[  -236.24898991    -97.66532469  -2503.58349949   1253.17014235\n",
            "  -3501.99662009 -11839.60373399  -1204.5626795    2564.40299851\n",
            "  32645.18415629    717.04409948  -2360.39995263    957.39849116\n",
            "   1024.21094579  -2847.89149982   7454.13816003  11446.32337558\n",
            "   -357.03685464   -508.91600818   7154.15488843  27033.31126951\n",
            "  -5552.94435452 -19251.75812435 -70019.74085914  58253.63806387\n",
            "   2589.90191245  -2754.62215006    293.72568287   3918.74111401]\n"
          ]
        }
      ]
    },
    {
      "cell_type": "markdown",
      "source": [
        "# OLS 회귀 분석 결과"
      ],
      "metadata": {
        "id": "QI3ldo8digkY"
      },
      "id": "QI3ldo8digkY"
    },
    {
      "cell_type": "code",
      "source": [
        "!pip install statsmodels\n",
        "import statsmodels.api as sm"
      ],
      "metadata": {
        "colab": {
          "base_uri": "https://localhost:8080/"
        },
        "id": "_G_dM-Ovs6ze",
        "outputId": "f67477f5-988c-43b8-9a24-81270e4b43b3"
      },
      "id": "_G_dM-Ovs6ze",
      "execution_count": 23,
      "outputs": [
        {
          "output_type": "stream",
          "name": "stdout",
          "text": [
            "Looking in indexes: https://pypi.org/simple, https://us-python.pkg.dev/colab-wheels/public/simple/\n",
            "Requirement already satisfied: statsmodels in /usr/local/lib/python3.8/dist-packages (0.12.2)\n",
            "Requirement already satisfied: numpy>=1.15 in /usr/local/lib/python3.8/dist-packages (from statsmodels) (1.21.6)\n",
            "Requirement already satisfied: scipy>=1.1 in /usr/local/lib/python3.8/dist-packages (from statsmodels) (1.7.3)\n",
            "Requirement already satisfied: pandas>=0.21 in /usr/local/lib/python3.8/dist-packages (from statsmodels) (1.3.5)\n",
            "Requirement already satisfied: patsy>=0.5 in /usr/local/lib/python3.8/dist-packages (from statsmodels) (0.5.3)\n",
            "Requirement already satisfied: pytz>=2017.3 in /usr/local/lib/python3.8/dist-packages (from pandas>=0.21->statsmodels) (2022.6)\n",
            "Requirement already satisfied: python-dateutil>=2.7.3 in /usr/local/lib/python3.8/dist-packages (from pandas>=0.21->statsmodels) (2.8.2)\n",
            "Requirement already satisfied: six in /usr/local/lib/python3.8/dist-packages (from patsy>=0.5->statsmodels) (1.15.0)\n"
          ]
        }
      ]
    },
    {
      "cell_type": "code",
      "source": [
        "X_train = sm.add_constant(X_train)\n",
        "model = sm.OLS(Y_train, X_train).fit()\n",
        "model.summary()"
      ],
      "metadata": {
        "colab": {
          "base_uri": "https://localhost:8080/",
          "height": 1000
        },
        "id": "0DouxDXFvhjm",
        "outputId": "4632a8e2-a3ef-4590-892b-e3544b390c20"
      },
      "id": "0DouxDXFvhjm",
      "execution_count": 24,
      "outputs": [
        {
          "output_type": "execute_result",
          "data": {
            "text/plain": [
              "<class 'statsmodels.iolib.summary.Summary'>\n",
              "\"\"\"\n",
              "                            OLS Regression Results                            \n",
              "==============================================================================\n",
              "Dep. Variable:                      y   R-squared:                       0.930\n",
              "Model:                            OLS   Adj. R-squared:                  0.916\n",
              "Method:                 Least Squares   F-statistic:                     64.25\n",
              "Date:                Wed, 07 Dec 2022   Prob (F-statistic):           4.80e-60\n",
              "Time:                        12:04:50   Log-Likelihood:                -1567.4\n",
              "No. Observations:                 152   AIC:                             3189.\n",
              "Df Residuals:                     125   BIC:                             3270.\n",
              "Df Model:                          26                                         \n",
              "Covariance Type:            nonrobust                                         \n",
              "==============================================================================\n",
              "                 coef    std err          t      P>|t|      [0.025      0.975]\n",
              "------------------------------------------------------------------------------\n",
              "const       1.917e+04    602.240     31.830      0.000     1.8e+04    2.04e+04\n",
              "BABIP       -236.2490   1503.349     -0.157      0.875   -3211.562    2739.065\n",
              "KIA         1819.2924   2320.077      0.784      0.434   -2772.428    6411.013\n",
              "KT          -586.6258   2197.943     -0.267      0.790   -4936.628    3763.377\n",
              "LG          3170.1278   2063.356      1.536      0.127    -913.510    7253.766\n",
              "NC         -1585.0389   2035.486     -0.779      0.438   -5613.518    2443.440\n",
              "OPS        -1.184e+04   9690.952     -1.222      0.224    -3.1e+04    7339.993\n",
              "SK           712.3950   2066.385      0.345      0.731   -3377.238    4802.028\n",
              "WAR         2564.4030   3269.079      0.784      0.434   -3905.511    9034.317\n",
              "wOBA        3.265e+04   2.89e+04      1.131      0.260   -2.45e+04    8.98e+04\n",
              "경기           717.0441   2667.842      0.269      0.789   -4562.946    5997.035\n",
              "넥센          -443.4422   1948.813     -0.228      0.820   -4300.385    3413.500\n",
              "도루           957.3985   1020.277      0.938      0.350   -1061.856    2976.653\n",
              "두산          2941.1687   2323.069      1.266      0.208   -1656.473    7538.811\n",
              "득점         -2847.8915   3430.496     -0.830      0.408   -9637.270    3941.487\n",
              "롯데          9371.0959   2199.008      4.262      0.000    5018.987    1.37e+04\n",
              "볼넷          1.145e+04   3583.856      3.194      0.002    4353.427    1.85e+04\n",
              "삼성          1559.9209   2002.284      0.779      0.437   -2402.848    5522.690\n",
              "삼진          -508.9160   2282.110     -0.223      0.824   -5025.495    4007.663\n",
              "안타          7154.1549   1.13e+04      0.632      0.528   -1.52e+04    2.95e+04\n",
              "연봉(2017)    2.703e+04   1245.371     21.707      0.000    2.46e+04    2.95e+04\n",
              "장타율        -5552.9444   5745.149     -0.967      0.336   -1.69e+04    5817.418\n",
              "출루율        -1.925e+04   1.48e+04     -1.297      0.197   -4.86e+04    1.01e+04\n",
              "타석         -7.002e+04   3.76e+04     -1.863      0.065   -1.44e+05    4377.499\n",
              "타수          5.825e+04   3.94e+04      1.479      0.142   -1.97e+04    1.36e+05\n",
              "타율          2589.9019   3295.695      0.786      0.433   -3932.688    9112.492\n",
              "타점         -2754.6222   3846.260     -0.716      0.475   -1.04e+04    4857.604\n",
              "한화          2210.6834   1981.938      1.115      0.267   -1711.818    6133.185\n",
              "홈런          3918.7411   3053.614      1.283      0.202   -2124.739    9962.222\n",
              "==============================================================================\n",
              "Omnibus:                      115.076   Durbin-Watson:                   2.108\n",
              "Prob(Omnibus):                  0.000   Jarque-Bera (JB):             3010.469\n",
              "Skew:                           2.223   Prob(JB):                         0.00\n",
              "Kurtosis:                      24.344   Cond. No.                     6.20e+16\n",
              "==============================================================================\n",
              "\n",
              "Notes:\n",
              "[1] Standard Errors assume that the covariance matrix of the errors is correctly specified.\n",
              "[2] The smallest eigenvalue is 4.25e-31. This might indicate that there are\n",
              "strong multicollinearity problems or that the design matrix is singular.\n",
              "\"\"\""
            ],
            "text/html": [
              "<table class=\"simpletable\">\n",
              "<caption>OLS Regression Results</caption>\n",
              "<tr>\n",
              "  <th>Dep. Variable:</th>            <td>y</td>        <th>  R-squared:         </th> <td>   0.930</td>\n",
              "</tr>\n",
              "<tr>\n",
              "  <th>Model:</th>                   <td>OLS</td>       <th>  Adj. R-squared:    </th> <td>   0.916</td>\n",
              "</tr>\n",
              "<tr>\n",
              "  <th>Method:</th>             <td>Least Squares</td>  <th>  F-statistic:       </th> <td>   64.25</td>\n",
              "</tr>\n",
              "<tr>\n",
              "  <th>Date:</th>             <td>Wed, 07 Dec 2022</td> <th>  Prob (F-statistic):</th> <td>4.80e-60</td>\n",
              "</tr>\n",
              "<tr>\n",
              "  <th>Time:</th>                 <td>12:04:50</td>     <th>  Log-Likelihood:    </th> <td> -1567.4</td>\n",
              "</tr>\n",
              "<tr>\n",
              "  <th>No. Observations:</th>      <td>   152</td>      <th>  AIC:               </th> <td>   3189.</td>\n",
              "</tr>\n",
              "<tr>\n",
              "  <th>Df Residuals:</th>          <td>   125</td>      <th>  BIC:               </th> <td>   3270.</td>\n",
              "</tr>\n",
              "<tr>\n",
              "  <th>Df Model:</th>              <td>    26</td>      <th>                     </th>     <td> </td>   \n",
              "</tr>\n",
              "<tr>\n",
              "  <th>Covariance Type:</th>      <td>nonrobust</td>    <th>                     </th>     <td> </td>   \n",
              "</tr>\n",
              "</table>\n",
              "<table class=\"simpletable\">\n",
              "<tr>\n",
              "      <td></td>        <th>coef</th>     <th>std err</th>      <th>t</th>      <th>P>|t|</th>  <th>[0.025</th>    <th>0.975]</th>  \n",
              "</tr>\n",
              "<tr>\n",
              "  <th>const</th>    <td> 1.917e+04</td> <td>  602.240</td> <td>   31.830</td> <td> 0.000</td> <td>  1.8e+04</td> <td> 2.04e+04</td>\n",
              "</tr>\n",
              "<tr>\n",
              "  <th>BABIP</th>    <td> -236.2490</td> <td> 1503.349</td> <td>   -0.157</td> <td> 0.875</td> <td>-3211.562</td> <td> 2739.065</td>\n",
              "</tr>\n",
              "<tr>\n",
              "  <th>KIA</th>      <td> 1819.2924</td> <td> 2320.077</td> <td>    0.784</td> <td> 0.434</td> <td>-2772.428</td> <td> 6411.013</td>\n",
              "</tr>\n",
              "<tr>\n",
              "  <th>KT</th>       <td> -586.6258</td> <td> 2197.943</td> <td>   -0.267</td> <td> 0.790</td> <td>-4936.628</td> <td> 3763.377</td>\n",
              "</tr>\n",
              "<tr>\n",
              "  <th>LG</th>       <td> 3170.1278</td> <td> 2063.356</td> <td>    1.536</td> <td> 0.127</td> <td> -913.510</td> <td> 7253.766</td>\n",
              "</tr>\n",
              "<tr>\n",
              "  <th>NC</th>       <td>-1585.0389</td> <td> 2035.486</td> <td>   -0.779</td> <td> 0.438</td> <td>-5613.518</td> <td> 2443.440</td>\n",
              "</tr>\n",
              "<tr>\n",
              "  <th>OPS</th>      <td>-1.184e+04</td> <td> 9690.952</td> <td>   -1.222</td> <td> 0.224</td> <td> -3.1e+04</td> <td> 7339.993</td>\n",
              "</tr>\n",
              "<tr>\n",
              "  <th>SK</th>       <td>  712.3950</td> <td> 2066.385</td> <td>    0.345</td> <td> 0.731</td> <td>-3377.238</td> <td> 4802.028</td>\n",
              "</tr>\n",
              "<tr>\n",
              "  <th>WAR</th>      <td> 2564.4030</td> <td> 3269.079</td> <td>    0.784</td> <td> 0.434</td> <td>-3905.511</td> <td> 9034.317</td>\n",
              "</tr>\n",
              "<tr>\n",
              "  <th>wOBA</th>     <td> 3.265e+04</td> <td> 2.89e+04</td> <td>    1.131</td> <td> 0.260</td> <td>-2.45e+04</td> <td> 8.98e+04</td>\n",
              "</tr>\n",
              "<tr>\n",
              "  <th>경기</th>       <td>  717.0441</td> <td> 2667.842</td> <td>    0.269</td> <td> 0.789</td> <td>-4562.946</td> <td> 5997.035</td>\n",
              "</tr>\n",
              "<tr>\n",
              "  <th>넥센</th>       <td> -443.4422</td> <td> 1948.813</td> <td>   -0.228</td> <td> 0.820</td> <td>-4300.385</td> <td> 3413.500</td>\n",
              "</tr>\n",
              "<tr>\n",
              "  <th>도루</th>       <td>  957.3985</td> <td> 1020.277</td> <td>    0.938</td> <td> 0.350</td> <td>-1061.856</td> <td> 2976.653</td>\n",
              "</tr>\n",
              "<tr>\n",
              "  <th>두산</th>       <td> 2941.1687</td> <td> 2323.069</td> <td>    1.266</td> <td> 0.208</td> <td>-1656.473</td> <td> 7538.811</td>\n",
              "</tr>\n",
              "<tr>\n",
              "  <th>득점</th>       <td>-2847.8915</td> <td> 3430.496</td> <td>   -0.830</td> <td> 0.408</td> <td>-9637.270</td> <td> 3941.487</td>\n",
              "</tr>\n",
              "<tr>\n",
              "  <th>롯데</th>       <td> 9371.0959</td> <td> 2199.008</td> <td>    4.262</td> <td> 0.000</td> <td> 5018.987</td> <td> 1.37e+04</td>\n",
              "</tr>\n",
              "<tr>\n",
              "  <th>볼넷</th>       <td> 1.145e+04</td> <td> 3583.856</td> <td>    3.194</td> <td> 0.002</td> <td> 4353.427</td> <td> 1.85e+04</td>\n",
              "</tr>\n",
              "<tr>\n",
              "  <th>삼성</th>       <td> 1559.9209</td> <td> 2002.284</td> <td>    0.779</td> <td> 0.437</td> <td>-2402.848</td> <td> 5522.690</td>\n",
              "</tr>\n",
              "<tr>\n",
              "  <th>삼진</th>       <td> -508.9160</td> <td> 2282.110</td> <td>   -0.223</td> <td> 0.824</td> <td>-5025.495</td> <td> 4007.663</td>\n",
              "</tr>\n",
              "<tr>\n",
              "  <th>안타</th>       <td> 7154.1549</td> <td> 1.13e+04</td> <td>    0.632</td> <td> 0.528</td> <td>-1.52e+04</td> <td> 2.95e+04</td>\n",
              "</tr>\n",
              "<tr>\n",
              "  <th>연봉(2017)</th> <td> 2.703e+04</td> <td> 1245.371</td> <td>   21.707</td> <td> 0.000</td> <td> 2.46e+04</td> <td> 2.95e+04</td>\n",
              "</tr>\n",
              "<tr>\n",
              "  <th>장타율</th>      <td>-5552.9444</td> <td> 5745.149</td> <td>   -0.967</td> <td> 0.336</td> <td>-1.69e+04</td> <td> 5817.418</td>\n",
              "</tr>\n",
              "<tr>\n",
              "  <th>출루율</th>      <td>-1.925e+04</td> <td> 1.48e+04</td> <td>   -1.297</td> <td> 0.197</td> <td>-4.86e+04</td> <td> 1.01e+04</td>\n",
              "</tr>\n",
              "<tr>\n",
              "  <th>타석</th>       <td>-7.002e+04</td> <td> 3.76e+04</td> <td>   -1.863</td> <td> 0.065</td> <td>-1.44e+05</td> <td> 4377.499</td>\n",
              "</tr>\n",
              "<tr>\n",
              "  <th>타수</th>       <td> 5.825e+04</td> <td> 3.94e+04</td> <td>    1.479</td> <td> 0.142</td> <td>-1.97e+04</td> <td> 1.36e+05</td>\n",
              "</tr>\n",
              "<tr>\n",
              "  <th>타율</th>       <td> 2589.9019</td> <td> 3295.695</td> <td>    0.786</td> <td> 0.433</td> <td>-3932.688</td> <td> 9112.492</td>\n",
              "</tr>\n",
              "<tr>\n",
              "  <th>타점</th>       <td>-2754.6222</td> <td> 3846.260</td> <td>   -0.716</td> <td> 0.475</td> <td>-1.04e+04</td> <td> 4857.604</td>\n",
              "</tr>\n",
              "<tr>\n",
              "  <th>한화</th>       <td> 2210.6834</td> <td> 1981.938</td> <td>    1.115</td> <td> 0.267</td> <td>-1711.818</td> <td> 6133.185</td>\n",
              "</tr>\n",
              "<tr>\n",
              "  <th>홈런</th>       <td> 3918.7411</td> <td> 3053.614</td> <td>    1.283</td> <td> 0.202</td> <td>-2124.739</td> <td> 9962.222</td>\n",
              "</tr>\n",
              "</table>\n",
              "<table class=\"simpletable\">\n",
              "<tr>\n",
              "  <th>Omnibus:</th>       <td>115.076</td> <th>  Durbin-Watson:     </th> <td>   2.108</td>\n",
              "</tr>\n",
              "<tr>\n",
              "  <th>Prob(Omnibus):</th> <td> 0.000</td>  <th>  Jarque-Bera (JB):  </th> <td>3010.469</td>\n",
              "</tr>\n",
              "<tr>\n",
              "  <th>Skew:</th>          <td> 2.223</td>  <th>  Prob(JB):          </th> <td>    0.00</td>\n",
              "</tr>\n",
              "<tr>\n",
              "  <th>Kurtosis:</th>      <td>24.344</td>  <th>  Cond. No.          </th> <td>6.20e+16</td>\n",
              "</tr>\n",
              "</table><br/><br/>Notes:<br/>[1] Standard Errors assume that the covariance matrix of the errors is correctly specified.<br/>[2] The smallest eigenvalue is 4.25e-31. This might indicate that there are<br/>strong multicollinearity problems or that the design matrix is singular."
            ]
          },
          "metadata": {},
          "execution_count": 24
        }
      ]
    },
    {
      "cell_type": "code",
      "source": [
        "coefs = model.params.tolist()\n",
        "coefs_series = pd.Series(coefs)\n",
        "\n",
        "plt.rc('font', family='NanumGothic')\n",
        "x_labels = model.params.index.tolist()\n",
        "\n",
        "ax = coefs_series.plot(kind='bar')\n",
        "ax.set_title('feature_coef_graph')\n",
        "ax.set_xlabel('x_features')\n",
        "ax.set_ylabel('coef')\n",
        "ax.set_xticklabels(x_labels)"
      ],
      "metadata": {
        "colab": {
          "base_uri": "https://localhost:8080/",
          "height": 1000
        },
        "id": "NdugoRnjwJAu",
        "outputId": "a4b0d530-b223-4328-b2d9-82d58537c086"
      },
      "id": "NdugoRnjwJAu",
      "execution_count": 25,
      "outputs": [
        {
          "output_type": "execute_result",
          "data": {
            "text/plain": [
              "[Text(0, 0, 'const'),\n",
              " Text(0, 0, 'BABIP'),\n",
              " Text(0, 0, 'KIA'),\n",
              " Text(0, 0, 'KT'),\n",
              " Text(0, 0, 'LG'),\n",
              " Text(0, 0, 'NC'),\n",
              " Text(0, 0, 'OPS'),\n",
              " Text(0, 0, 'SK'),\n",
              " Text(0, 0, 'WAR'),\n",
              " Text(0, 0, 'wOBA'),\n",
              " Text(0, 0, '경기'),\n",
              " Text(0, 0, '넥센'),\n",
              " Text(0, 0, '도루'),\n",
              " Text(0, 0, '두산'),\n",
              " Text(0, 0, '득점'),\n",
              " Text(0, 0, '롯데'),\n",
              " Text(0, 0, '볼넷'),\n",
              " Text(0, 0, '삼성'),\n",
              " Text(0, 0, '삼진'),\n",
              " Text(0, 0, '안타'),\n",
              " Text(0, 0, '연봉(2017)'),\n",
              " Text(0, 0, '장타율'),\n",
              " Text(0, 0, '출루율'),\n",
              " Text(0, 0, '타석'),\n",
              " Text(0, 0, '타수'),\n",
              " Text(0, 0, '타율'),\n",
              " Text(0, 0, '타점'),\n",
              " Text(0, 0, '한화'),\n",
              " Text(0, 0, '홈런')]"
            ]
          },
          "metadata": {},
          "execution_count": 25
        },
        {
          "output_type": "display_data",
          "data": {
            "text/plain": [
              "<Figure size 1440x1152 with 1 Axes>"
            ],
            "image/png": "[encoded data removed]"
          },
          "metadata": {
            "needs_background": "light"
          }
        }
      ]
    },
    {
      "cell_type": "markdown",
      "source": [
        "### 분석\n",
        "OLS 모델이 학습한 회귀 계수들 시각화하여 그래프로 나타낸 결과 OPS, wOBA,출루율, 연봉(2017), 타석, 타수 피처가 영향력이 큰 것으로 확인된다"
      ],
      "metadata": {
        "id": "n3qgdw8AimMf"
      },
      "id": "n3qgdw8AimMf"
    },
    {
      "cell_type": "markdown",
      "source": [
        "# 유의미한 피처들과, 영향력 높은 피처들 설명"
      ],
      "metadata": {
        "id": "i5KG4_S6FGFy"
      },
      "id": "i5KG4_S6FGFy"
    },
    {
      "cell_type": "markdown",
      "source": [
        "* OLS 회귀 분석에서는 p-value값이 0.05미만으로 나타나는 볼넷, 연봉(2017), 팀(롯데)이 유의미한 피처로 나타났다.\n",
        "* 또한, OLS 모델이 학습한 회귀 계수들을 시각화하여 분석한 결과 OPS, wOBA,출루율, 연봉(2017), 타석, 타수 피처가 영향력이 큰 것으로 확인되었다.\n",
        "\n",
        "**이 두가지를 표로 정리하면 다음과 같다**\n",
        "\n",
        "|피처명|유의미한 피처인가?|영향력이 큰 피처인가?|\n",
        "|------|---|---|\n",
        "|볼넷|O|△|\n",
        "|롯데|O|△|\n",
        "|wOBA|X|O|\n",
        "|연봉(2017)|O|O|\n",
        "|출루율|X|O|\n",
        "|OPS|X|O|\n",
        "|출루율|X|O|\n",
        "|타석|X|O|\n",
        "|타수|X|O|\n"
      ],
      "metadata": {
        "id": "031RBgBcFI_U"
      },
      "id": "031RBgBcFI_U"
    },
    {
      "cell_type": "markdown",
      "source": [
        "#피처들간의 상관 관계 분석"
      ],
      "metadata": {
        "id": "zgPsuRL-isil"
      },
      "id": "zgPsuRL-isil"
    },
    {
      "cell_type": "code",
      "source": [
        "# 피처간의 상관계수 행렬을 계산합니다.\n",
        "corr = batter_df[scale_columns].corr(method='pearson')\n",
        "show_cols = ['G', 'PA', 'AB', 'H', 'HR', 'R', 'RBI', 'BB', 'SO', 'SB', 'BABIP', 'AVG', 'OBP', 'SLG', 'OPS', 'wOBA', 'WAR', '2017']\n",
        "# ['경기', '타석', '타수', '안타', '홈런', '득점', '타점', '볼넷', '삼진', '도루', 'BABIP', '타율', '출루율', '장타율', 'OPS', 'wOBA', 'WAR','연봉(2017)']\n",
        "\n",
        "# corr 행렬 히트맵을 시각화합니다.\n",
        "plt.rc('font', family='NanumGothicOTF')\n",
        "sns.set(font_scale=1.5)\n",
        "hm = sns.heatmap(corr.values,\n",
        "            cbar=True,\n",
        "            annot=True, \n",
        "            square=True,\n",
        "            fmt='.2f',\n",
        "            annot_kws={'size': 15},\n",
        "            yticklabels=show_cols,\n",
        "            xticklabels=show_cols)\n",
        "\n",
        "plt.tight_layout()\n",
        "plt.show()"
      ],
      "metadata": {
        "colab": {
          "base_uri": "https://localhost:8080/",
          "height": 1000
        },
        "id": "VYhmprYkdWUp",
        "outputId": "5da10854-17fc-4ab4-a8c5-1fccedbb7812"
      },
      "id": "VYhmprYkdWUp",
      "execution_count": 26,
      "outputs": [
        {
          "output_type": "display_data",
          "data": {
            "text/plain": [
              "<Figure size 1440x1152 with 2 Axes>"
            ],
            "image/png": "[encoded data removed]"
          },
          "metadata": {}
        }
      ]
    },
    {
      "cell_type": "markdown",
      "source": [
        "분석 : wOBA - OPS, wOBA - OBP(출루율), OPS - SLG(장타율), H(안타) - PA(타석), AB(타수) - H(안타)등의 피처 쌍에서 높은 연관성이 발견되었다."
      ],
      "metadata": {
        "id": "bvNDq-aCIHHl"
      },
      "id": "bvNDq-aCIHHl"
    },
    {
      "cell_type": "markdown",
      "source": [
        "# 다중 공선성 확인하고 분석"
      ],
      "metadata": {
        "id": "X-Sp9QOGi4OM"
      },
      "id": "X-Sp9QOGi4OM"
    },
    {
      "cell_type": "code",
      "source": [
        "# 피처마다의 VIF 계수를 출력\n",
        "vif = pd.DataFrame()\n",
        "X = batter_df[batter_df.columns.difference(['선수명','y'])]\n",
        "vif[\"VIF Factor\"] = [variance_inflation_factor(X.values, i) for i in range(X.shape[1])]\n",
        "vif[\"features\"] = X.columns\n",
        "vif.round(1)"
      ],
      "metadata": {
        "colab": {
          "base_uri": "https://localhost:8080/",
          "height": 927
        },
        "id": "GZ5aD47BdZdK",
        "outputId": "4216c063-5607-44d6-c267-eca85f5f8d7c"
      },
      "id": "GZ5aD47BdZdK",
      "execution_count": 27,
      "outputs": [
        {
          "output_type": "execute_result",
          "data": {
            "text/plain": [
              "    VIF Factor  features\n",
              "0          6.0     BABIP\n",
              "1          1.1       KIA\n",
              "2          1.1        KT\n",
              "3          1.2        LG\n",
              "4          1.1        NC\n",
              "5          inf       OPS\n",
              "6          1.2        SK\n",
              "7         21.5       WAR\n",
              "8       2190.9      wOBA\n",
              "9         14.4        경기\n",
              "10         1.1        넥센\n",
              "11         2.6        도루\n",
              "12         1.1        두산\n",
              "13        27.2        득점\n",
              "14         1.1        롯데\n",
              "15        28.2        볼넷\n",
              "16         1.1        삼성\n",
              "17        10.7        삼진\n",
              "18       276.6        안타\n",
              "19         2.2  연봉(2017)\n",
              "20         inf       장타율\n",
              "21         inf       출루율\n",
              "22      2997.4        타석\n",
              "23      3325.3        타수\n",
              "24        29.0        타율\n",
              "25        33.6        타점\n",
              "26         1.1        한화\n",
              "27        19.6        홈런"
            ],
            "text/html": [
              "\n",
              "  <div id=\"df-772d13de-1ff7-4191-86f7-131c748ce494\">\n",
              "    <div class=\"colab-df-container\">\n",
              "      <div>\n",
              "<style scoped>\n",
              "    .dataframe tbody tr th:only-of-type {\n",
              "        vertical-align: middle;\n",
              "    }\n",
              "\n",
              "    .dataframe tbody tr th {\n",
              "        vertical-align: top;\n",
              "    }\n",
              "\n",
              "    .dataframe thead th {\n",
              "        text-align: right;\n",
              "    }\n",
              "</style>\n",
              "<table border=\"1\" class=\"dataframe\">\n",
              "  <thead>\n",
              "    <tr style=\"text-align: right;\">\n",
              "      <th></th>\n",
              "      <th>VIF Factor</th>\n",
              "      <th>features</th>\n",
              "    </tr>\n",
              "  </thead>\n",
              "  <tbody>\n",
              "    <tr>\n",
              "      <th>0</th>\n",
              "      <td>6.0</td>\n",
              "      <td>BABIP</td>\n",
              "    </tr>\n",
              "    <tr>\n",
              "      <th>1</th>\n",
              "      <td>1.1</td>\n",
              "      <td>KIA</td>\n",
              "    </tr>\n",
              "    <tr>\n",
              "      <th>2</th>\n",
              "      <td>1.1</td>\n",
              "      <td>KT</td>\n",
              "    </tr>\n",
              "    <tr>\n",
              "      <th>3</th>\n",
              "      <td>1.2</td>\n",
              "      <td>LG</td>\n",
              "    </tr>\n",
              "    <tr>\n",
              "      <th>4</th>\n",
              "      <td>1.1</td>\n",
              "      <td>NC</td>\n",
              "    </tr>\n",
              "    <tr>\n",
              "      <th>5</th>\n",
              "      <td>inf</td>\n",
              "      <td>OPS</td>\n",
              "    </tr>\n",
              "    <tr>\n",
              "      <th>6</th>\n",
              "      <td>1.2</td>\n",
              "      <td>SK</td>\n",
              "    </tr>\n",
              "    <tr>\n",
              "      <th>7</th>\n",
              "      <td>21.5</td>\n",
              "      <td>WAR</td>\n",
              "    </tr>\n",
              "    <tr>\n",
              "      <th>8</th>\n",
              "      <td>2190.9</td>\n",
              "      <td>wOBA</td>\n",
              "    </tr>\n",
              "    <tr>\n",
              "      <th>9</th>\n",
              "      <td>14.4</td>\n",
              "      <td>경기</td>\n",
              "    </tr>\n",
              "    <tr>\n",
              "      <th>10</th>\n",
              "      <td>1.1</td>\n",
              "      <td>넥센</td>\n",
              "    </tr>\n",
              "    <tr>\n",
              "      <th>11</th>\n",
              "      <td>2.6</td>\n",
              "      <td>도루</td>\n",
              "    </tr>\n",
              "    <tr>\n",
              "      <th>12</th>\n",
              "      <td>1.1</td>\n",
              "      <td>두산</td>\n",
              "    </tr>\n",
              "    <tr>\n",
              "      <th>13</th>\n",
              "      <td>27.2</td>\n",
              "      <td>득점</td>\n",
              "    </tr>\n",
              "    <tr>\n",
              "      <th>14</th>\n",
              "      <td>1.1</td>\n",
              "      <td>롯데</td>\n",
              "    </tr>\n",
              "    <tr>\n",
              "      <th>15</th>\n",
              "      <td>28.2</td>\n",
              "      <td>볼넷</td>\n",
              "    </tr>\n",
              "    <tr>\n",
              "      <th>16</th>\n",
              "      <td>1.1</td>\n",
              "      <td>삼성</td>\n",
              "    </tr>\n",
              "    <tr>\n",
              "      <th>17</th>\n",
              "      <td>10.7</td>\n",
              "      <td>삼진</td>\n",
              "    </tr>\n",
              "    <tr>\n",
              "      <th>18</th>\n",
              "      <td>276.6</td>\n",
              "      <td>안타</td>\n",
              "    </tr>\n",
              "    <tr>\n",
              "      <th>19</th>\n",
              "      <td>2.2</td>\n",
              "      <td>연봉(2017)</td>\n",
              "    </tr>\n",
              "    <tr>\n",
              "      <th>20</th>\n",
              "      <td>inf</td>\n",
              "      <td>장타율</td>\n",
              "    </tr>\n",
              "    <tr>\n",
              "      <th>21</th>\n",
              "      <td>inf</td>\n",
              "      <td>출루율</td>\n",
              "    </tr>\n",
              "    <tr>\n",
              "      <th>22</th>\n",
              "      <td>2997.4</td>\n",
              "      <td>타석</td>\n",
              "    </tr>\n",
              "    <tr>\n",
              "      <th>23</th>\n",
              "      <td>3325.3</td>\n",
              "      <td>타수</td>\n",
              "    </tr>\n",
              "    <tr>\n",
              "      <th>24</th>\n",
              "      <td>29.0</td>\n",
              "      <td>타율</td>\n",
              "    </tr>\n",
              "    <tr>\n",
              "      <th>25</th>\n",
              "      <td>33.6</td>\n",
              "      <td>타점</td>\n",
              "    </tr>\n",
              "    <tr>\n",
              "      <th>26</th>\n",
              "      <td>1.1</td>\n",
              "      <td>한화</td>\n",
              "    </tr>\n",
              "    <tr>\n",
              "      <th>27</th>\n",
              "      <td>19.6</td>\n",
              "      <td>홈런</td>\n",
              "    </tr>\n",
              "  </tbody>\n",
              "</table>\n",
              "</div>\n",
              "      <button class=\"colab-df-convert\" onclick=\"convertToInteractive('df-772d13de-1ff7-4191-86f7-131c748ce494')\"\n",
              "              title=\"Convert this dataframe to an interactive table.\"\n",
              "              style=\"display:none;\">\n",
              "        \n",
              "  <svg xmlns=\"http://www.w3.org/2000/svg\" height=\"24px\"viewBox=\"0 0 24 24\"\n",
              "       width=\"24px\">\n",
              "    <path d=\"M0 0h24v24H0V0z\" fill=\"none\"/>\n",
              "    <path d=\"M18.56 5.44l.94 2.06.94-2.06 2.06-.94-2.06-.94-.94-2.06-.94 2.06-2.06.94zm-11 1L8.5 8.5l.94-2.06 2.06-.94-2.06-.94L8.5 2.5l-.94 2.06-2.06.94zm10 10l.94 2.06.94-2.06 2.06-.94-2.06-.94-.94-2.06-.94 2.06-2.06.94z\"/><path d=\"M17.41 7.96l-1.37-1.37c-.4-.4-.92-.59-1.43-.59-.52 0-1.04.2-1.43.59L10.3 9.45l-7.72 7.72c-.78.78-.78 2.05 0 2.83L4 21.41c.39.39.9.59 1.41.59.51 0 1.02-.2 1.41-.59l7.78-7.78 2.81-2.81c.8-.78.8-2.07 0-2.86zM5.41 20L4 18.59l7.72-7.72 1.47 1.35L5.41 20z\"/>\n",
              "  </svg>\n",
              "      </button>\n",
              "      \n",
              "  <style>\n",
              "    .colab-df-container {\n",
              "      display:flex;\n",
              "      flex-wrap:wrap;\n",
              "      gap: 12px;\n",
              "    }\n",
              "\n",
              "    .colab-df-convert {\n",
              "      background-color: #E8F0FE;\n",
              "      border: none;\n",
              "      border-radius: 50%;\n",
              "      cursor: pointer;\n",
              "      display: none;\n",
              "      fill: #1967D2;\n",
              "      height: 32px;\n",
              "      padding: 0 0 0 0;\n",
              "      width: 32px;\n",
              "    }\n",
              "\n",
              "    .colab-df-convert:hover {\n",
              "      background-color: #E2EBFA;\n",
              "      box-shadow: 0px 1px 2px rgba(60, 64, 67, 0.3), 0px 1px 3px 1px rgba(60, 64, 67, 0.15);\n",
              "      fill: #174EA6;\n",
              "    }\n",
              "\n",
              "    [theme=dark] .colab-df-convert {\n",
              "      background-color: #3B4455;\n",
              "      fill: #D2E3FC;\n",
              "    }\n",
              "\n",
              "    [theme=dark] .colab-df-convert:hover {\n",
              "      background-color: #434B5C;\n",
              "      box-shadow: 0px 1px 3px 1px rgba(0, 0, 0, 0.15);\n",
              "      filter: drop-shadow(0px 1px 2px rgba(0, 0, 0, 0.3));\n",
              "      fill: #FFFFFF;\n",
              "    }\n",
              "  </style>\n",
              "\n",
              "      <script>\n",
              "        const buttonEl =\n",
              "          document.querySelector('#df-772d13de-1ff7-4191-86f7-131c748ce494 button.colab-df-convert');\n",
              "        buttonEl.style.display =\n",
              "          google.colab.kernel.accessAllowed ? 'block' : 'none';\n",
              "\n",
              "        async function convertToInteractive(key) {\n",
              "          const element = document.querySelector('#df-772d13de-1ff7-4191-86f7-131c748ce494');\n",
              "          const dataTable =\n",
              "            await google.colab.kernel.invokeFunction('convertToInteractive',\n",
              "                                                     [key], {});\n",
              "          if (!dataTable) return;\n",
              "\n",
              "          const docLinkHtml = 'Like what you see? Visit the ' +\n",
              "            '<a target=\"_blank\" href=https://colab.research.google.com/notebooks/data_table.ipynb>data table notebook</a>'\n",
              "            + ' to learn more about interactive tables.';\n",
              "          element.innerHTML = '';\n",
              "          dataTable['output_type'] = 'display_data';\n",
              "          await google.colab.output.renderOutput(dataTable, element);\n",
              "          const docLink = document.createElement('div');\n",
              "          docLink.innerHTML = docLinkHtml;\n",
              "          element.appendChild(docLink);\n",
              "        }\n",
              "      </script>\n",
              "    </div>\n",
              "  </div>\n",
              "  "
            ]
          },
          "metadata": {},
          "execution_count": 27
        }
      ]
    },
    {
      "cell_type": "markdown",
      "source": [
        "분석 :  OPS = (장타율) + (출루율)이라서 OPS, 장타율, 출루율 피처들의 VIF값이 inf(무한대)로 강한 상호 연관성을 갖는다."
      ],
      "metadata": {
        "id": "b92wSQlzJpFq"
      },
      "id": "b92wSQlzJpFq"
    },
    {
      "cell_type": "markdown",
      "source": [
        "# 삭제가 필요한 피처들 설명\n"
      ],
      "metadata": {
        "id": "OE3jNuEGxjBh"
      },
      "id": "OE3jNuEGxjBh"
    },
    {
      "cell_type": "markdown",
      "source": [
        "\n",
        "1. VIF 계수가 높은 피처들을 우선적으로 제거(비정상적으로 높은 피처들 제거) -> 장타율, 출루율, OPS\n",
        "\n",
        "  하지만, 앞서 언급한것과 같이 OPS = (장타율) + (출루율)로 서로 강한 상호 연관성을 갖고, 상관관계 히트맵의 결과 이 셋의 높은 연관성이 발견되었기 때문에 OPS만 남겨두고 장타율과 출루율을 제거한다.  \n",
        "\n",
        "2. 다시 공선성 검증 \n",
        "\n",
        "3. 여전히 VIF 계수가 높은 피처들 제거 -> 타석, 타수 제거(안타와 타석, 타수의 상관관계의 연관도가 매우 높으므로 타석과 타수 제거)\n",
        "\n",
        "4. 다시 공선성 검증\n",
        "5. 여전히 VIF 계수가 높은 피처들 제거 -> OPS와 wOBA가 상관관계 히트맵에서 높은 연관성을 보여주므로 OPS 제거\n",
        "\n",
        "6. 다시 공선성 검증\n",
        "7. 여전히 VIF 계수가 높은 피처들 제거 -> 안타와 득점 중 득점 제거\n",
        "8. 공선성 검증\n",
        "9. 여전히 VIF 계수가 높은 피처들 제거 -> 안타와 타점 중 타점 제거\n",
        "10. 공선성 검증\n",
        "11. 여전히 VIF 계수가 높은 피처들 제거 -> 타율과 wOBA 중 타율 제거'\n",
        "\n",
        "타율은 4사구의 가치를 무시할 뿐만 아니라 안타의 유형별 차이도 인정하지 않기 때문에 타자의 득점 기여도를 제대로 측정하지 못한다. 4사구를 포함하는 출루율은 좀 더 낫지만 결과를 성공(1) 아니면 실패(0)로 이분한다는 점은 타율과 같다. 반대로 장타율은 4사구를 포함하진 않으나 안타 유형별 가치 차이는 부정확하게나마 반영한다. 또한, OPS는 분명 그 단순함에 비해 놀랍도록 우수한 지표지만 가중치를 분석해보면 4사구의 가치를 과소평가하는 문제가 있다고 한다.\n",
        "\n",
        "그러므로 타율을 제거\n",
        "12. 공선성 검증\n",
        "13. 여전히 VIF 계수가 높은 피처들 제거 -> 안타 제거\n",
        "\n",
        "그러므로 삭제가 필요한 피처는 ['타율','장타율','OPS','출루율','타석','타수','득점','타점','안타','선수명','y']이다. "
      ],
      "metadata": {
        "id": "_faND07oi8Ki"
      },
      "id": "_faND07oi8Ki"
    },
    {
      "cell_type": "code",
      "source": [
        "# 피처마다의 VIF 계수를 출력합니다.\n",
        "vif = pd.DataFrame()\n",
        "X = batter_df[batter_df.columns.difference(['타율','장타율','OPS','출루율','선수명','타석','타수','득점','타점','안타','y'])]\n",
        "vif[\"VIF Factor\"] = [variance_inflation_factor(X.values, i) for i in range(X.shape[1])]\n",
        "vif[\"features\"] = X.columns\n",
        "vif.round(1)"
      ],
      "metadata": {
        "colab": {
          "base_uri": "https://localhost:8080/",
          "height": 645
        },
        "id": "YXFUl8DcKpFv",
        "outputId": "0b1a9fde-a1e6-4ffe-b341-4ffc6495adc1"
      },
      "id": "YXFUl8DcKpFv",
      "execution_count": 29,
      "outputs": [
        {
          "output_type": "execute_result",
          "data": {
            "text/plain": [
              "    VIF Factor  features\n",
              "0          3.5     BABIP\n",
              "1          1.1       KIA\n",
              "2          1.0        KT\n",
              "3          1.1        LG\n",
              "4          1.0        NC\n",
              "5          1.1        SK\n",
              "6          4.8       WAR\n",
              "7          4.8      wOBA\n",
              "8          5.3        경기\n",
              "9          1.0        넥센\n",
              "10         1.6        도루\n",
              "11         1.0        두산\n",
              "12         1.0        롯데\n",
              "13         6.7        볼넷\n",
              "14         1.0        삼성\n",
              "15         8.6        삼진\n",
              "16         2.0  연봉(2017)\n",
              "17         1.0        한화\n",
              "18         7.2        홈런"
            ],
            "text/html": [
              "\n",
              "  <div id=\"df-4f200c4a-7bed-4c1b-9b57-ad730b3096ef\">\n",
              "    <div class=\"colab-df-container\">\n",
              "      <div>\n",
              "<style scoped>\n",
              "    .dataframe tbody tr th:only-of-type {\n",
              "        vertical-align: middle;\n",
              "    }\n",
              "\n",
              "    .dataframe tbody tr th {\n",
              "        vertical-align: top;\n",
              "    }\n",
              "\n",
              "    .dataframe thead th {\n",
              "        text-align: right;\n",
              "    }\n",
              "</style>\n",
              "<table border=\"1\" class=\"dataframe\">\n",
              "  <thead>\n",
              "    <tr style=\"text-align: right;\">\n",
              "      <th></th>\n",
              "      <th>VIF Factor</th>\n",
              "      <th>features</th>\n",
              "    </tr>\n",
              "  </thead>\n",
              "  <tbody>\n",
              "    <tr>\n",
              "      <th>0</th>\n",
              "      <td>3.5</td>\n",
              "      <td>BABIP</td>\n",
              "    </tr>\n",
              "    <tr>\n",
              "      <th>1</th>\n",
              "      <td>1.1</td>\n",
              "      <td>KIA</td>\n",
              "    </tr>\n",
              "    <tr>\n",
              "      <th>2</th>\n",
              "      <td>1.0</td>\n",
              "      <td>KT</td>\n",
              "    </tr>\n",
              "    <tr>\n",
              "      <th>3</th>\n",
              "      <td>1.1</td>\n",
              "      <td>LG</td>\n",
              "    </tr>\n",
              "    <tr>\n",
              "      <th>4</th>\n",
              "      <td>1.0</td>\n",
              "      <td>NC</td>\n",
              "    </tr>\n",
              "    <tr>\n",
              "      <th>5</th>\n",
              "      <td>1.1</td>\n",
              "      <td>SK</td>\n",
              "    </tr>\n",
              "    <tr>\n",
              "      <th>6</th>\n",
              "      <td>4.8</td>\n",
              "      <td>WAR</td>\n",
              "    </tr>\n",
              "    <tr>\n",
              "      <th>7</th>\n",
              "      <td>4.8</td>\n",
              "      <td>wOBA</td>\n",
              "    </tr>\n",
              "    <tr>\n",
              "      <th>8</th>\n",
              "      <td>5.3</td>\n",
              "      <td>경기</td>\n",
              "    </tr>\n",
              "    <tr>\n",
              "      <th>9</th>\n",
              "      <td>1.0</td>\n",
              "      <td>넥센</td>\n",
              "    </tr>\n",
              "    <tr>\n",
              "      <th>10</th>\n",
              "      <td>1.6</td>\n",
              "      <td>도루</td>\n",
              "    </tr>\n",
              "    <tr>\n",
              "      <th>11</th>\n",
              "      <td>1.0</td>\n",
              "      <td>두산</td>\n",
              "    </tr>\n",
              "    <tr>\n",
              "      <th>12</th>\n",
              "      <td>1.0</td>\n",
              "      <td>롯데</td>\n",
              "    </tr>\n",
              "    <tr>\n",
              "      <th>13</th>\n",
              "      <td>6.7</td>\n",
              "      <td>볼넷</td>\n",
              "    </tr>\n",
              "    <tr>\n",
              "      <th>14</th>\n",
              "      <td>1.0</td>\n",
              "      <td>삼성</td>\n",
              "    </tr>\n",
              "    <tr>\n",
              "      <th>15</th>\n",
              "      <td>8.6</td>\n",
              "      <td>삼진</td>\n",
              "    </tr>\n",
              "    <tr>\n",
              "      <th>16</th>\n",
              "      <td>2.0</td>\n",
              "      <td>연봉(2017)</td>\n",
              "    </tr>\n",
              "    <tr>\n",
              "      <th>17</th>\n",
              "      <td>1.0</td>\n",
              "      <td>한화</td>\n",
              "    </tr>\n",
              "    <tr>\n",
              "      <th>18</th>\n",
              "      <td>7.2</td>\n",
              "      <td>홈런</td>\n",
              "    </tr>\n",
              "  </tbody>\n",
              "</table>\n",
              "</div>\n",
              "      <button class=\"colab-df-convert\" onclick=\"convertToInteractive('df-4f200c4a-7bed-4c1b-9b57-ad730b3096ef')\"\n",
              "              title=\"Convert this dataframe to an interactive table.\"\n",
              "              style=\"display:none;\">\n",
              "        \n",
              "  <svg xmlns=\"http://www.w3.org/2000/svg\" height=\"24px\"viewBox=\"0 0 24 24\"\n",
              "       width=\"24px\">\n",
              "    <path d=\"M0 0h24v24H0V0z\" fill=\"none\"/>\n",
              "    <path d=\"M18.56 5.44l.94 2.06.94-2.06 2.06-.94-2.06-.94-.94-2.06-.94 2.06-2.06.94zm-11 1L8.5 8.5l.94-2.06 2.06-.94-2.06-.94L8.5 2.5l-.94 2.06-2.06.94zm10 10l.94 2.06.94-2.06 2.06-.94-2.06-.94-.94-2.06-.94 2.06-2.06.94z\"/><path d=\"M17.41 7.96l-1.37-1.37c-.4-.4-.92-.59-1.43-.59-.52 0-1.04.2-1.43.59L10.3 9.45l-7.72 7.72c-.78.78-.78 2.05 0 2.83L4 21.41c.39.39.9.59 1.41.59.51 0 1.02-.2 1.41-.59l7.78-7.78 2.81-2.81c.8-.78.8-2.07 0-2.86zM5.41 20L4 18.59l7.72-7.72 1.47 1.35L5.41 20z\"/>\n",
              "  </svg>\n",
              "      </button>\n",
              "      \n",
              "  <style>\n",
              "    .colab-df-container {\n",
              "      display:flex;\n",
              "      flex-wrap:wrap;\n",
              "      gap: 12px;\n",
              "    }\n",
              "\n",
              "    .colab-df-convert {\n",
              "      background-color: #E8F0FE;\n",
              "      border: none;\n",
              "      border-radius: 50%;\n",
              "      cursor: pointer;\n",
              "      display: none;\n",
              "      fill: #1967D2;\n",
              "      height: 32px;\n",
              "      padding: 0 0 0 0;\n",
              "      width: 32px;\n",
              "    }\n",
              "\n",
              "    .colab-df-convert:hover {\n",
              "      background-color: #E2EBFA;\n",
              "      box-shadow: 0px 1px 2px rgba(60, 64, 67, 0.3), 0px 1px 3px 1px rgba(60, 64, 67, 0.15);\n",
              "      fill: #174EA6;\n",
              "    }\n",
              "\n",
              "    [theme=dark] .colab-df-convert {\n",
              "      background-color: #3B4455;\n",
              "      fill: #D2E3FC;\n",
              "    }\n",
              "\n",
              "    [theme=dark] .colab-df-convert:hover {\n",
              "      background-color: #434B5C;\n",
              "      box-shadow: 0px 1px 3px 1px rgba(0, 0, 0, 0.15);\n",
              "      filter: drop-shadow(0px 1px 2px rgba(0, 0, 0, 0.3));\n",
              "      fill: #FFFFFF;\n",
              "    }\n",
              "  </style>\n",
              "\n",
              "      <script>\n",
              "        const buttonEl =\n",
              "          document.querySelector('#df-4f200c4a-7bed-4c1b-9b57-ad730b3096ef button.colab-df-convert');\n",
              "        buttonEl.style.display =\n",
              "          google.colab.kernel.accessAllowed ? 'block' : 'none';\n",
              "\n",
              "        async function convertToInteractive(key) {\n",
              "          const element = document.querySelector('#df-4f200c4a-7bed-4c1b-9b57-ad730b3096ef');\n",
              "          const dataTable =\n",
              "            await google.colab.kernel.invokeFunction('convertToInteractive',\n",
              "                                                     [key], {});\n",
              "          if (!dataTable) return;\n",
              "\n",
              "          const docLinkHtml = 'Like what you see? Visit the ' +\n",
              "            '<a target=\"_blank\" href=https://colab.research.google.com/notebooks/data_table.ipynb>data table notebook</a>'\n",
              "            + ' to learn more about interactive tables.';\n",
              "          element.innerHTML = '';\n",
              "          dataTable['output_type'] = 'display_data';\n",
              "          await google.colab.output.renderOutput(dataTable, element);\n",
              "          const docLink = document.createElement('div');\n",
              "          docLink.innerHTML = docLinkHtml;\n",
              "          element.appendChild(docLink);\n",
              "        }\n",
              "      </script>\n",
              "    </div>\n",
              "  </div>\n",
              "  "
            ]
          },
          "metadata": {},
          "execution_count": 29
        }
      ]
    },
    {
      "cell_type": "markdown",
      "source": [
        "# R2 score"
      ],
      "metadata": {
        "id": "-VFGemvs80Uv"
      },
      "id": "-VFGemvs80Uv"
    },
    {
      "cell_type": "code",
      "source": [
        "# 학습 데이터와 테스트 데이터로 분리\n",
        "X = batter_df[batter_df.columns.difference(['선수명','y'])]\n",
        "y = batter_df['y']\n",
        "X_train, X_test, y_train, y_test = train_test_split(X, y, test_size=0.2, random_state=19)\n",
        "\n",
        "# 회귀 분석 모델을 학습\n",
        "lr = linear_model.LinearRegression()\n",
        "model = lr.fit(X_train, y_train)\n",
        "\n",
        "# 회귀 분석 모델을 평가\n",
        "print(model.score(X_train, y_train)) # train R2 score를 출력\n",
        "print(model.score(X_test, y_test)) # test R2 score를 출력"
      ],
      "metadata": {
        "colab": {
          "base_uri": "https://localhost:8080/"
        },
        "id": "vf5tDHKuzEAn",
        "outputId": "0c5a0a57-58f7-4d0c-cebb-1924f900c3b7"
      },
      "id": "vf5tDHKuzEAn",
      "execution_count": 30,
      "outputs": [
        {
          "output_type": "stream",
          "name": "stdout",
          "text": [
            "0.930376695167735\n",
            "0.9605253564830736\n"
          ]
        }
      ]
    },
    {
      "cell_type": "markdown",
      "source": [
        "훈련 세트와 테스트 세트에 대한 평가 점수의 격차가 그리 크지않은 것으로 보아 모델이 훈련 세트에 적합한 것으로 보인다.\n",
        "또한, 두 세트 모두 1에 가까운것으로 보아 어느정도 정확한 예측이 된 것으로 추정된다."
      ],
      "metadata": {
        "id": "vNsRxAussga_"
      },
      "id": "vNsRxAussga_"
    },
    {
      "cell_type": "markdown",
      "source": [
        "# RMSE score"
      ],
      "metadata": {
        "id": "U5qiGScd8x3r"
      },
      "id": "U5qiGScd8x3r"
    },
    {
      "cell_type": "code",
      "source": [
        "y_predictions = lr.predict(X_train)\n",
        "print(sqrt(mean_squared_error(y_train, y_predictions))) # train RMSE score를 출력\n",
        "y_predictions = lr.predict(X_test)\n",
        "print(sqrt(mean_squared_error(y_test, y_predictions))) # test RMSE score를 출력"
      ],
      "metadata": {
        "colab": {
          "base_uri": "https://localhost:8080/"
        },
        "id": "ctCCRBzK077Y",
        "outputId": "64f02239-3458-4fc5-ea64-192aa946a45a"
      },
      "id": "ctCCRBzK077Y",
      "execution_count": 31,
      "outputs": [
        {
          "output_type": "stream",
          "name": "stdout",
          "text": [
            "7281.255444348115\n",
            "8904.286755840136\n"
          ]
        }
      ]
    },
    {
      "cell_type": "markdown",
      "source": [
        "이 값이 높을수록 예측이 부정확하다는 것을 의미하므로 어느정도 정확하다는 것을 알 수 있음"
      ],
      "metadata": {
        "id": "XX5A7lWfs7Y-"
      },
      "id": "XX5A7lWfs7Y-"
    },
    {
      "cell_type": "markdown",
      "source": [
        "# 4번 반복"
      ],
      "metadata": {
        "id": "Hogyvsk1UwBw"
      },
      "id": "Hogyvsk1UwBw"
    },
    {
      "cell_type": "markdown",
      "source": [
        "다중공선성 확인 과정을 반복해서 남은 피처들 중 앞서 분석한 유의미한 피처들과 영향력 높은 피처들을 위주로 피처들을 선정\n",
        "\n",
        "**<다중공선성 확인 과정을 반복해서 남은 피처>**<br>\n",
        "KIA, KT, LG, NC, SK, WAR, wOBA, 경기, 넥센, 도루, 두산, 롯데, 볼넷, 삼성, 삼진, 연봉(2017), 한화, 홈런"
      ],
      "metadata": {
        "id": "XWw-OdBpWczb"
      },
      "id": "XWw-OdBpWczb"
    },
    {
      "cell_type": "markdown",
      "source": [
        "### 1번"
      ],
      "metadata": {
        "id": "KrnFwa_TUz_m"
      },
      "id": "KrnFwa_TUz_m"
    },
    {
      "cell_type": "markdown",
      "source": [
        "다중공선성 확인 과정을 반복해서 남은 피처 중 유의미한 피처 및 영향력 높은 피처의 교집합인 피처들\n"
      ],
      "metadata": {
        "id": "XHeJpCdWY1-m"
      },
      "id": "XHeJpCdWY1-m"
    },
    {
      "cell_type": "code",
      "source": [
        "# 피처를 재선정합니다.\n",
        "X = batter_df[['wOBA', '롯데','볼넷', '연봉(2017)']]\n",
        "Y = batter_df['y']\n",
        "X_train, X_test, Y_train, Y_test = train_test_split(X,Y, test_size = 0.2, random_state=19)\n",
        "\n",
        "# 회귀 분석 모델을 학습\n",
        "lr = linear_model.LinearRegression()\n",
        "model = lr.fit(X_train, y_train)\n",
        "\n",
        "# 회귀 분석 모델을 평가\n",
        "print(model.score(X_train, y_train)) # train R2 score를 출력\n",
        "print(model.score(X_test, y_test)) # test R2 score를 출력"
      ],
      "metadata": {
        "colab": {
          "base_uri": "https://localhost:8080/"
        },
        "id": "Mr-5O88PUxw9",
        "outputId": "f79a3f86-e0f4-4ee1-ee86-2f3b2bf6686c"
      },
      "id": "Mr-5O88PUxw9",
      "execution_count": 32,
      "outputs": [
        {
          "output_type": "stream",
          "name": "stdout",
          "text": [
            "0.9146698407992817\n",
            "0.9598138657002947\n"
          ]
        }
      ]
    },
    {
      "cell_type": "code",
      "source": [
        "y_predictions = lr.predict(X_train)\n",
        "print(sqrt(mean_squared_error(y_train, y_predictions))) # train RMSE score를 출력\n",
        "y_predictions = lr.predict(X_test)\n",
        "print(sqrt(mean_squared_error(y_test, y_predictions))) # test RMSE score를 출력"
      ],
      "metadata": {
        "colab": {
          "base_uri": "https://localhost:8080/"
        },
        "id": "OEUu_psWUzaj",
        "outputId": "ff31724c-5f1a-4c44-e9e1-a63cdba2d717"
      },
      "id": "OEUu_psWUzaj",
      "execution_count": 33,
      "outputs": [
        {
          "output_type": "stream",
          "name": "stdout",
          "text": [
            "8060.838651778717\n",
            "8984.173803068243\n"
          ]
        }
      ]
    },
    {
      "cell_type": "markdown",
      "source": [
        "### 2번"
      ],
      "metadata": {
        "id": "8AzqpaOqU10p"
      },
      "id": "8AzqpaOqU10p"
    },
    {
      "cell_type": "markdown",
      "source": [
        "위의 선정한 피처 중 '삼진' 피처 추가 -> 왜냐하면 야구에서 삼진이라는 피처가 타율에 중요하기 때문이다."
      ],
      "metadata": {
        "id": "QP2g5-YtZGml"
      },
      "id": "QP2g5-YtZGml"
    },
    {
      "cell_type": "code",
      "source": [
        "# 피처를 재선정합니다.\n",
        "X = batter_df[['wOBA', '롯데','삼진','볼넷', '홈런', '연봉(2017)']]\n",
        "Y = batter_df['y']\n",
        "X_train, X_test, Y_train, Y_test = train_test_split(X,Y, test_size = 0.2, random_state=19)\n",
        "\n",
        "# 회귀 분석 모델을 학습\n",
        "lr = linear_model.LinearRegression()\n",
        "model = lr.fit(X_train, y_train)\n",
        "\n",
        "# 회귀 분석 모델을 평가\n",
        "print(model.score(X_train, y_train)) # train R2 score를 출력\n",
        "print(model.score(X_test, y_test)) # test R2 score를 출력"
      ],
      "metadata": {
        "colab": {
          "base_uri": "https://localhost:8080/"
        },
        "id": "jhUgK6flU30C",
        "outputId": "c66025ad-129c-4148-935c-75facd9872c0"
      },
      "id": "jhUgK6flU30C",
      "execution_count": 34,
      "outputs": [
        {
          "output_type": "stream",
          "name": "stdout",
          "text": [
            "0.9190832529040908\n",
            "0.9635091744223055\n"
          ]
        }
      ]
    },
    {
      "cell_type": "code",
      "source": [
        "y_predictions = lr.predict(X_train)\n",
        "print(sqrt(mean_squared_error(y_train, y_predictions))) # train RMSE score를 출력\n",
        "y_predictions = lr.predict(X_test)\n",
        "print(sqrt(mean_squared_error(y_test, y_predictions))) # test RMSE score를 출력"
      ],
      "metadata": {
        "colab": {
          "base_uri": "https://localhost:8080/"
        },
        "id": "OK--1YUBU5fh",
        "outputId": "2d2d1605-5360-4bd0-d47e-9a5b10cc3f39"
      },
      "id": "OK--1YUBU5fh",
      "execution_count": 35,
      "outputs": [
        {
          "output_type": "stream",
          "name": "stdout",
          "text": [
            "7849.611415098639\n",
            "8561.14541587792\n"
          ]
        }
      ]
    },
    {
      "cell_type": "markdown",
      "source": [
        "### 3번"
      ],
      "metadata": {
        "id": "b-Xl1J3VYKGn"
      },
      "id": "b-Xl1J3VYKGn"
    },
    {
      "cell_type": "markdown",
      "source": [
        "이번에는 팀명이 예측 모델에 도움이 될 것 같지않아서 팀명대신 WAR을 넣었다."
      ],
      "metadata": {
        "id": "QFYLoueqZTFf"
      },
      "id": "QFYLoueqZTFf"
    },
    {
      "cell_type": "code",
      "source": [
        "# 피처를 재선정합니다.\n",
        "X = batter_df[['wOBA', 'WAR','삼진','볼넷', '홈런', '연봉(2017)']]\n",
        "Y = batter_df['y']\n",
        "X_train, X_test, Y_train, Y_test = train_test_split(X,Y, test_size = 0.2, random_state=19)\n",
        "\n",
        "# 회귀 분석 모델을 학습\n",
        "lr = linear_model.LinearRegression()\n",
        "model = lr.fit(X_train, y_train)\n",
        "\n",
        "# 회귀 분석 모델을 평가\n",
        "print(model.score(X_train, y_train)) # train R2 score를 출력\n",
        "print(model.score(X_test, y_test)) # test R2 score를 출력"
      ],
      "metadata": {
        "colab": {
          "base_uri": "https://localhost:8080/"
        },
        "id": "vwjRr4RxYL58",
        "outputId": "2278828e-1224-43b4-8242-b6e9e4560ed2"
      },
      "id": "vwjRr4RxYL58",
      "execution_count": 36,
      "outputs": [
        {
          "output_type": "stream",
          "name": "stdout",
          "text": [
            "0.9171384330535692\n",
            "0.9617493418381619\n"
          ]
        }
      ]
    },
    {
      "cell_type": "code",
      "source": [
        "y_predictions = lr.predict(X_train)\n",
        "print(sqrt(mean_squared_error(y_train, y_predictions))) # train RMSE score를 출력\n",
        "y_predictions = lr.predict(X_test)\n",
        "print(sqrt(mean_squared_error(y_test, y_predictions))) # test RMSE score를 출력"
      ],
      "metadata": {
        "colab": {
          "base_uri": "https://localhost:8080/"
        },
        "id": "w-ICzlALYOJ2",
        "outputId": "304926f0-ffaf-4eff-d53e-7bc71e954a38"
      },
      "id": "w-ICzlALYOJ2",
      "execution_count": 37,
      "outputs": [
        {
          "output_type": "stream",
          "name": "stdout",
          "text": [
            "7943.383330785531\n",
            "8765.15267974799\n"
          ]
        }
      ]
    },
    {
      "cell_type": "markdown",
      "source": [
        "### 4번"
      ],
      "metadata": {
        "id": "CuPhm4O_U269"
      },
      "id": "CuPhm4O_U269"
    },
    {
      "cell_type": "markdown",
      "source": [
        "팀명과 WAR을 둘 다 넣었다."
      ],
      "metadata": {
        "id": "kpkqHvQyZeNo"
      },
      "id": "kpkqHvQyZeNo"
    },
    {
      "cell_type": "code",
      "source": [
        "# 피처를 재선정합니다.\n",
        "X = batter_df[['wOBA', 'WAR','롯데','삼진','볼넷', '홈런', '연봉(2017)']]\n",
        "Y = batter_df['y']\n",
        "X_train, X_test, Y_train, Y_test = train_test_split(X,Y, test_size = 0.2, random_state=19)\n",
        "\n",
        "# 회귀 분석 모델을 학습\n",
        "lr = linear_model.LinearRegression()\n",
        "model = lr.fit(X_train, y_train)\n",
        "\n",
        "# 회귀 분석 모델을 평가\n",
        "print(model.score(X_train, y_train)) # train R2 score를 출력\n",
        "print(model.score(X_test, y_test)) # test R2 score를 출력"
      ],
      "metadata": {
        "colab": {
          "base_uri": "https://localhost:8080/"
        },
        "id": "Xbw8cE89U7Mn",
        "outputId": "ab0abf2d-4c96-4a6a-9b0f-422022e2e28e"
      },
      "id": "Xbw8cE89U7Mn",
      "execution_count": 38,
      "outputs": [
        {
          "output_type": "stream",
          "name": "stdout",
          "text": [
            "0.9229934091040725\n",
            "0.9641573701352509\n"
          ]
        }
      ]
    },
    {
      "cell_type": "code",
      "source": [
        "y_predictions = lr.predict(X_train)\n",
        "print(sqrt(mean_squared_error(y_train, y_predictions))) # train RMSE score를 출력\n",
        "y_predictions = lr.predict(X_test)\n",
        "print(sqrt(mean_squared_error(y_test, y_predictions))) # test RMSE score를 출력"
      ],
      "metadata": {
        "colab": {
          "base_uri": "https://localhost:8080/"
        },
        "id": "11j1BDPdU7ak",
        "outputId": "1eb85d99-9bf6-4b05-b953-a59652a8aeb1"
      },
      "id": "11j1BDPdU7ak",
      "execution_count": 39,
      "outputs": [
        {
          "output_type": "stream",
          "name": "stdout",
          "text": [
            "7657.603916534934\n",
            "8484.767827879603\n"
          ]
        }
      ]
    },
    {
      "cell_type": "markdown",
      "source": [
        "# 앞에서의 분석 결과로 필요한 피처들 선정하고 선정한 이유에 대해서 설명\n",
        "\n",
        "\n",
        "\n"
      ],
      "metadata": {
        "id": "bFawC0236-TA"
      },
      "id": "bFawC0236-TA"
    },
    {
      "cell_type": "markdown",
      "source": [
        "선정한 피처 : 'wOBA', 'WAR','롯데','삼진','볼넷', '홈런', '연봉(2017)'<br>\n",
        "선정된 피처에 따른 R2평가와 RMSE 평가를 분석한 결과 4번의 R2 평가에서의 훈련 세트와 테스트 세트에 대한 평가 점수의 격차가 제일 적고, RMSE 점수값이 나머지보다 값이 낮아서 예측이 이중에서 가장 정확하므로 선정하였다. "
      ],
      "metadata": {
        "id": "TjRCH0M4BdWE"
      },
      "id": "TjRCH0M4BdWE"
    },
    {
      "cell_type": "markdown",
      "source": [
        "# 선정된 피처들도 다시 학습 진행"
      ],
      "metadata": {
        "id": "scjoN2H28t0M"
      },
      "id": "scjoN2H28t0M"
    },
    {
      "cell_type": "code",
      "source": [
        "# 피처를 재선정합니다.\n",
        "X = batter_df[['wOBA', 'WAR','롯데','삼진','볼넷', '홈런', '연봉(2017)']]\n",
        "Y = batter_df['y']\n",
        "X_train, X_test, Y_train, Y_test = train_test_split(X,Y, test_size = 0.2, random_state=19)"
      ],
      "metadata": {
        "id": "3NN7Cr1xe2hB"
      },
      "id": "3NN7Cr1xe2hB",
      "execution_count": 40,
      "outputs": []
    },
    {
      "cell_type": "code",
      "source": [
        "# 모델을 학습합니다.\n",
        "lr = linear_model.LinearRegression()\n",
        "model = lr.fit(X_train, Y_train)"
      ],
      "metadata": {
        "id": "g65xQmp_iKfd"
      },
      "id": "g65xQmp_iKfd",
      "execution_count": 41,
      "outputs": []
    },
    {
      "cell_type": "code",
      "source": [
        "# 결과를 출력합니다.\n",
        "print(model.score(X_train, Y_train)) # train R2 score를 출력합니다.\n",
        "print(model.score(X_test, Y_test)) # test R2 score를 출력합니다."
      ],
      "metadata": {
        "id": "PjzaJDlMiRgv",
        "colab": {
          "base_uri": "https://localhost:8080/"
        },
        "outputId": "d0fb9ded-b392-4727-8633-cff70da38fbb"
      },
      "id": "PjzaJDlMiRgv",
      "execution_count": 42,
      "outputs": [
        {
          "output_type": "stream",
          "name": "stdout",
          "text": [
            "0.9229934091040725\n",
            "0.9641573701352509\n"
          ]
        }
      ]
    },
    {
      "cell_type": "markdown",
      "source": [
        "두 세트에 대한 평가 점수의 격차는 0.0411639610311784이고, 훈련 세트보다 테스트 세트의 점수가 높아서 과소적합이다."
      ],
      "metadata": {
        "id": "lKRzJwUUdLZF"
      },
      "id": "lKRzJwUUdLZF"
    },
    {
      "cell_type": "code",
      "source": [
        "# 회귀 분석 모델을 평가합니다.\n",
        "y_predictions = lr.predict(X_train)\n",
        "print(sqrt(mean_squared_error(y_train, y_predictions))) # train RMSE score를 출력합니다.\n",
        "y_predictions = lr.predict(X_test)\n",
        "print(sqrt(mean_squared_error(y_test, y_predictions))) # test RMSE score를 출력합니다."
      ],
      "metadata": {
        "id": "FwHAeWLTiTeG",
        "colab": {
          "base_uri": "https://localhost:8080/"
        },
        "outputId": "c8060393-4c31-4fc3-ab8b-ee185162af97"
      },
      "id": "FwHAeWLTiTeG",
      "execution_count": 43,
      "outputs": [
        {
          "output_type": "stream",
          "name": "stdout",
          "text": [
            "7657.603916534934\n",
            "8484.767827879603\n"
          ]
        }
      ]
    },
    {
      "cell_type": "markdown",
      "source": [
        "# 예측 연봉과 실제 연봉을 비교하는 시각화"
      ],
      "metadata": {
        "id": "VkefJOUlH66c"
      },
      "id": "VkefJOUlH66c"
    },
    {
      "cell_type": "code",
      "source": [
        "# 2018년 연봉을 예측하여 데이터프레임의 column으로 생성합니다.\n",
        "X = batter_df[['wOBA', 'WAR','롯데','삼진','볼넷', '홈런', '연봉(2017)']]\n",
        "predict_2018_salary = lr.predict(X)\n",
        "batter_df['예측연봉(2018)'] = pd.Series(predict_2018_salary)"
      ],
      "metadata": {
        "id": "lsXGZRhdiYII"
      },
      "id": "lsXGZRhdiYII",
      "execution_count": 44,
      "outputs": []
    },
    {
      "cell_type": "code",
      "source": [
        "# 원래의 데이터 프레임을 다시 로드합니다.\n",
        "batter = pd.read_csv(io.BytesIO(batter_file_path['batter_stats_2017.csv']))\n",
        "batter = batter[['선수명', '연봉(2017)']]\n",
        "\n",
        "# 원래의 데이터 프레임에 2018년 연봉 정보를 합칩니다.\n",
        "result_df = batter_df.sort_values(by=['y'], ascending=False)\n",
        "result_df.drop(['연봉(2017)'], axis=1, inplace=True, errors='ignore')\n",
        "result_df = result_df.merge(batter, on=['선수명'], how='left')\n",
        "result_df = result_df[['선수명', 'y', '예측연봉(2018)', '연봉(2017)']]\n",
        "result_df.columns = ['선수명', '실제연봉(2018)', '예측연봉(2018)', '작년연봉(2017)']\n",
        "\n",
        "# 재계약하여 연봉이 변화한 선수만을 대상으로 관찰합니다.\n",
        "result_df = result_df[result_df['작년연봉(2017)'] != result_df['실제연봉(2018)']]\n",
        "result_df = result_df.reset_index()\n",
        "result_df = result_df.iloc[:10, :]\n",
        "result_df.head(10)"
      ],
      "metadata": {
        "id": "jPudLvocf2Na",
        "colab": {
          "base_uri": "https://localhost:8080/",
          "height": 363
        },
        "outputId": "c0a8bf10-e0cb-4ad0-d0af-6e5ebf6e5cdc"
      },
      "id": "jPudLvocf2Na",
      "execution_count": 45,
      "outputs": [
        {
          "output_type": "execute_result",
          "data": {
            "text/plain": [
              "   index   선수명  실제연봉(2018)     예측연봉(2018)  작년연봉(2017)\n",
              "0      3   손아섭      150000   88321.197328       65000\n",
              "1      4    러프      140000  114928.119774      110000\n",
              "2      9    번즈       73000   68336.538256       60000\n",
              "3     10  스크럭스       70000   89196.474729       80000\n",
              "4     17   양의지       60000   53976.278962       48000\n",
              "5     20   손시헌       50000   41856.308484       40000\n",
              "6     21    로맥       50000   37455.129047       30000\n",
              "7     23   나성범       43000   48087.822754       35000\n",
              "8     25   이용규       40000   80063.776717       90000\n",
              "9     28   김주찬       40000   60405.947079       60000"
            ],
            "text/html": [
              "\n",
              "  <div id=\"df-b3b5e1e8-2355-4f17-81b0-fadfa57248a1\">\n",
              "    <div class=\"colab-df-container\">\n",
              "      <div>\n",
              "<style scoped>\n",
              "    .dataframe tbody tr th:only-of-type {\n",
              "        vertical-align: middle;\n",
              "    }\n",
              "\n",
              "    .dataframe tbody tr th {\n",
              "        vertical-align: top;\n",
              "    }\n",
              "\n",
              "    .dataframe thead th {\n",
              "        text-align: right;\n",
              "    }\n",
              "</style>\n",
              "<table border=\"1\" class=\"dataframe\">\n",
              "  <thead>\n",
              "    <tr style=\"text-align: right;\">\n",
              "      <th></th>\n",
              "      <th>index</th>\n",
              "      <th>선수명</th>\n",
              "      <th>실제연봉(2018)</th>\n",
              "      <th>예측연봉(2018)</th>\n",
              "      <th>작년연봉(2017)</th>\n",
              "    </tr>\n",
              "  </thead>\n",
              "  <tbody>\n",
              "    <tr>\n",
              "      <th>0</th>\n",
              "      <td>3</td>\n",
              "      <td>손아섭</td>\n",
              "      <td>150000</td>\n",
              "      <td>88321.197328</td>\n",
              "      <td>65000</td>\n",
              "    </tr>\n",
              "    <tr>\n",
              "      <th>1</th>\n",
              "      <td>4</td>\n",
              "      <td>러프</td>\n",
              "      <td>140000</td>\n",
              "      <td>114928.119774</td>\n",
              "      <td>110000</td>\n",
              "    </tr>\n",
              "    <tr>\n",
              "      <th>2</th>\n",
              "      <td>9</td>\n",
              "      <td>번즈</td>\n",
              "      <td>73000</td>\n",
              "      <td>68336.538256</td>\n",
              "      <td>60000</td>\n",
              "    </tr>\n",
              "    <tr>\n",
              "      <th>3</th>\n",
              "      <td>10</td>\n",
              "      <td>스크럭스</td>\n",
              "      <td>70000</td>\n",
              "      <td>89196.474729</td>\n",
              "      <td>80000</td>\n",
              "    </tr>\n",
              "    <tr>\n",
              "      <th>4</th>\n",
              "      <td>17</td>\n",
              "      <td>양의지</td>\n",
              "      <td>60000</td>\n",
              "      <td>53976.278962</td>\n",
              "      <td>48000</td>\n",
              "    </tr>\n",
              "    <tr>\n",
              "      <th>5</th>\n",
              "      <td>20</td>\n",
              "      <td>손시헌</td>\n",
              "      <td>50000</td>\n",
              "      <td>41856.308484</td>\n",
              "      <td>40000</td>\n",
              "    </tr>\n",
              "    <tr>\n",
              "      <th>6</th>\n",
              "      <td>21</td>\n",
              "      <td>로맥</td>\n",
              "      <td>50000</td>\n",
              "      <td>37455.129047</td>\n",
              "      <td>30000</td>\n",
              "    </tr>\n",
              "    <tr>\n",
              "      <th>7</th>\n",
              "      <td>23</td>\n",
              "      <td>나성범</td>\n",
              "      <td>43000</td>\n",
              "      <td>48087.822754</td>\n",
              "      <td>35000</td>\n",
              "    </tr>\n",
              "    <tr>\n",
              "      <th>8</th>\n",
              "      <td>25</td>\n",
              "      <td>이용규</td>\n",
              "      <td>40000</td>\n",
              "      <td>80063.776717</td>\n",
              "      <td>90000</td>\n",
              "    </tr>\n",
              "    <tr>\n",
              "      <th>9</th>\n",
              "      <td>28</td>\n",
              "      <td>김주찬</td>\n",
              "      <td>40000</td>\n",
              "      <td>60405.947079</td>\n",
              "      <td>60000</td>\n",
              "    </tr>\n",
              "  </tbody>\n",
              "</table>\n",
              "</div>\n",
              "      <button class=\"colab-df-convert\" onclick=\"convertToInteractive('df-b3b5e1e8-2355-4f17-81b0-fadfa57248a1')\"\n",
              "              title=\"Convert this dataframe to an interactive table.\"\n",
              "              style=\"display:none;\">\n",
              "        \n",
              "  <svg xmlns=\"http://www.w3.org/2000/svg\" height=\"24px\"viewBox=\"0 0 24 24\"\n",
              "       width=\"24px\">\n",
              "    <path d=\"M0 0h24v24H0V0z\" fill=\"none\"/>\n",
              "    <path d=\"M18.56 5.44l.94 2.06.94-2.06 2.06-.94-2.06-.94-.94-2.06-.94 2.06-2.06.94zm-11 1L8.5 8.5l.94-2.06 2.06-.94-2.06-.94L8.5 2.5l-.94 2.06-2.06.94zm10 10l.94 2.06.94-2.06 2.06-.94-2.06-.94-.94-2.06-.94 2.06-2.06.94z\"/><path d=\"M17.41 7.96l-1.37-1.37c-.4-.4-.92-.59-1.43-.59-.52 0-1.04.2-1.43.59L10.3 9.45l-7.72 7.72c-.78.78-.78 2.05 0 2.83L4 21.41c.39.39.9.59 1.41.59.51 0 1.02-.2 1.41-.59l7.78-7.78 2.81-2.81c.8-.78.8-2.07 0-2.86zM5.41 20L4 18.59l7.72-7.72 1.47 1.35L5.41 20z\"/>\n",
              "  </svg>\n",
              "      </button>\n",
              "      \n",
              "  <style>\n",
              "    .colab-df-container {\n",
              "      display:flex;\n",
              "      flex-wrap:wrap;\n",
              "      gap: 12px;\n",
              "    }\n",
              "\n",
              "    .colab-df-convert {\n",
              "      background-color: #E8F0FE;\n",
              "      border: none;\n",
              "      border-radius: 50%;\n",
              "      cursor: pointer;\n",
              "      display: none;\n",
              "      fill: #1967D2;\n",
              "      height: 32px;\n",
              "      padding: 0 0 0 0;\n",
              "      width: 32px;\n",
              "    }\n",
              "\n",
              "    .colab-df-convert:hover {\n",
              "      background-color: #E2EBFA;\n",
              "      box-shadow: 0px 1px 2px rgba(60, 64, 67, 0.3), 0px 1px 3px 1px rgba(60, 64, 67, 0.15);\n",
              "      fill: #174EA6;\n",
              "    }\n",
              "\n",
              "    [theme=dark] .colab-df-convert {\n",
              "      background-color: #3B4455;\n",
              "      fill: #D2E3FC;\n",
              "    }\n",
              "\n",
              "    [theme=dark] .colab-df-convert:hover {\n",
              "      background-color: #434B5C;\n",
              "      box-shadow: 0px 1px 3px 1px rgba(0, 0, 0, 0.15);\n",
              "      filter: drop-shadow(0px 1px 2px rgba(0, 0, 0, 0.3));\n",
              "      fill: #FFFFFF;\n",
              "    }\n",
              "  </style>\n",
              "\n",
              "      <script>\n",
              "        const buttonEl =\n",
              "          document.querySelector('#df-b3b5e1e8-2355-4f17-81b0-fadfa57248a1 button.colab-df-convert');\n",
              "        buttonEl.style.display =\n",
              "          google.colab.kernel.accessAllowed ? 'block' : 'none';\n",
              "\n",
              "        async function convertToInteractive(key) {\n",
              "          const element = document.querySelector('#df-b3b5e1e8-2355-4f17-81b0-fadfa57248a1');\n",
              "          const dataTable =\n",
              "            await google.colab.kernel.invokeFunction('convertToInteractive',\n",
              "                                                     [key], {});\n",
              "          if (!dataTable) return;\n",
              "\n",
              "          const docLinkHtml = 'Like what you see? Visit the ' +\n",
              "            '<a target=\"_blank\" href=https://colab.research.google.com/notebooks/data_table.ipynb>data table notebook</a>'\n",
              "            + ' to learn more about interactive tables.';\n",
              "          element.innerHTML = '';\n",
              "          dataTable['output_type'] = 'display_data';\n",
              "          await google.colab.output.renderOutput(dataTable, element);\n",
              "          const docLink = document.createElement('div');\n",
              "          docLink.innerHTML = docLinkHtml;\n",
              "          element.appendChild(docLink);\n",
              "        }\n",
              "      </script>\n",
              "    </div>\n",
              "  </div>\n",
              "  "
            ]
          },
          "metadata": {},
          "execution_count": 45
        }
      ]
    },
    {
      "cell_type": "code",
      "source": [
        "# 선수별 연봉 정보(작년 연봉, 예측 연봉, 실제 연봉)를 bar 그래프로 출력합니다.\n",
        "plt.rc('font', family='NanumGothic')\n",
        "result_df.plot(x='선수명', y=['작년연봉(2017)', '예측연봉(2018)', '실제연봉(2018)'], kind=\"bar\")"
      ],
      "metadata": {
        "id": "_9tLtQoBiqpk",
        "colab": {
          "base_uri": "https://localhost:8080/",
          "height": 978
        },
        "outputId": "b846822e-708b-46b9-ee3a-8617738beafa"
      },
      "id": "_9tLtQoBiqpk",
      "execution_count": 46,
      "outputs": [
        {
          "output_type": "execute_result",
          "data": {
            "text/plain": [
              "<matplotlib.axes._subplots.AxesSubplot at 0x7f6e2a94cb50>"
            ]
          },
          "metadata": {},
          "execution_count": 46
        },
        {
          "output_type": "display_data",
          "data": {
            "text/plain": [
              "<Figure size 1440x1152 with 1 Axes>"
            ],
            "image/png": "[encoded data removed]"
          },
          "metadata": {}
        }
      ]
    }
  ],
  "metadata": {
    "kernelspec": {
      "display_name": "Python 3 (ipykernel)",
      "language": "python",
      "name": "python3"
    },
    "language_info": {
      "codemirror_mode": {
        "name": "ipython",
        "version": 3
      },
      "file_extension": ".py",
      "mimetype": "text/x-python",
      "name": "python",
      "nbconvert_exporter": "python",
      "pygments_lexer": "ipython3",
      "version": "3.9.12"
    },
    "colab": {
      "provenance": [],
      "collapsed_sections": [
        "uCGX6C58Gfta",
        "tVZI1tSDiIcR",
        "zC3ULT1FviUA",
        "9uZoNe48iW3p",
        "QI3ldo8digkY",
        "i5KG4_S6FGFy",
        "X-Sp9QOGi4OM",
        "OE3jNuEGxjBh",
        "-VFGemvs80Uv",
        "U5qiGScd8x3r",
        "bFawC0236-TA",
        "scjoN2H28t0M"
      ],
      "include_colab_link": true
    }
  },
  "nbformat": 4,
  "nbformat_minor": 5
}