{
  "nbformat": 4,
  "nbformat_minor": 0,
  "metadata": {
    "colab": {
      "provenance": [],
      "collapsed_sections": [
        "3RwbcEK_SQXF",
        "NOXGa45BRRI3",
        "RG7YicrxPwH2",
        "qz3JJYMNe6g6"
      ],
      "authorship_tag": "ABX9TyNFWJR4AXFBn658JWwDMoc9",
      "include_colab_link": true
    },
    "kernelspec": {
      "name": "python3",
      "display_name": "Python 3"
    },
    "language_info": {
      "name": "python"
    }
  },
  "cells": [
    {
      "cell_type": "markdown",
      "metadata": {
        "id": "view-in-github",
        "colab_type": "text"
      },
      "source": [
        "<a href=\"https://colab.research.google.com/github/DAASHeo/Contents_Bigdata/blob/main/0928.ipynb\" target=\"_parent\"><img src=\"https://colab.research.google.com/assets/colab-badge.svg\" alt=\"Open In Colab\"/></a>"
      ]
    },
    {
      "cell_type": "markdown",
      "source": [
        "tsv : tab\n",
        "\n",
        "csv : comma\n",
        "\n",
        "-> 값에 대한 분류를 뭐로 하느냐에 따른 구분"
      ],
      "metadata": {
        "id": "Y5clEEsaHDtl"
      }
    },
    {
      "cell_type": "markdown",
      "source": [
        "# 파일 업로드"
      ],
      "metadata": {
        "id": "3RwbcEK_SQXF"
      }
    },
    {
      "cell_type": "code",
      "execution_count": null,
      "metadata": {
        "colab": {
          "base_uri": "https://localhost:8080/",
          "height": 77
        },
        "id": "E7tAhQbBDGtO",
        "outputId": "a0446f92-5b04-411c-e52d-2885ce7e8e78"
      },
      "outputs": [
        {
          "output_type": "display_data",
          "data": {
            "text/plain": [
              "<IPython.core.display.HTML object>"
            ],
            "text/html": [
              "\n",
              "     <input type=\"file\" id=\"files-deb7e45b-0a24-41ca-b86c-8b26954f4f76\" name=\"files[]\" multiple disabled\n",
              "        style=\"border:none\" />\n",
              "     <output id=\"result-deb7e45b-0a24-41ca-b86c-8b26954f4f76\">\n",
              "      Upload widget is only available when the cell has been executed in the\n",
              "      current browser session. Please rerun this cell to enable.\n",
              "      </output>\n",
              "      <script>// Copyright 2017 Google LLC\n",
              "//\n",
              "// Licensed under the Apache License, Version 2.0 (the \"License\");\n",
              "// you may not use this file except in compliance with the License.\n",
              "// You may obtain a copy of the License at\n",
              "//\n",
              "//      http://www.apache.org/licenses/LICENSE-2.0\n",
              "//\n",
              "// Unless required by applicable law or agreed to in writing, software\n",
              "// distributed under the License is distributed on an \"AS IS\" BASIS,\n",
              "// WITHOUT WARRANTIES OR CONDITIONS OF ANY KIND, either express or implied.\n",
              "// See the License for the specific language governing permissions and\n",
              "// limitations under the License.\n",
              "\n",
              "/**\n",
              " * @fileoverview Helpers for google.colab Python module.\n",
              " */\n",
              "(function(scope) {\n",
              "function span(text, styleAttributes = {}) {\n",
              "  const element = document.createElement('span');\n",
              "  element.textContent = text;\n",
              "  for (const key of Object.keys(styleAttributes)) {\n",
              "    element.style[key] = styleAttributes[key];\n",
              "  }\n",
              "  return element;\n",
              "}\n",
              "\n",
              "// Max number of bytes which will be uploaded at a time.\n",
              "const MAX_PAYLOAD_SIZE = 100 * 1024;\n",
              "\n",
              "function _uploadFiles(inputId, outputId) {\n",
              "  const steps = uploadFilesStep(inputId, outputId);\n",
              "  const outputElement = document.getElementById(outputId);\n",
              "  // Cache steps on the outputElement to make it available for the next call\n",
              "  // to uploadFilesContinue from Python.\n",
              "  outputElement.steps = steps;\n",
              "\n",
              "  return _uploadFilesContinue(outputId);\n",
              "}\n",
              "\n",
              "// This is roughly an async generator (not supported in the browser yet),\n",
              "// where there are multiple asynchronous steps and the Python side is going\n",
              "// to poll for completion of each step.\n",
              "// This uses a Promise to block the python side on completion of each step,\n",
              "// then passes the result of the previous step as the input to the next step.\n",
              "function _uploadFilesContinue(outputId) {\n",
              "  const outputElement = document.getElementById(outputId);\n",
              "  const steps = outputElement.steps;\n",
              "\n",
              "  const next = steps.next(outputElement.lastPromiseValue);\n",
              "  return Promise.resolve(next.value.promise).then((value) => {\n",
              "    // Cache the last promise value to make it available to the next\n",
              "    // step of the generator.\n",
              "    outputElement.lastPromiseValue = value;\n",
              "    return next.value.response;\n",
              "  });\n",
              "}\n",
              "\n",
              "/**\n",
              " * Generator function which is called between each async step of the upload\n",
              " * process.\n",
              " * @param {string} inputId Element ID of the input file picker element.\n",
              " * @param {string} outputId Element ID of the output display.\n",
              " * @return {!Iterable<!Object>} Iterable of next steps.\n",
              " */\n",
              "function* uploadFilesStep(inputId, outputId) {\n",
              "  const inputElement = document.getElementById(inputId);\n",
              "  inputElement.disabled = false;\n",
              "\n",
              "  const outputElement = document.getElementById(outputId);\n",
              "  outputElement.innerHTML = '';\n",
              "\n",
              "  const pickedPromise = new Promise((resolve) => {\n",
              "    inputElement.addEventListener('change', (e) => {\n",
              "      resolve(e.target.files);\n",
              "    });\n",
              "  });\n",
              "\n",
              "  const cancel = document.createElement('button');\n",
              "  inputElement.parentElement.appendChild(cancel);\n",
              "  cancel.textContent = 'Cancel upload';\n",
              "  const cancelPromise = new Promise((resolve) => {\n",
              "    cancel.onclick = () => {\n",
              "      resolve(null);\n",
              "    };\n",
              "  });\n",
              "\n",
              "  // Wait for the user to pick the files.\n",
              "  const files = yield {\n",
              "    promise: Promise.race([pickedPromise, cancelPromise]),\n",
              "    response: {\n",
              "      action: 'starting',\n",
              "    }\n",
              "  };\n",
              "\n",
              "  cancel.remove();\n",
              "\n",
              "  // Disable the input element since further picks are not allowed.\n",
              "  inputElement.disabled = true;\n",
              "\n",
              "  if (!files) {\n",
              "    return {\n",
              "      response: {\n",
              "        action: 'complete',\n",
              "      }\n",
              "    };\n",
              "  }\n",
              "\n",
              "  for (const file of files) {\n",
              "    const li = document.createElement('li');\n",
              "    li.append(span(file.name, {fontWeight: 'bold'}));\n",
              "    li.append(span(\n",
              "        `(${file.type || 'n/a'}) - ${file.size} bytes, ` +\n",
              "        `last modified: ${\n",
              "            file.lastModifiedDate ? file.lastModifiedDate.toLocaleDateString() :\n",
              "                                    'n/a'} - `));\n",
              "    const percent = span('0% done');\n",
              "    li.appendChild(percent);\n",
              "\n",
              "    outputElement.appendChild(li);\n",
              "\n",
              "    const fileDataPromise = new Promise((resolve) => {\n",
              "      const reader = new FileReader();\n",
              "      reader.onload = (e) => {\n",
              "        resolve(e.target.result);\n",
              "      };\n",
              "      reader.readAsArrayBuffer(file);\n",
              "    });\n",
              "    // Wait for the data to be ready.\n",
              "    let fileData = yield {\n",
              "      promise: fileDataPromise,\n",
              "      response: {\n",
              "        action: 'continue',\n",
              "      }\n",
              "    };\n",
              "\n",
              "    // Use a chunked sending to avoid message size limits. See b/62115660.\n",
              "    let position = 0;\n",
              "    do {\n",
              "      const length = Math.min(fileData.byteLength - position, MAX_PAYLOAD_SIZE);\n",
              "      const chunk = new Uint8Array(fileData, position, length);\n",
              "      position += length;\n",
              "\n",
              "      const base64 = btoa(String.fromCharCode.apply(null, chunk));\n",
              "      yield {\n",
              "        response: {\n",
              "          action: 'append',\n",
              "          file: file.name,\n",
              "          data: base64,\n",
              "        },\n",
              "      };\n",
              "\n",
              "      let percentDone = fileData.byteLength === 0 ?\n",
              "          100 :\n",
              "          Math.round((position / fileData.byteLength) * 100);\n",
              "      percent.textContent = `${percentDone}% done`;\n",
              "\n",
              "    } while (position < fileData.byteLength);\n",
              "  }\n",
              "\n",
              "  // All done.\n",
              "  yield {\n",
              "    response: {\n",
              "      action: 'complete',\n",
              "    }\n",
              "  };\n",
              "}\n",
              "\n",
              "scope.google = scope.google || {};\n",
              "scope.google.colab = scope.google.colab || {};\n",
              "scope.google.colab._files = {\n",
              "  _uploadFiles,\n",
              "  _uploadFilesContinue,\n",
              "};\n",
              "})(self);\n",
              "</script> "
            ]
          },
          "metadata": {}
        },
        {
          "output_type": "stream",
          "name": "stdout",
          "text": [
            "Saving chipotle.tsv to chipotle (1).tsv\n"
          ]
        }
      ],
      "source": [
        "from google.colab import files\n",
        "uploaded = files .upload()"
      ]
    },
    {
      "cell_type": "markdown",
      "source": [
        "files안에 파일을 업로드해주는 함수 upload\n",
        "\n",
        "uploaded는 변수명임\n",
        "\n",
        "로컬 디스크에 데이터를 colab으로 업로드하는 함수\n",
        "\n",
        "사용하기 위해서는 google.colab.files 모듈을 임포트 한다\n"
      ],
      "metadata": {
        "id": "iQ1kPkBBIA6S"
      }
    },
    {
      "cell_type": "markdown",
      "source": [
        "# 출력"
      ],
      "metadata": {
        "id": "NOXGa45BRRI3"
      }
    },
    {
      "cell_type": "code",
      "source": [
        "# print(uploaded)"
      ],
      "metadata": {
        "id": "UP6u6RgRHY28"
      },
      "execution_count": 1,
      "outputs": []
    },
    {
      "cell_type": "markdown",
      "source": [
        "### 결과값에 대한 해석\n",
        "{'파일명': 내용들 나열}\n",
        "\n",
        "\\t -> tab\n",
        "\n",
        "\\n -> enter"
      ],
      "metadata": {
        "id": "RG7YicrxPwH2"
      }
    },
    {
      "cell_type": "code",
      "source": [
        "#print(uploaded['chipotle.tsv'])"
      ],
      "metadata": {
        "id": "SH_cbEpoQ3VX"
      },
      "execution_count": 4,
      "outputs": []
    },
    {
      "cell_type": "markdown",
      "source": [
        "### read_csv 함수\n",
        "\n",
        "• csv, tsv 등의 파일을 읽어서 데이터프레임으로 변환\n",
        "\n",
        "• 사용하기 위해서는 io 모듈을 임포트 한다\n"
      ],
      "metadata": {
        "id": "yhCWbhweRgEW"
      }
    },
    {
      "cell_type": "code",
      "source": [
        "import pandas as pd\n",
        "import io\n",
        "chipo = pd.read_csv(io.BytesIO(uploaded['chipotle.tsv']), sep='\\t')"
      ],
      "metadata": {
        "id": "m1VEIBu2RTln"
      },
      "execution_count": null,
      "outputs": []
    },
    {
      "cell_type": "markdown",
      "source": [
        "### shape 속성\n",
        "데이터프레임의 행과 열의 크기를 제공\n"
      ],
      "metadata": {
        "id": "ehDILIZDToUo"
      }
    },
    {
      "cell_type": "code",
      "source": [
        "print(chipo.shape) # 데이터 형태 확인하기"
      ],
      "metadata": {
        "colab": {
          "base_uri": "https://localhost:8080/"
        },
        "id": "kkr8ScaeTKJO",
        "outputId": "d059cd50-d249-4872-ec45-74a5d0a20d74"
      },
      "execution_count": null,
      "outputs": [
        {
          "output_type": "stream",
          "name": "stdout",
          "text": [
            "(4622, 5)\n"
          ]
        }
      ]
    },
    {
      "cell_type": "markdown",
      "source": [
        "### info() 함수\n",
        "데이터프레임의 행과 열의 구성 정보를 제공"
      ],
      "metadata": {
        "id": "S_rYBAmdTtjP"
      }
    },
    {
      "cell_type": "code",
      "source": [
        "  print(chipo.info())"
      ],
      "metadata": {
        "colab": {
          "base_uri": "https://localhost:8080/"
        },
        "id": "74C7gsPtTcyV",
        "outputId": "bc99f321-211e-422d-8800-c4bd0bebf68a"
      },
      "execution_count": null,
      "outputs": [
        {
          "output_type": "stream",
          "name": "stdout",
          "text": [
            "<class 'pandas.core.frame.DataFrame'>\n",
            "RangeIndex: 4622 entries, 0 to 4621\n",
            "Data columns (total 5 columns):\n",
            " #   Column              Non-Null Count  Dtype \n",
            "---  ------              --------------  ----- \n",
            " 0   order_id            4622 non-null   int64 \n",
            " 1   quantity            4622 non-null   int64 \n",
            " 2   item_name           4622 non-null   object\n",
            " 3   choice_description  3376 non-null   object\n",
            " 4   item_price          4622 non-null   object\n",
            "dtypes: int64(2), object(3)\n",
            "memory usage: 180.7+ KB\n",
            "None\n"
          ]
        }
      ]
    },
    {
      "cell_type": "markdown",
      "source": [
        "### columns\n",
        "컬러에 대한 정보를 제공\n",
        "\n",
        "### index 속성\n",
        "행에 대한 인덱스 정보를 제공"
      ],
      "metadata": {
        "id": "lp59geIoT-Mt"
      }
    },
    {
      "cell_type": "code",
      "source": [
        "print(chipo.columns)\n",
        "print(\"---------------\")\n",
        "print(chipo.index)"
      ],
      "metadata": {
        "colab": {
          "base_uri": "https://localhost:8080/"
        },
        "id": "ORauH5vaUAW1",
        "outputId": "be696efd-f4dd-484a-cc16-d7ff0a74bb55"
      },
      "execution_count": null,
      "outputs": [
        {
          "output_type": "stream",
          "name": "stdout",
          "text": [
            "Index(['order_id', 'quantity', 'item_name', 'choice_description',\n",
            "       'item_price'],\n",
            "      dtype='object')\n",
            "---------------\n",
            "RangeIndex(start=0, stop=4622, step=1)\n"
          ]
        }
      ]
    },
    {
      "cell_type": "markdown",
      "source": [
        "### head\n",
        "데이터셋의 행과 열, 데이터 확인하기"
      ],
      "metadata": {
        "id": "Ywgc2AjVU6Lv"
      }
    },
    {
      "cell_type": "code",
      "source": [
        "chipo.head(10) #괄호 안의 인자만큼 데이터를 가져와서 행과 열로 보여줌"
      ],
      "metadata": {
        "colab": {
          "base_uri": "https://localhost:8080/",
          "height": 363
        },
        "id": "I1T94_WrUvPN",
        "outputId": "1862fc74-8963-4604-8519-58bd223687b1"
      },
      "execution_count": null,
      "outputs": [
        {
          "output_type": "execute_result",
          "data": {
            "text/plain": [
              "   order_id  quantity                              item_name  \\\n",
              "0         1         1           Chips and Fresh Tomato Salsa   \n",
              "1         1         1                                   Izze   \n",
              "2         1         1                       Nantucket Nectar   \n",
              "3         1         1  Chips and Tomatillo-Green Chili Salsa   \n",
              "4         2         2                           Chicken Bowl   \n",
              "5         3         1                           Chicken Bowl   \n",
              "6         3         1                          Side of Chips   \n",
              "7         4         1                          Steak Burrito   \n",
              "8         4         1                       Steak Soft Tacos   \n",
              "9         5         1                          Steak Burrito   \n",
              "\n",
              "                                  choice_description item_price  \n",
              "0                                                NaN     $2.39   \n",
              "1                                       [Clementine]     $3.39   \n",
              "2                                            [Apple]     $3.39   \n",
              "3                                                NaN     $2.39   \n",
              "4  [Tomatillo-Red Chili Salsa (Hot), [Black Beans...    $16.98   \n",
              "5  [Fresh Tomato Salsa (Mild), [Rice, Cheese, Sou...    $10.98   \n",
              "6                                                NaN     $1.69   \n",
              "7  [Tomatillo Red Chili Salsa, [Fajita Vegetables...    $11.75   \n",
              "8  [Tomatillo Green Chili Salsa, [Pinto Beans, Ch...     $9.25   \n",
              "9  [Fresh Tomato Salsa, [Rice, Black Beans, Pinto...     $9.25   "
            ],
            "text/html": [
              "\n",
              "  <div id=\"df-298b7295-ec92-4af3-934d-93e0741c417e\">\n",
              "    <div class=\"colab-df-container\">\n",
              "      <div>\n",
              "<style scoped>\n",
              "    .dataframe tbody tr th:only-of-type {\n",
              "        vertical-align: middle;\n",
              "    }\n",
              "\n",
              "    .dataframe tbody tr th {\n",
              "        vertical-align: top;\n",
              "    }\n",
              "\n",
              "    .dataframe thead th {\n",
              "        text-align: right;\n",
              "    }\n",
              "</style>\n",
              "<table border=\"1\" class=\"dataframe\">\n",
              "  <thead>\n",
              "    <tr style=\"text-align: right;\">\n",
              "      <th></th>\n",
              "      <th>order_id</th>\n",
              "      <th>quantity</th>\n",
              "      <th>item_name</th>\n",
              "      <th>choice_description</th>\n",
              "      <th>item_price</th>\n",
              "    </tr>\n",
              "  </thead>\n",
              "  <tbody>\n",
              "    <tr>\n",
              "      <th>0</th>\n",
              "      <td>1</td>\n",
              "      <td>1</td>\n",
              "      <td>Chips and Fresh Tomato Salsa</td>\n",
              "      <td>NaN</td>\n",
              "      <td>$2.39</td>\n",
              "    </tr>\n",
              "    <tr>\n",
              "      <th>1</th>\n",
              "      <td>1</td>\n",
              "      <td>1</td>\n",
              "      <td>Izze</td>\n",
              "      <td>[Clementine]</td>\n",
              "      <td>$3.39</td>\n",
              "    </tr>\n",
              "    <tr>\n",
              "      <th>2</th>\n",
              "      <td>1</td>\n",
              "      <td>1</td>\n",
              "      <td>Nantucket Nectar</td>\n",
              "      <td>[Apple]</td>\n",
              "      <td>$3.39</td>\n",
              "    </tr>\n",
              "    <tr>\n",
              "      <th>3</th>\n",
              "      <td>1</td>\n",
              "      <td>1</td>\n",
              "      <td>Chips and Tomatillo-Green Chili Salsa</td>\n",
              "      <td>NaN</td>\n",
              "      <td>$2.39</td>\n",
              "    </tr>\n",
              "    <tr>\n",
              "      <th>4</th>\n",
              "      <td>2</td>\n",
              "      <td>2</td>\n",
              "      <td>Chicken Bowl</td>\n",
              "      <td>[Tomatillo-Red Chili Salsa (Hot), [Black Beans...</td>\n",
              "      <td>$16.98</td>\n",
              "    </tr>\n",
              "    <tr>\n",
              "      <th>5</th>\n",
              "      <td>3</td>\n",
              "      <td>1</td>\n",
              "      <td>Chicken Bowl</td>\n",
              "      <td>[Fresh Tomato Salsa (Mild), [Rice, Cheese, Sou...</td>\n",
              "      <td>$10.98</td>\n",
              "    </tr>\n",
              "    <tr>\n",
              "      <th>6</th>\n",
              "      <td>3</td>\n",
              "      <td>1</td>\n",
              "      <td>Side of Chips</td>\n",
              "      <td>NaN</td>\n",
              "      <td>$1.69</td>\n",
              "    </tr>\n",
              "    <tr>\n",
              "      <th>7</th>\n",
              "      <td>4</td>\n",
              "      <td>1</td>\n",
              "      <td>Steak Burrito</td>\n",
              "      <td>[Tomatillo Red Chili Salsa, [Fajita Vegetables...</td>\n",
              "      <td>$11.75</td>\n",
              "    </tr>\n",
              "    <tr>\n",
              "      <th>8</th>\n",
              "      <td>4</td>\n",
              "      <td>1</td>\n",
              "      <td>Steak Soft Tacos</td>\n",
              "      <td>[Tomatillo Green Chili Salsa, [Pinto Beans, Ch...</td>\n",
              "      <td>$9.25</td>\n",
              "    </tr>\n",
              "    <tr>\n",
              "      <th>9</th>\n",
              "      <td>5</td>\n",
              "      <td>1</td>\n",
              "      <td>Steak Burrito</td>\n",
              "      <td>[Fresh Tomato Salsa, [Rice, Black Beans, Pinto...</td>\n",
              "      <td>$9.25</td>\n",
              "    </tr>\n",
              "  </tbody>\n",
              "</table>\n",
              "</div>\n",
              "      <button class=\"colab-df-convert\" onclick=\"convertToInteractive('df-298b7295-ec92-4af3-934d-93e0741c417e')\"\n",
              "              title=\"Convert this dataframe to an interactive table.\"\n",
              "              style=\"display:none;\">\n",
              "        \n",
              "  <svg xmlns=\"http://www.w3.org/2000/svg\" height=\"24px\"viewBox=\"0 0 24 24\"\n",
              "       width=\"24px\">\n",
              "    <path d=\"M0 0h24v24H0V0z\" fill=\"none\"/>\n",
              "    <path d=\"M18.56 5.44l.94 2.06.94-2.06 2.06-.94-2.06-.94-.94-2.06-.94 2.06-2.06.94zm-11 1L8.5 8.5l.94-2.06 2.06-.94-2.06-.94L8.5 2.5l-.94 2.06-2.06.94zm10 10l.94 2.06.94-2.06 2.06-.94-2.06-.94-.94-2.06-.94 2.06-2.06.94z\"/><path d=\"M17.41 7.96l-1.37-1.37c-.4-.4-.92-.59-1.43-.59-.52 0-1.04.2-1.43.59L10.3 9.45l-7.72 7.72c-.78.78-.78 2.05 0 2.83L4 21.41c.39.39.9.59 1.41.59.51 0 1.02-.2 1.41-.59l7.78-7.78 2.81-2.81c.8-.78.8-2.07 0-2.86zM5.41 20L4 18.59l7.72-7.72 1.47 1.35L5.41 20z\"/>\n",
              "  </svg>\n",
              "      </button>\n",
              "      \n",
              "  <style>\n",
              "    .colab-df-container {\n",
              "      display:flex;\n",
              "      flex-wrap:wrap;\n",
              "      gap: 12px;\n",
              "    }\n",
              "\n",
              "    .colab-df-convert {\n",
              "      background-color: #E8F0FE;\n",
              "      border: none;\n",
              "      border-radius: 50%;\n",
              "      cursor: pointer;\n",
              "      display: none;\n",
              "      fill: #1967D2;\n",
              "      height: 32px;\n",
              "      padding: 0 0 0 0;\n",
              "      width: 32px;\n",
              "    }\n",
              "\n",
              "    .colab-df-convert:hover {\n",
              "      background-color: #E2EBFA;\n",
              "      box-shadow: 0px 1px 2px rgba(60, 64, 67, 0.3), 0px 1px 3px 1px rgba(60, 64, 67, 0.15);\n",
              "      fill: #174EA6;\n",
              "    }\n",
              "\n",
              "    [theme=dark] .colab-df-convert {\n",
              "      background-color: #3B4455;\n",
              "      fill: #D2E3FC;\n",
              "    }\n",
              "\n",
              "    [theme=dark] .colab-df-convert:hover {\n",
              "      background-color: #434B5C;\n",
              "      box-shadow: 0px 1px 3px 1px rgba(0, 0, 0, 0.15);\n",
              "      filter: drop-shadow(0px 1px 2px rgba(0, 0, 0, 0.3));\n",
              "      fill: #FFFFFF;\n",
              "    }\n",
              "  </style>\n",
              "\n",
              "      <script>\n",
              "        const buttonEl =\n",
              "          document.querySelector('#df-298b7295-ec92-4af3-934d-93e0741c417e button.colab-df-convert');\n",
              "        buttonEl.style.display =\n",
              "          google.colab.kernel.accessAllowed ? 'block' : 'none';\n",
              "\n",
              "        async function convertToInteractive(key) {\n",
              "          const element = document.querySelector('#df-298b7295-ec92-4af3-934d-93e0741c417e');\n",
              "          const dataTable =\n",
              "            await google.colab.kernel.invokeFunction('convertToInteractive',\n",
              "                                                     [key], {});\n",
              "          if (!dataTable) return;\n",
              "\n",
              "          const docLinkHtml = 'Like what you see? Visit the ' +\n",
              "            '<a target=\"_blank\" href=https://colab.research.google.com/notebooks/data_table.ipynb>data table notebook</a>'\n",
              "            + ' to learn more about interactive tables.';\n",
              "          element.innerHTML = '';\n",
              "          dataTable['output_type'] = 'display_data';\n",
              "          await google.colab.output.renderOutput(dataTable, element);\n",
              "          const docLink = document.createElement('div');\n",
              "          docLink.innerHTML = docLinkHtml;\n",
              "          element.appendChild(docLink);\n",
              "        }\n",
              "      </script>\n",
              "    </div>\n",
              "  </div>\n",
              "  "
            ]
          },
          "metadata": {},
          "execution_count": 16
        }
      ]
    },
    {
      "cell_type": "markdown",
      "source": [
        "### describe 함수(수치형 피처)\n",
        "describe 함수로 수치형 피처들의 기초 통계량 확인 가능\n",
        "\n",
        "describe() 함수\n",
        "\n",
        "• 수치형 피처들의 기초 통계량 출력\n",
        "\n",
        "• 평균, 표준편차, 사분위"
      ],
      "metadata": {
        "id": "wmUeCL_qdPoC"
      }
    },
    {
      "cell_type": "code",
      "source": [
        "chipo['order_id']=chipo['order_id'].astype(str)\n",
        "print(chipo.describe())"
      ],
      "metadata": {
        "colab": {
          "base_uri": "https://localhost:8080/"
        },
        "id": "jLWh_X9-Zz-b",
        "outputId": "d7e6547a-68e7-4145-b04e-8016090d6ae1"
      },
      "execution_count": null,
      "outputs": [
        {
          "output_type": "stream",
          "name": "stdout",
          "text": [
            "          quantity\n",
            "count  4622.000000\n",
            "mean      1.075725\n",
            "std       0.410186\n",
            "min       1.000000\n",
            "25%       1.000000\n",
            "50%       1.000000\n",
            "75%       1.000000\n",
            "max      15.000000\n"
          ]
        }
      ]
    },
    {
      "cell_type": "markdown",
      "source": [
        "std : 표준편차값\n",
        "\n",
        "mean : 평균\n",
        "\n",
        "count : 전체"
      ],
      "metadata": {
        "id": "J-Ah1jrMaOzW"
      }
    },
    {
      "cell_type": "markdown",
      "source": [
        "### unique 함수 (범주형 피처)\n",
        "unique 함수로 몇 개의 범주(몇개의 메뉴)가 있는지 확인 가능\n",
        "\n",
        "len()\n",
        "\n",
        "• 개수를 반환하는 함수\n",
        "\n",
        "unique()\n",
        "\n",
        "• 동일한 값은 삭제하는 함수"
      ],
      "metadata": {
        "id": "ESCGLpC_cksZ"
      }
    },
    {
      "cell_type": "code",
      "source": [
        "print(len(chipo['item_name'].unique())) #메뉴의 갯수 \n",
        "print((chipo['item_name'].unique()))\n",
        "print(len(chipo['order_id'].unique())) #전체 주문 수 "
      ],
      "metadata": {
        "colab": {
          "base_uri": "https://localhost:8080/"
        },
        "id": "sYuwZ67xck6K",
        "outputId": "2b9e5f50-ab1e-4879-c280-5c052be09a0e"
      },
      "execution_count": null,
      "outputs": [
        {
          "output_type": "stream",
          "name": "stdout",
          "text": [
            "50\n",
            "['Chips and Fresh Tomato Salsa' 'Izze' 'Nantucket Nectar'\n",
            " 'Chips and Tomatillo-Green Chili Salsa' 'Chicken Bowl' 'Side of Chips'\n",
            " 'Steak Burrito' 'Steak Soft Tacos' 'Chips and Guacamole'\n",
            " 'Chicken Crispy Tacos' 'Chicken Soft Tacos' 'Chicken Burrito'\n",
            " 'Canned Soda' 'Barbacoa Burrito' 'Carnitas Burrito' 'Carnitas Bowl'\n",
            " 'Bottled Water' 'Chips and Tomatillo Green Chili Salsa' 'Barbacoa Bowl'\n",
            " 'Chips' 'Chicken Salad Bowl' 'Steak Bowl' 'Barbacoa Soft Tacos'\n",
            " 'Veggie Burrito' 'Veggie Bowl' 'Steak Crispy Tacos'\n",
            " 'Chips and Tomatillo Red Chili Salsa' 'Barbacoa Crispy Tacos'\n",
            " 'Veggie Salad Bowl' 'Chips and Roasted Chili-Corn Salsa'\n",
            " 'Chips and Roasted Chili Corn Salsa' 'Carnitas Soft Tacos'\n",
            " 'Chicken Salad' 'Canned Soft Drink' 'Steak Salad Bowl'\n",
            " '6 Pack Soft Drink' 'Chips and Tomatillo-Red Chili Salsa' 'Bowl'\n",
            " 'Burrito' 'Crispy Tacos' 'Carnitas Crispy Tacos' 'Steak Salad'\n",
            " 'Chips and Mild Fresh Tomato Salsa' 'Veggie Soft Tacos'\n",
            " 'Carnitas Salad Bowl' 'Barbacoa Salad Bowl' 'Salad' 'Veggie Crispy Tacos'\n",
            " 'Veggie Salad' 'Carnitas Salad']\n",
            "1834\n"
          ]
        }
      ]
    },
    {
      "cell_type": "markdown",
      "source": [
        "# 인사이트의 발견"
      ],
      "metadata": {
        "id": "uW5oS64ZeSiq"
      }
    },
    {
      "cell_type": "markdown",
      "source": [
        "## 가장 인기있는 메뉴 Top 10\n",
        "\n"
      ],
      "metadata": {
        "id": "qz3JJYMNe6g6"
      }
    },
    {
      "cell_type": "markdown",
      "source": [
        "### value_counts()\n",
        "value가 몇 개 있는지를 반환하는 함수\n",
        "\n",
        "<파라미터>\n",
        "\n",
        "• sort : 정렬 여부\n",
        "\n",
        "• ascending : 순차 또는 역순 정렬\n",
        "\n",
        "• dropna : 널 값 출력 여부"
      ],
      "metadata": {
        "id": "Eq-JZUhxfY1I"
      }
    },
    {
      "cell_type": "code",
      "source": [
        "item_count = chipo['item_name'].value_counts()[:10] #갯수 카운트 후 top 10개만 뽑기 \n",
        "# item_count = chipo['item_name'].value_counts(sort=False)[:10]   #정렬 안함\n",
        "#item_count = chipo['item_name'].value_counts(sort=True,ascending=True)[:10] #순자정렬(메뉴 적은 숫자대로 순차정렬)\n",
        "print(item_count)"
      ],
      "metadata": {
        "colab": {
          "base_uri": "https://localhost:8080/"
        },
        "id": "oxFOJJasebi4",
        "outputId": "63a5b683-9648-47e4-d4e6-e399cd13b30f"
      },
      "execution_count": null,
      "outputs": [
        {
          "output_type": "stream",
          "name": "stdout",
          "text": [
            "Chicken Bowl                    726\n",
            "Chicken Burrito                 553\n",
            "Chips and Guacamole             479\n",
            "Steak Burrito                   368\n",
            "Canned Soft Drink               301\n",
            "Steak Bowl                      211\n",
            "Chips                           211\n",
            "Bottled Water                   162\n",
            "Chicken Soft Tacos              115\n",
            "Chips and Fresh Tomato Salsa    110\n",
            "Name: item_name, dtype: int64\n"
          ]
        }
      ]
    },
    {
      "cell_type": "markdown",
      "source": [
        "### Top 10 리스트 만들기\n",
        "**for 문법**\n",
        "\n",
        "for 변수 in 리스트\n",
        "\n",
        "**• enumerate()**\n",
        "\n",
        "데이터셋에 인덱스 추가하는 함수\n",
        "\n",
        "satrt 인자 값을 시작으로 1씩 증가\n",
        "\n",
        "**• iteritems()**\n",
        "\n",
        "데이터프레임 또는 시리즈를 반복 가능한 iterable 객체로 변환"
      ],
      "metadata": {
        "id": "CwHL5ngnij1_"
      }
    },
    {
      "cell_type": "code",
      "source": [
        "for idx, (val, cnt) in enumerate(item_count.iteritems(),1):\n",
        "  print(\"Top\", idx, \":\", val, \"\\t\", cnt)"
      ],
      "metadata": {
        "colab": {
          "base_uri": "https://localhost:8080/"
        },
        "id": "WPqEVPy_ho2_",
        "outputId": "a5edbf2e-606a-4234-ac31-f0a5a2f24357"
      },
      "execution_count": null,
      "outputs": [
        {
          "output_type": "stream",
          "name": "stdout",
          "text": [
            "Top 1 : Chicken Bowl \t 726\n",
            "Top 2 : Chicken Burrito \t 553\n",
            "Top 3 : Chips and Guacamole \t 479\n",
            "Top 4 : Steak Burrito \t 368\n",
            "Top 5 : Canned Soft Drink \t 301\n",
            "Top 6 : Steak Bowl \t 211\n",
            "Top 7 : Chips \t 211\n",
            "Top 8 : Bottled Water \t 162\n",
            "Top 9 : Chicken Soft Tacos \t 115\n",
            "Top 10 : Chips and Fresh Tomato Salsa \t 110\n"
          ]
        }
      ]
    },
    {
      "cell_type": "markdown",
      "source": [
        "## 메뉴별 판매량 구하기"
      ],
      "metadata": {
        "id": "N86CtbPEj7I2"
      }
    },
    {
      "cell_type": "markdown",
      "source": [
        "### 함수\n",
        "**groupby()**\n",
        "\n",
        "아이템별로 그룹핑 해주는 함수\n",
        "\n",
        "**count()**\n",
        "\n",
        "개수를 세주는 함수\n",
        "\n",
        "**sort_values()**\n",
        "\n",
        "시리즈 또는 데이터 프레임을 정렬해 주는 함수"
      ],
      "metadata": {
        "id": "P0IJZaRVlZ0l"
      }
    },
    {
      "cell_type": "code",
      "source": [
        "order_count = chipo.groupby('item_name')['order_id'].count()\n",
        "order_count.sort_values(ascending=False)[:10]"
      ],
      "metadata": {
        "colab": {
          "base_uri": "https://localhost:8080/"
        },
        "id": "GFj0OQs6j-AG",
        "outputId": "1748b008-3fa6-4a00-a363-934d6a118329"
      },
      "execution_count": null,
      "outputs": [
        {
          "output_type": "execute_result",
          "data": {
            "text/plain": [
              "item_name\n",
              "Chicken Bowl           726\n",
              "Chicken Burrito        553\n",
              "Chips and Guacamole    479\n",
              "Steak Burrito          368\n",
              "Canned Soft Drink      301\n",
              "Steak Bowl             211\n",
              "Chips                  211\n",
              "Bottled Water          162\n",
              "Chicken Soft Tacos     115\n",
              "Chicken Salad Bowl     110\n",
              "Name: order_id, dtype: int64"
            ]
          },
          "metadata": {},
          "execution_count": 47
        }
      ]
    },
    {
      "cell_type": "code",
      "source": [
        "item_quantity = chipo.groupby('item_name')['quantity'].sum()\n",
        "item_quantity.sort_values(ascending=False)[:10] #아이템의 전체 판매량 수 "
      ],
      "metadata": {
        "colab": {
          "base_uri": "https://localhost:8080/"
        },
        "id": "pRvzmVpQlrgv",
        "outputId": "bf5d7653-e918-4a4b-8554-90255e7d1ddd"
      },
      "execution_count": null,
      "outputs": [
        {
          "output_type": "execute_result",
          "data": {
            "text/plain": [
              "item_name\n",
              "Chicken Bowl                    761\n",
              "Chicken Burrito                 591\n",
              "Chips and Guacamole             506\n",
              "Steak Burrito                   386\n",
              "Canned Soft Drink               351\n",
              "Chips                           230\n",
              "Steak Bowl                      221\n",
              "Bottled Water                   211\n",
              "Chips and Fresh Tomato Salsa    130\n",
              "Canned Soda                     126\n",
              "Name: quantity, dtype: int64"
            ]
          },
          "metadata": {},
          "execution_count": 52
        }
      ]
    },
    {
      "cell_type": "markdown",
      "source": [
        "## 주문 총수량 시각화하기"
      ],
      "metadata": {
        "id": "dFdsJEFonS1l"
      }
    },
    {
      "cell_type": "markdown",
      "source": [
        "**tolist()**\n",
        "\n",
        "넘파이의 배열 형식으로 변환하는 함수\n",
        "\n",
        "**arange()**\n",
        "\n",
        "넘파이의 배열을 만드는 함수"
      ],
      "metadata": {
        "id": "aBrdnOYxnWHd"
      }
    },
    {
      "cell_type": "code",
      "source": [
        "import numpy as np\n",
        "import matplotlib.pyplot as plt"
      ],
      "metadata": {
        "id": "tL2WD6iemeuN"
      },
      "execution_count": null,
      "outputs": []
    },
    {
      "cell_type": "code",
      "source": [
        "#print(item_quantity)\n",
        "item_name_list = item_quantity.index.tolist()\n",
        "x_pos = np.arange(len(item_name_list))\n",
        "order_cnt = item_quantity.values.tolist()\n",
        "\n",
        "plt.bar(x_pos, order_cnt, align='center')\n",
        "plt.ylabel('ordered_item_count')\n",
        "plt.title('Di')\n",
        "\n",
        "plt.show()"
      ],
      "metadata": {
        "colab": {
          "base_uri": "https://localhost:8080/",
          "height": 281
        },
        "id": "80gyhxR7mn5k",
        "outputId": "ec61d2e8-5005-4354-ca48-524c7b64c79f"
      },
      "execution_count": null,
      "outputs": [
        {
          "output_type": "display_data",
          "data": {
            "text/plain": [
              "<Figure size 432x288 with 1 Axes>"
            ],
            "image/png": "[encoded data removed]"
          },
          "metadata": {
            "needs_background": "light"
          }
        }
      ]
    }
  ]
}