{
  "nbformat": 4,
  "nbformat_minor": 0,
  "metadata": {
    "colab": {
      "provenance": [],
      "collapsed_sections": []
    },
    "kernelspec": {
      "name": "python3",
      "display_name": "Python 3"
    },
    "language_info": {
      "name": "python"
    }
  },
  "cells": [
    {
      "cell_type": "code",
      "execution_count": null,
      "metadata": {
        "id": "OP2vb1VTS17L"
      },
      "outputs": [],
      "source": [
        "  # 학과 : IT미디어공학전공\n",
        "\n",
        "  # 학번 : 20200788\n",
        "\n",
        "  # 이름 : 허은"
      ]
    },
    {
      "cell_type": "markdown",
      "source": [
        "# 콘빅 2주차"
      ],
      "metadata": {
        "id": "9Fab4U8neDt9"
      }
    },
    {
      "cell_type": "code",
      "source": [
        "!pip install pandas numpy matplotlib #Python 패키지를 설치하고 관리하는 패키지 매니저인 pip을 이용해 pandas, numpy, matplotlib 설치\n",
        "#!는 주피터 노트북에서 리눅스 명령을 실행한다"
      ],
      "metadata": {
        "colab": {
          "base_uri": "https://localhost:8080/"
        },
        "id": "ljv7wH_qS8HK",
        "outputId": "706120a8-1d4b-43fb-90d6-d5591a82573a"
      },
      "execution_count": null,
      "outputs": [
        {
          "output_type": "stream",
          "name": "stdout",
          "text": [
            "Looking in indexes: https://pypi.org/simple, https://us-python.pkg.dev/colab-wheels/public/simple/\n",
            "Requirement already satisfied: pandas in /usr/local/lib/python3.7/dist-packages (1.3.5)\n",
            "Requirement already satisfied: numpy in /usr/local/lib/python3.7/dist-packages (1.21.6)\n",
            "Requirement already satisfied: matplotlib in /usr/local/lib/python3.7/dist-packages (3.2.2)\n",
            "Requirement already satisfied: pytz>=2017.3 in /usr/local/lib/python3.7/dist-packages (from pandas) (2022.4)\n",
            "Requirement already satisfied: python-dateutil>=2.7.3 in /usr/local/lib/python3.7/dist-packages (from pandas) (2.8.2)\n",
            "Requirement already satisfied: six>=1.5 in /usr/local/lib/python3.7/dist-packages (from python-dateutil>=2.7.3->pandas) (1.15.0)\n",
            "Requirement already satisfied: kiwisolver>=1.0.1 in /usr/local/lib/python3.7/dist-packages (from matplotlib) (1.4.4)\n",
            "Requirement already satisfied: pyparsing!=2.0.4,!=2.1.2,!=2.1.6,>=2.0.1 in /usr/local/lib/python3.7/dist-packages (from matplotlib) (3.0.9)\n",
            "Requirement already satisfied: cycler>=0.10 in /usr/local/lib/python3.7/dist-packages (from matplotlib) (0.11.0)\n",
            "Requirement already satisfied: typing-extensions in /usr/local/lib/python3.7/dist-packages (from kiwisolver>=1.0.1->matplotlib) (4.1.1)\n"
          ]
        }
      ]
    },
    {
      "cell_type": "code",
      "source": [
        "import pandas as pd #판다스 라이브러리를 실행환경으로 불러오기(pd라는 약칭으로 사용하겠다 선언)\n",
        "import numpy as np #넘파이 라이브러리를 실행환경으로 불러오기(pd라는 약칭으로 사용하겠다 선언)\n",
        "import matplotlib.pyplot as plt #matplotlib 라이브러리를 실행환경으로 불러오기(pd라는 약칭으로 사용하겠다 선언)"
      ],
      "metadata": {
        "id": "gJagYmRuWtrC"
      },
      "execution_count": 1,
      "outputs": []
    },
    {
      "cell_type": "code",
      "source": [
        "names = ['hyuna', 'dun', 'yoong', 'suji', 'yoouna']#names라는 list에 데이터 저장\n",
        "births = [959 , 34029, 34, 343, 2423]#births라는 list에 데이터 저장\n",
        "custom = [1,5,10,20,34]#custom이라는 list에 데이터 저장\n",
        "\n",
        "DataSet = list(zip(names,births,custom)) \n",
        "#names와 birth, 그리고 custom배열의 각 원소들을 원소개수가 가장 작은 것을 기준으로 동일 인덱스로 묶어 새로운 배열을 리턴한 후 리스트 형식으로 반환\n",
        "df = pd.DataFrame(data = DataSet, columns=['Name','Births','Custom'])\n",
        "# 데이터 프레임으로 변환 -> 인자값 설명 : data는 위에 선언한 DataSet 리스트, 키값(=열)의 순서 정해줌\n",
        "df.head()#.head() 함수를 이용하여 상위 5행을 출력(기본값). 상위 10개를 출력하고싶다면 df.head(10)을 입력\n",
        "\n",
        "#print(DataSet) #DataSet 리스트 출력\n",
        "# for name,birth in zip(names,births):\n",
        "#   print(name, birth) #for문을 이용하여 결과값 출력"
      ],
      "metadata": {
        "colab": {
          "base_uri": "https://localhost:8080/",
          "height": 206
        },
        "id": "D-YdzG2MXFLc",
        "outputId": "52889662-43e4-408c-a47f-d079c7d6d68d"
      },
      "execution_count": 3,
      "outputs": [
        {
          "output_type": "execute_result",
          "data": {
            "text/plain": [
              "     Name  Births  Custom\n",
              "0   hyuna     959       1\n",
              "1     dun   34029       5\n",
              "2   yoong      34      10\n",
              "3    suji     343      20\n",
              "4  yoouna    2423      34"
            ],
            "text/html": [
              "\n",
              "  <div id=\"df-12306ef9-257a-4bbd-8098-817955049022\">\n",
              "    <div class=\"colab-df-container\">\n",
              "      <div>\n",
              "<style scoped>\n",
              "    .dataframe tbody tr th:only-of-type {\n",
              "        vertical-align: middle;\n",
              "    }\n",
              "\n",
              "    .dataframe tbody tr th {\n",
              "        vertical-align: top;\n",
              "    }\n",
              "\n",
              "    .dataframe thead th {\n",
              "        text-align: right;\n",
              "    }\n",
              "</style>\n",
              "<table border=\"1\" class=\"dataframe\">\n",
              "  <thead>\n",
              "    <tr style=\"text-align: right;\">\n",
              "      <th></th>\n",
              "      <th>Name</th>\n",
              "      <th>Births</th>\n",
              "      <th>Custom</th>\n",
              "    </tr>\n",
              "  </thead>\n",
              "  <tbody>\n",
              "    <tr>\n",
              "      <th>0</th>\n",
              "      <td>hyuna</td>\n",
              "      <td>959</td>\n",
              "      <td>1</td>\n",
              "    </tr>\n",
              "    <tr>\n",
              "      <th>1</th>\n",
              "      <td>dun</td>\n",
              "      <td>34029</td>\n",
              "      <td>5</td>\n",
              "    </tr>\n",
              "    <tr>\n",
              "      <th>2</th>\n",
              "      <td>yoong</td>\n",
              "      <td>34</td>\n",
              "      <td>10</td>\n",
              "    </tr>\n",
              "    <tr>\n",
              "      <th>3</th>\n",
              "      <td>suji</td>\n",
              "      <td>343</td>\n",
              "      <td>20</td>\n",
              "    </tr>\n",
              "    <tr>\n",
              "      <th>4</th>\n",
              "      <td>yoouna</td>\n",
              "      <td>2423</td>\n",
              "      <td>34</td>\n",
              "    </tr>\n",
              "  </tbody>\n",
              "</table>\n",
              "</div>\n",
              "      <button class=\"colab-df-convert\" onclick=\"convertToInteractive('df-12306ef9-257a-4bbd-8098-817955049022')\"\n",
              "              title=\"Convert this dataframe to an interactive table.\"\n",
              "              style=\"display:none;\">\n",
              "        \n",
              "  <svg xmlns=\"http://www.w3.org/2000/svg\" height=\"24px\"viewBox=\"0 0 24 24\"\n",
              "       width=\"24px\">\n",
              "    <path d=\"M0 0h24v24H0V0z\" fill=\"none\"/>\n",
              "    <path d=\"M18.56 5.44l.94 2.06.94-2.06 2.06-.94-2.06-.94-.94-2.06-.94 2.06-2.06.94zm-11 1L8.5 8.5l.94-2.06 2.06-.94-2.06-.94L8.5 2.5l-.94 2.06-2.06.94zm10 10l.94 2.06.94-2.06 2.06-.94-2.06-.94-.94-2.06-.94 2.06-2.06.94z\"/><path d=\"M17.41 7.96l-1.37-1.37c-.4-.4-.92-.59-1.43-.59-.52 0-1.04.2-1.43.59L10.3 9.45l-7.72 7.72c-.78.78-.78 2.05 0 2.83L4 21.41c.39.39.9.59 1.41.59.51 0 1.02-.2 1.41-.59l7.78-7.78 2.81-2.81c.8-.78.8-2.07 0-2.86zM5.41 20L4 18.59l7.72-7.72 1.47 1.35L5.41 20z\"/>\n",
              "  </svg>\n",
              "      </button>\n",
              "      \n",
              "  <style>\n",
              "    .colab-df-container {\n",
              "      display:flex;\n",
              "      flex-wrap:wrap;\n",
              "      gap: 12px;\n",
              "    }\n",
              "\n",
              "    .colab-df-convert {\n",
              "      background-color: #E8F0FE;\n",
              "      border: none;\n",
              "      border-radius: 50%;\n",
              "      cursor: pointer;\n",
              "      display: none;\n",
              "      fill: #1967D2;\n",
              "      height: 32px;\n",
              "      padding: 0 0 0 0;\n",
              "      width: 32px;\n",
              "    }\n",
              "\n",
              "    .colab-df-convert:hover {\n",
              "      background-color: #E2EBFA;\n",
              "      box-shadow: 0px 1px 2px rgba(60, 64, 67, 0.3), 0px 1px 3px 1px rgba(60, 64, 67, 0.15);\n",
              "      fill: #174EA6;\n",
              "    }\n",
              "\n",
              "    [theme=dark] .colab-df-convert {\n",
              "      background-color: #3B4455;\n",
              "      fill: #D2E3FC;\n",
              "    }\n",
              "\n",
              "    [theme=dark] .colab-df-convert:hover {\n",
              "      background-color: #434B5C;\n",
              "      box-shadow: 0px 1px 3px 1px rgba(0, 0, 0, 0.15);\n",
              "      filter: drop-shadow(0px 1px 2px rgba(0, 0, 0, 0.3));\n",
              "      fill: #FFFFFF;\n",
              "    }\n",
              "  </style>\n",
              "\n",
              "      <script>\n",
              "        const buttonEl =\n",
              "          document.querySelector('#df-12306ef9-257a-4bbd-8098-817955049022 button.colab-df-convert');\n",
              "        buttonEl.style.display =\n",
              "          google.colab.kernel.accessAllowed ? 'block' : 'none';\n",
              "\n",
              "        async function convertToInteractive(key) {\n",
              "          const element = document.querySelector('#df-12306ef9-257a-4bbd-8098-817955049022');\n",
              "          const dataTable =\n",
              "            await google.colab.kernel.invokeFunction('convertToInteractive',\n",
              "                                                     [key], {});\n",
              "          if (!dataTable) return;\n",
              "\n",
              "          const docLinkHtml = 'Like what you see? Visit the ' +\n",
              "            '<a target=\"_blank\" href=https://colab.research.google.com/notebooks/data_table.ipynb>data table notebook</a>'\n",
              "            + ' to learn more about interactive tables.';\n",
              "          element.innerHTML = '';\n",
              "          dataTable['output_type'] = 'display_data';\n",
              "          await google.colab.output.renderOutput(dataTable, element);\n",
              "          const docLink = document.createElement('div');\n",
              "          docLink.innerHTML = docLinkHtml;\n",
              "          element.appendChild(docLink);\n",
              "        }\n",
              "      </script>\n",
              "    </div>\n",
              "  </div>\n",
              "  "
            ]
          },
          "metadata": {},
          "execution_count": 3
        }
      ]
    },
    {
      "cell_type": "code",
      "source": [
        "print(DataSet) #DataSet 리스트 출력\n",
        "for name,birth in zip(names,births):\n",
        "  print(name, birth) #for문을 이용하여 결과값 출력"
      ],
      "metadata": {
        "colab": {
          "base_uri": "https://localhost:8080/"
        },
        "id": "LvchKMISHdCA",
        "outputId": "17cad3dc-894e-448e-a788-18f6209fe2dc"
      },
      "execution_count": 4,
      "outputs": [
        {
          "output_type": "stream",
          "name": "stdout",
          "text": [
            "[('hyuna', 959, 1), ('dun', 34029, 5), ('yoong', 34, 10), ('suji', 343, 20), ('yoouna', 2423, 34)]\n",
            "hyuna 959\n",
            "dun 34029\n",
            "yoong 34\n",
            "suji 343\n",
            "yoouna 2423\n"
          ]
        }
      ]
    },
    {
      "cell_type": "code",
      "source": [
        "df.dtypes #데이터 프레임의 기본 정보 출력(자료형 확인하기)"
      ],
      "metadata": {
        "colab": {
          "base_uri": "https://localhost:8080/"
        },
        "id": "SOTuJ5OTdr52",
        "outputId": "47690abb-a9e6-44d9-b5e9-4d7633d3f482"
      },
      "execution_count": null,
      "outputs": [
        {
          "output_type": "execute_result",
          "data": {
            "text/plain": [
              "Name      object\n",
              "Births     int64\n",
              "Custom     int64\n",
              "dtype: object"
            ]
          },
          "metadata": {},
          "execution_count": 11
        }
      ]
    },
    {
      "cell_type": "code",
      "source": [
        "df.index #데이터 프레임의 인덱스 정보(행 방향의 index)"
      ],
      "metadata": {
        "colab": {
          "base_uri": "https://localhost:8080/"
        },
        "id": "3AkteWideNAE",
        "outputId": "5b1da62c-e0b8-4a9c-f4ef-d6e77ea3982e"
      },
      "execution_count": null,
      "outputs": [
        {
          "output_type": "execute_result",
          "data": {
            "text/plain": [
              "RangeIndex(start=0, stop=5, step=1)"
            ]
          },
          "metadata": {},
          "execution_count": 12
        }
      ]
    },
    {
      "cell_type": "code",
      "source": [
        "df.columns #열 형태의 정보"
      ],
      "metadata": {
        "colab": {
          "base_uri": "https://localhost:8080/"
        },
        "id": "OYPwCxv_ePMp",
        "outputId": "fdceb850-62b7-414c-9815-718b13142dcf"
      },
      "execution_count": null,
      "outputs": [
        {
          "output_type": "execute_result",
          "data": {
            "text/plain": [
              "Index(['Name', 'Births', 'Custom'], dtype='object')"
            ]
          },
          "metadata": {},
          "execution_count": 13
        }
      ]
    },
    {
      "cell_type": "code",
      "source": [
        "df['Name'] #'Name'열만 출력"
      ],
      "metadata": {
        "colab": {
          "base_uri": "https://localhost:8080/"
        },
        "id": "C9p-tL01eQxv",
        "outputId": "ce13bfd8-f2e0-47b4-8850-ee1372d231b1"
      },
      "execution_count": null,
      "outputs": [
        {
          "output_type": "execute_result",
          "data": {
            "text/plain": [
              "0     hyuna\n",
              "1       dun\n",
              "2     yoong\n",
              "3      suji\n",
              "4    yoouna\n",
              "Name: Name, dtype: object"
            ]
          },
          "metadata": {},
          "execution_count": 14
        }
      ]
    },
    {
      "cell_type": "code",
      "source": [
        "df[0:3] #0번째 부터 2(3-1) 번째까지 가져온다"
      ],
      "metadata": {
        "colab": {
          "base_uri": "https://localhost:8080/",
          "height": 143
        },
        "id": "4IuxFZz8eS7G",
        "outputId": "a370ca41-d6e1-4bc6-b7ce-8624219744f9"
      },
      "execution_count": null,
      "outputs": [
        {
          "output_type": "execute_result",
          "data": {
            "text/plain": [
              "    Name  Births  Custom\n",
              "0  hyuna     959       1\n",
              "1    dun   34029       5\n",
              "2  yoong      34      10"
            ],
            "text/html": [
              "\n",
              "  <div id=\"df-23bf65c0-42a1-4c9a-896e-3db427748105\">\n",
              "    <div class=\"colab-df-container\">\n",
              "      <div>\n",
              "<style scoped>\n",
              "    .dataframe tbody tr th:only-of-type {\n",
              "        vertical-align: middle;\n",
              "    }\n",
              "\n",
              "    .dataframe tbody tr th {\n",
              "        vertical-align: top;\n",
              "    }\n",
              "\n",
              "    .dataframe thead th {\n",
              "        text-align: right;\n",
              "    }\n",
              "</style>\n",
              "<table border=\"1\" class=\"dataframe\">\n",
              "  <thead>\n",
              "    <tr style=\"text-align: right;\">\n",
              "      <th></th>\n",
              "      <th>Name</th>\n",
              "      <th>Births</th>\n",
              "      <th>Custom</th>\n",
              "    </tr>\n",
              "  </thead>\n",
              "  <tbody>\n",
              "    <tr>\n",
              "      <th>0</th>\n",
              "      <td>hyuna</td>\n",
              "      <td>959</td>\n",
              "      <td>1</td>\n",
              "    </tr>\n",
              "    <tr>\n",
              "      <th>1</th>\n",
              "      <td>dun</td>\n",
              "      <td>34029</td>\n",
              "      <td>5</td>\n",
              "    </tr>\n",
              "    <tr>\n",
              "      <th>2</th>\n",
              "      <td>yoong</td>\n",
              "      <td>34</td>\n",
              "      <td>10</td>\n",
              "    </tr>\n",
              "  </tbody>\n",
              "</table>\n",
              "</div>\n",
              "      <button class=\"colab-df-convert\" onclick=\"convertToInteractive('df-23bf65c0-42a1-4c9a-896e-3db427748105')\"\n",
              "              title=\"Convert this dataframe to an interactive table.\"\n",
              "              style=\"display:none;\">\n",
              "        \n",
              "  <svg xmlns=\"http://www.w3.org/2000/svg\" height=\"24px\"viewBox=\"0 0 24 24\"\n",
              "       width=\"24px\">\n",
              "    <path d=\"M0 0h24v24H0V0z\" fill=\"none\"/>\n",
              "    <path d=\"M18.56 5.44l.94 2.06.94-2.06 2.06-.94-2.06-.94-.94-2.06-.94 2.06-2.06.94zm-11 1L8.5 8.5l.94-2.06 2.06-.94-2.06-.94L8.5 2.5l-.94 2.06-2.06.94zm10 10l.94 2.06.94-2.06 2.06-.94-2.06-.94-.94-2.06-.94 2.06-2.06.94z\"/><path d=\"M17.41 7.96l-1.37-1.37c-.4-.4-.92-.59-1.43-.59-.52 0-1.04.2-1.43.59L10.3 9.45l-7.72 7.72c-.78.78-.78 2.05 0 2.83L4 21.41c.39.39.9.59 1.41.59.51 0 1.02-.2 1.41-.59l7.78-7.78 2.81-2.81c.8-.78.8-2.07 0-2.86zM5.41 20L4 18.59l7.72-7.72 1.47 1.35L5.41 20z\"/>\n",
              "  </svg>\n",
              "      </button>\n",
              "      \n",
              "  <style>\n",
              "    .colab-df-container {\n",
              "      display:flex;\n",
              "      flex-wrap:wrap;\n",
              "      gap: 12px;\n",
              "    }\n",
              "\n",
              "    .colab-df-convert {\n",
              "      background-color: #E8F0FE;\n",
              "      border: none;\n",
              "      border-radius: 50%;\n",
              "      cursor: pointer;\n",
              "      display: none;\n",
              "      fill: #1967D2;\n",
              "      height: 32px;\n",
              "      padding: 0 0 0 0;\n",
              "      width: 32px;\n",
              "    }\n",
              "\n",
              "    .colab-df-convert:hover {\n",
              "      background-color: #E2EBFA;\n",
              "      box-shadow: 0px 1px 2px rgba(60, 64, 67, 0.3), 0px 1px 3px 1px rgba(60, 64, 67, 0.15);\n",
              "      fill: #174EA6;\n",
              "    }\n",
              "\n",
              "    [theme=dark] .colab-df-convert {\n",
              "      background-color: #3B4455;\n",
              "      fill: #D2E3FC;\n",
              "    }\n",
              "\n",
              "    [theme=dark] .colab-df-convert:hover {\n",
              "      background-color: #434B5C;\n",
              "      box-shadow: 0px 1px 3px 1px rgba(0, 0, 0, 0.15);\n",
              "      filter: drop-shadow(0px 1px 2px rgba(0, 0, 0, 0.3));\n",
              "      fill: #FFFFFF;\n",
              "    }\n",
              "  </style>\n",
              "\n",
              "      <script>\n",
              "        const buttonEl =\n",
              "          document.querySelector('#df-23bf65c0-42a1-4c9a-896e-3db427748105 button.colab-df-convert');\n",
              "        buttonEl.style.display =\n",
              "          google.colab.kernel.accessAllowed ? 'block' : 'none';\n",
              "\n",
              "        async function convertToInteractive(key) {\n",
              "          const element = document.querySelector('#df-23bf65c0-42a1-4c9a-896e-3db427748105');\n",
              "          const dataTable =\n",
              "            await google.colab.kernel.invokeFunction('convertToInteractive',\n",
              "                                                     [key], {});\n",
              "          if (!dataTable) return;\n",
              "\n",
              "          const docLinkHtml = 'Like what you see? Visit the ' +\n",
              "            '<a target=\"_blank\" href=https://colab.research.google.com/notebooks/data_table.ipynb>data table notebook</a>'\n",
              "            + ' to learn more about interactive tables.';\n",
              "          element.innerHTML = '';\n",
              "          dataTable['output_type'] = 'display_data';\n",
              "          await google.colab.output.renderOutput(dataTable, element);\n",
              "          const docLink = document.createElement('div');\n",
              "          docLink.innerHTML = docLinkHtml;\n",
              "          element.appendChild(docLink);\n",
              "        }\n",
              "      </script>\n",
              "    </div>\n",
              "  </div>\n",
              "  "
            ]
          },
          "metadata": {},
          "execution_count": 20
        }
      ]
    },
    {
      "cell_type": "code",
      "source": [
        "df[df['Births']>1500] #Births 열이 1500보다 큰 데이터를 선택"
      ],
      "metadata": {
        "colab": {
          "base_uri": "https://localhost:8080/",
          "height": 112
        },
        "id": "miS3wuRPeVFC",
        "outputId": "cecbaee8-dfbd-4a23-d646-fe0baeafa21f"
      },
      "execution_count": null,
      "outputs": [
        {
          "output_type": "execute_result",
          "data": {
            "text/plain": [
              "     Name  Births  Custom\n",
              "1     dun   34029       5\n",
              "4  yoouna    2423      34"
            ],
            "text/html": [
              "\n",
              "  <div id=\"df-80712388-a018-4b1c-8281-85f05b0f5908\">\n",
              "    <div class=\"colab-df-container\">\n",
              "      <div>\n",
              "<style scoped>\n",
              "    .dataframe tbody tr th:only-of-type {\n",
              "        vertical-align: middle;\n",
              "    }\n",
              "\n",
              "    .dataframe tbody tr th {\n",
              "        vertical-align: top;\n",
              "    }\n",
              "\n",
              "    .dataframe thead th {\n",
              "        text-align: right;\n",
              "    }\n",
              "</style>\n",
              "<table border=\"1\" class=\"dataframe\">\n",
              "  <thead>\n",
              "    <tr style=\"text-align: right;\">\n",
              "      <th></th>\n",
              "      <th>Name</th>\n",
              "      <th>Births</th>\n",
              "      <th>Custom</th>\n",
              "    </tr>\n",
              "  </thead>\n",
              "  <tbody>\n",
              "    <tr>\n",
              "      <th>1</th>\n",
              "      <td>dun</td>\n",
              "      <td>34029</td>\n",
              "      <td>5</td>\n",
              "    </tr>\n",
              "    <tr>\n",
              "      <th>4</th>\n",
              "      <td>yoouna</td>\n",
              "      <td>2423</td>\n",
              "      <td>34</td>\n",
              "    </tr>\n",
              "  </tbody>\n",
              "</table>\n",
              "</div>\n",
              "      <button class=\"colab-df-convert\" onclick=\"convertToInteractive('df-80712388-a018-4b1c-8281-85f05b0f5908')\"\n",
              "              title=\"Convert this dataframe to an interactive table.\"\n",
              "              style=\"display:none;\">\n",
              "        \n",
              "  <svg xmlns=\"http://www.w3.org/2000/svg\" height=\"24px\"viewBox=\"0 0 24 24\"\n",
              "       width=\"24px\">\n",
              "    <path d=\"M0 0h24v24H0V0z\" fill=\"none\"/>\n",
              "    <path d=\"M18.56 5.44l.94 2.06.94-2.06 2.06-.94-2.06-.94-.94-2.06-.94 2.06-2.06.94zm-11 1L8.5 8.5l.94-2.06 2.06-.94-2.06-.94L8.5 2.5l-.94 2.06-2.06.94zm10 10l.94 2.06.94-2.06 2.06-.94-2.06-.94-.94-2.06-.94 2.06-2.06.94z\"/><path d=\"M17.41 7.96l-1.37-1.37c-.4-.4-.92-.59-1.43-.59-.52 0-1.04.2-1.43.59L10.3 9.45l-7.72 7.72c-.78.78-.78 2.05 0 2.83L4 21.41c.39.39.9.59 1.41.59.51 0 1.02-.2 1.41-.59l7.78-7.78 2.81-2.81c.8-.78.8-2.07 0-2.86zM5.41 20L4 18.59l7.72-7.72 1.47 1.35L5.41 20z\"/>\n",
              "  </svg>\n",
              "      </button>\n",
              "      \n",
              "  <style>\n",
              "    .colab-df-container {\n",
              "      display:flex;\n",
              "      flex-wrap:wrap;\n",
              "      gap: 12px;\n",
              "    }\n",
              "\n",
              "    .colab-df-convert {\n",
              "      background-color: #E8F0FE;\n",
              "      border: none;\n",
              "      border-radius: 50%;\n",
              "      cursor: pointer;\n",
              "      display: none;\n",
              "      fill: #1967D2;\n",
              "      height: 32px;\n",
              "      padding: 0 0 0 0;\n",
              "      width: 32px;\n",
              "    }\n",
              "\n",
              "    .colab-df-convert:hover {\n",
              "      background-color: #E2EBFA;\n",
              "      box-shadow: 0px 1px 2px rgba(60, 64, 67, 0.3), 0px 1px 3px 1px rgba(60, 64, 67, 0.15);\n",
              "      fill: #174EA6;\n",
              "    }\n",
              "\n",
              "    [theme=dark] .colab-df-convert {\n",
              "      background-color: #3B4455;\n",
              "      fill: #D2E3FC;\n",
              "    }\n",
              "\n",
              "    [theme=dark] .colab-df-convert:hover {\n",
              "      background-color: #434B5C;\n",
              "      box-shadow: 0px 1px 3px 1px rgba(0, 0, 0, 0.15);\n",
              "      filter: drop-shadow(0px 1px 2px rgba(0, 0, 0, 0.3));\n",
              "      fill: #FFFFFF;\n",
              "    }\n",
              "  </style>\n",
              "\n",
              "      <script>\n",
              "        const buttonEl =\n",
              "          document.querySelector('#df-80712388-a018-4b1c-8281-85f05b0f5908 button.colab-df-convert');\n",
              "        buttonEl.style.display =\n",
              "          google.colab.kernel.accessAllowed ? 'block' : 'none';\n",
              "\n",
              "        async function convertToInteractive(key) {\n",
              "          const element = document.querySelector('#df-80712388-a018-4b1c-8281-85f05b0f5908');\n",
              "          const dataTable =\n",
              "            await google.colab.kernel.invokeFunction('convertToInteractive',\n",
              "                                                     [key], {});\n",
              "          if (!dataTable) return;\n",
              "\n",
              "          const docLinkHtml = 'Like what you see? Visit the ' +\n",
              "            '<a target=\"_blank\" href=https://colab.research.google.com/notebooks/data_table.ipynb>data table notebook</a>'\n",
              "            + ' to learn more about interactive tables.';\n",
              "          element.innerHTML = '';\n",
              "          dataTable['output_type'] = 'display_data';\n",
              "          await google.colab.output.renderOutput(dataTable, element);\n",
              "          const docLink = document.createElement('div');\n",
              "          docLink.innerHTML = docLinkHtml;\n",
              "          element.appendChild(docLink);\n",
              "        }\n",
              "      </script>\n",
              "    </div>\n",
              "  </div>\n",
              "  "
            ]
          },
          "metadata": {},
          "execution_count": 21
        }
      ]
    },
    {
      "cell_type": "code",
      "source": [
        "arr1=np.arange(15).reshape(3,5) #0~14 까지의 1차원 배열을 생성하고 1차원 배열을 3행 5열의 2차원배열로 변환한다.\n",
        "arr1 #배열 출력"
      ],
      "metadata": {
        "colab": {
          "base_uri": "https://localhost:8080/"
        },
        "id": "Qr6pnsXXmz83",
        "outputId": "c94e49b3-ecaa-4f14-c9db-e25a513967f2"
      },
      "execution_count": null,
      "outputs": [
        {
          "output_type": "execute_result",
          "data": {
            "text/plain": [
              "array([[ 0,  1,  2,  3,  4],\n",
              "       [ 5,  6,  7,  8,  9],\n",
              "       [10, 11, 12, 13, 14]])"
            ]
          },
          "metadata": {},
          "execution_count": 30
        }
      ]
    },
    {
      "cell_type": "code",
      "source": [
        "arr1.shape #넘파이 배열 정보를 출력한다."
      ],
      "metadata": {
        "colab": {
          "base_uri": "https://localhost:8080/"
        },
        "id": "JD3Xyiiom5vt",
        "outputId": "0ec4da8e-c6cd-480f-f71a-c9e9afa49dbc"
      },
      "execution_count": null,
      "outputs": [
        {
          "output_type": "execute_result",
          "data": {
            "text/plain": [
              "(3, 5)"
            ]
          },
          "metadata": {},
          "execution_count": 29
        }
      ]
    },
    {
      "cell_type": "code",
      "source": [
        "arr1.dtype #넘파이 배열의 데이터 타입을 확인한다"
      ],
      "metadata": {
        "colab": {
          "base_uri": "https://localhost:8080/"
        },
        "id": "7Ck1da00m-8Q",
        "outputId": "f8257bce-807d-4b08-d549-3ee261b2d8ca"
      },
      "execution_count": null,
      "outputs": [
        {
          "output_type": "execute_result",
          "data": {
            "text/plain": [
              "dtype('int64')"
            ]
          },
          "metadata": {},
          "execution_count": 28
        }
      ]
    },
    {
      "cell_type": "code",
      "source": [
        "arr2 = np.zeros((3,5)) # 0으로 채워진 3행 5열의 2차원 넘파이 배열을 생성\n",
        "arr2 #생성된 배열 출력"
      ],
      "metadata": {
        "colab": {
          "base_uri": "https://localhost:8080/"
        },
        "id": "BniYGEgSnCjc",
        "outputId": "8f7a8ef0-2693-47b2-e47f-6e41eedac583"
      },
      "execution_count": null,
      "outputs": [
        {
          "output_type": "execute_result",
          "data": {
            "text/plain": [
              "array([[0., 0., 0., 0., 0.],\n",
              "       [0., 0., 0., 0., 0.],\n",
              "       [0., 0., 0., 0., 0.]])"
            ]
          },
          "metadata": {},
          "execution_count": 27
        }
      ]
    },
    {
      "cell_type": "code",
      "source": [
        "arr3 = np.array(([1,2,3],[4,5,6]),dtype=np.int64) \n",
        "#array3에 값을 지정해주면서 2행 3열인 배열 생성하고, 데이터 타입은 float type으로 설정\n",
        "arr4 = np.array(([7,8,9],[10,11,12]),dtype=np.int64)\n",
        "#array34에 값을 지정해주면서 2행 3열인 배열 생성하고, 데이터 타입은 float type으로 설정\n",
        "\n",
        "#더하기\n",
        "print(\"arr3 + arr4 = \\t\")\n",
        "print(arr3 + arr4, \"\\n\") #각 행과 열의 값을 더하기 연산\n",
        "\n",
        "#빼기\n",
        "print(\"arr3 - arr4 = \")\n",
        "print(arr3 - arr4, \"\\n\") #각 행과 열의 값을 빼기 연산\n",
        "\n",
        "#곱하기\n",
        "print(\"arr3 * arr4 = \\t\")\n",
        "print(arr3 * arr4, \"\\n\") #각 행과 열의 값을 곱하기 연산\n",
        "\n",
        "#나누기\n",
        "print(\"arr3 / arr4 = \")\n",
        "print(arr3 / arr4, \"\\n\") #각 행과 열의 값을 나누기 연산"
      ],
      "metadata": {
        "colab": {
          "base_uri": "https://localhost:8080/"
        },
        "id": "64GKPugJnKdJ",
        "outputId": "e7a26a00-45e4-4fd1-fdf3-a7af68053a63"
      },
      "execution_count": null,
      "outputs": [
        {
          "output_type": "stream",
          "name": "stdout",
          "text": [
            "arr3 + arr4 = \t\n",
            "[[ 8 10 12]\n",
            " [14 16 18]] \n",
            "\n",
            "arr3 - arr4 = \n",
            "[[-6 -6 -6]\n",
            " [-6 -6 -6]] \n",
            "\n",
            "arr3 * arr4 = \t\n",
            "[[ 7 16 27]\n",
            " [40 55 72]] \n",
            "\n",
            "arr3 / arr4 = \n",
            "[[0.14285714 0.25       0.33333333]\n",
            " [0.4        0.45454545 0.5       ]] \n",
            "\n"
          ]
        }
      ]
    },
    {
      "cell_type": "code",
      "source": [
        "x=df['Name'] # 변수 x에 'Name'열의 데이터 저장\n",
        "y=df['Births'] # 변수 y에 'Births'열의 데이터 저장\n",
        "\n",
        "plt.bar(x,y) #변수 x,y에 저장된값을 토대로 막대 그래프 객체 생성\n",
        "plt.xlabel('Names') #x축 전체에 대한 label명\n",
        "plt.ylabel('Births') #y축 전체에 대한 label명\n",
        "plt.title('Bar plot') #그래프의 제목\n",
        "\n",
        "plt.show() #그래프 출력"
      ],
      "metadata": {
        "colab": {
          "base_uri": "https://localhost:8080/",
          "height": 295
        },
        "id": "jS4IZOVKpVVM",
        "outputId": "a3f742c2-9e92-4fa5-dc17-1f3c5a5aca15"
      },
      "execution_count": null,
      "outputs": [
        {
          "output_type": "display_data",
          "data": {
            "text/plain": [
              "<Figure size 432x288 with 1 Axes>"
            ],
            "image/png": "[encoded data removed]"
          },
          "metadata": {
            "needs_background": "light"
          }
        }
      ]
    },
    {
      "cell_type": "code",
      "source": [
        "#np.random.seed(42) # 랜덤 추출 시드를 42로 고정\n",
        "x=np.arange(0.0, 100.0, 5.0) #5의 간격으로 0부터 100까지의 숫자를 생성\n",
        "y=(x*1.5)+np.random.rand(20)*50 #넘파이 배열 타입의 난수 생성\n",
        "\n",
        "plt.scatter(x,y,c='b' , alpha=0.5, label='scatter print') \n",
        "#점의 색상이 파랑색이고, 점의 투명도가 0.5이며, 범례 이름이 'scatter print'인 산점도 그래프 객체 생성\n",
        "plt.xlabel('X')# x축 전체에 대한 label명\n",
        "plt.ylabel('Y')# y축 전체에 대한 label명\n",
        "plt.legend(loc='upper right') # 범례의 위치를 그래프의 오른쪽 상단에 표시\n",
        "plt.title('Scatter plot') #그래프의 제목\n",
        "\n",
        "plt.show()#그래프 출력\n",
        "# print(y)\n",
        "# print(np.random.rand(20))"
      ],
      "metadata": {
        "colab": {
          "base_uri": "https://localhost:8080/",
          "height": 295
        },
        "id": "2DFGLbots1el",
        "outputId": "c1a141ca-87f1-4f09-9d1a-e6ad8da314b0"
      },
      "execution_count": null,
      "outputs": [
        {
          "output_type": "display_data",
          "data": {
            "text/plain": [
              "<Figure size 432x288 with 1 Axes>"
            ],
            "image/png": "[encoded data removed]"
          },
          "metadata": {
            "needs_background": "light"
          }
        }
      ]
    },
    {
      "cell_type": "markdown",
      "source": [
        "# 3주차"
      ],
      "metadata": {
        "id": "hC54HYd6fQoT"
      }
    },
    {
      "cell_type": "code",
      "source": [
        "from google.colab import files #google.colab에서 files라는 패키지 import\n",
        "uploaded = files .upload() #파일 업로드 기능 실행\n",
        "import io #read_csv함수를 사용하기위해서 io 모듈을 임포트 한다\n",
        "chipo = pd.read_csv(io.BytesIO(uploaded['chipotle.tsv']), sep='\\t') \n",
        "#업로드한 tsv파일을 'chipotle.tsv'라는 이름으로 불러와서 \n",
        "#바이트 배열을 이진 파일로 다루어 tab을 기준으로 구분한 결과를 chipo라는 변수에 저장"
      ],
      "metadata": {
        "colab": {
          "base_uri": "https://localhost:8080/",
          "height": 77
        },
        "id": "o5DYetNefSj9",
        "outputId": "06bcc519-8c87-4184-ccc9-0feffa6bb3f9"
      },
      "execution_count": null,
      "outputs": [
        {
          "output_type": "display_data",
          "data": {
            "text/plain": [
              "<IPython.core.display.HTML object>"
            ],
            "text/html": [
              "\n",
              "     <input type=\"file\" id=\"files-a4a3b132-3de6-46de-bdd1-0b1d510c9e46\" name=\"files[]\" multiple disabled\n",
              "        style=\"border:none\" />\n",
              "     <output id=\"result-a4a3b132-3de6-46de-bdd1-0b1d510c9e46\">\n",
              "      Upload widget is only available when the cell has been executed in the\n",
              "      current browser session. Please rerun this cell to enable.\n",
              "      </output>\n",
              "      <script>// Copyright 2017 Google LLC\n",
              "//\n",
              "// Licensed under the Apache License, Version 2.0 (the \"License\");\n",
              "// you may not use this file except in compliance with the License.\n",
              "// You may obtain a copy of the License at\n",
              "//\n",
              "//      http://www.apache.org/licenses/LICENSE-2.0\n",
              "//\n",
              "// Unless required by applicable law or agreed to in writing, software\n",
              "// distributed under the License is distributed on an \"AS IS\" BASIS,\n",
              "// WITHOUT WARRANTIES OR CONDITIONS OF ANY KIND, either express or implied.\n",
              "// See the License for the specific language governing permissions and\n",
              "// limitations under the License.\n",
              "\n",
              "/**\n",
              " * @fileoverview Helpers for google.colab Python module.\n",
              " */\n",
              "(function(scope) {\n",
              "function span(text, styleAttributes = {}) {\n",
              "  const element = document.createElement('span');\n",
              "  element.textContent = text;\n",
              "  for (const key of Object.keys(styleAttributes)) {\n",
              "    element.style[key] = styleAttributes[key];\n",
              "  }\n",
              "  return element;\n",
              "}\n",
              "\n",
              "// Max number of bytes which will be uploaded at a time.\n",
              "const MAX_PAYLOAD_SIZE = 100 * 1024;\n",
              "\n",
              "function _uploadFiles(inputId, outputId) {\n",
              "  const steps = uploadFilesStep(inputId, outputId);\n",
              "  const outputElement = document.getElementById(outputId);\n",
              "  // Cache steps on the outputElement to make it available for the next call\n",
              "  // to uploadFilesContinue from Python.\n",
              "  outputElement.steps = steps;\n",
              "\n",
              "  return _uploadFilesContinue(outputId);\n",
              "}\n",
              "\n",
              "// This is roughly an async generator (not supported in the browser yet),\n",
              "// where there are multiple asynchronous steps and the Python side is going\n",
              "// to poll for completion of each step.\n",
              "// This uses a Promise to block the python side on completion of each step,\n",
              "// then passes the result of the previous step as the input to the next step.\n",
              "function _uploadFilesContinue(outputId) {\n",
              "  const outputElement = document.getElementById(outputId);\n",
              "  const steps = outputElement.steps;\n",
              "\n",
              "  const next = steps.next(outputElement.lastPromiseValue);\n",
              "  return Promise.resolve(next.value.promise).then((value) => {\n",
              "    // Cache the last promise value to make it available to the next\n",
              "    // step of the generator.\n",
              "    outputElement.lastPromiseValue = value;\n",
              "    return next.value.response;\n",
              "  });\n",
              "}\n",
              "\n",
              "/**\n",
              " * Generator function which is called between each async step of the upload\n",
              " * process.\n",
              " * @param {string} inputId Element ID of the input file picker element.\n",
              " * @param {string} outputId Element ID of the output display.\n",
              " * @return {!Iterable<!Object>} Iterable of next steps.\n",
              " */\n",
              "function* uploadFilesStep(inputId, outputId) {\n",
              "  const inputElement = document.getElementById(inputId);\n",
              "  inputElement.disabled = false;\n",
              "\n",
              "  const outputElement = document.getElementById(outputId);\n",
              "  outputElement.innerHTML = '';\n",
              "\n",
              "  const pickedPromise = new Promise((resolve) => {\n",
              "    inputElement.addEventListener('change', (e) => {\n",
              "      resolve(e.target.files);\n",
              "    });\n",
              "  });\n",
              "\n",
              "  const cancel = document.createElement('button');\n",
              "  inputElement.parentElement.appendChild(cancel);\n",
              "  cancel.textContent = 'Cancel upload';\n",
              "  const cancelPromise = new Promise((resolve) => {\n",
              "    cancel.onclick = () => {\n",
              "      resolve(null);\n",
              "    };\n",
              "  });\n",
              "\n",
              "  // Wait for the user to pick the files.\n",
              "  const files = yield {\n",
              "    promise: Promise.race([pickedPromise, cancelPromise]),\n",
              "    response: {\n",
              "      action: 'starting',\n",
              "    }\n",
              "  };\n",
              "\n",
              "  cancel.remove();\n",
              "\n",
              "  // Disable the input element since further picks are not allowed.\n",
              "  inputElement.disabled = true;\n",
              "\n",
              "  if (!files) {\n",
              "    return {\n",
              "      response: {\n",
              "        action: 'complete',\n",
              "      }\n",
              "    };\n",
              "  }\n",
              "\n",
              "  for (const file of files) {\n",
              "    const li = document.createElement('li');\n",
              "    li.append(span(file.name, {fontWeight: 'bold'}));\n",
              "    li.append(span(\n",
              "        `(${file.type || 'n/a'}) - ${file.size} bytes, ` +\n",
              "        `last modified: ${\n",
              "            file.lastModifiedDate ? file.lastModifiedDate.toLocaleDateString() :\n",
              "                                    'n/a'} - `));\n",
              "    const percent = span('0% done');\n",
              "    li.appendChild(percent);\n",
              "\n",
              "    outputElement.appendChild(li);\n",
              "\n",
              "    const fileDataPromise = new Promise((resolve) => {\n",
              "      const reader = new FileReader();\n",
              "      reader.onload = (e) => {\n",
              "        resolve(e.target.result);\n",
              "      };\n",
              "      reader.readAsArrayBuffer(file);\n",
              "    });\n",
              "    // Wait for the data to be ready.\n",
              "    let fileData = yield {\n",
              "      promise: fileDataPromise,\n",
              "      response: {\n",
              "        action: 'continue',\n",
              "      }\n",
              "    };\n",
              "\n",
              "    // Use a chunked sending to avoid message size limits. See b/62115660.\n",
              "    let position = 0;\n",
              "    do {\n",
              "      const length = Math.min(fileData.byteLength - position, MAX_PAYLOAD_SIZE);\n",
              "      const chunk = new Uint8Array(fileData, position, length);\n",
              "      position += length;\n",
              "\n",
              "      const base64 = btoa(String.fromCharCode.apply(null, chunk));\n",
              "      yield {\n",
              "        response: {\n",
              "          action: 'append',\n",
              "          file: file.name,\n",
              "          data: base64,\n",
              "        },\n",
              "      };\n",
              "\n",
              "      let percentDone = fileData.byteLength === 0 ?\n",
              "          100 :\n",
              "          Math.round((position / fileData.byteLength) * 100);\n",
              "      percent.textContent = `${percentDone}% done`;\n",
              "\n",
              "    } while (position < fileData.byteLength);\n",
              "  }\n",
              "\n",
              "  // All done.\n",
              "  yield {\n",
              "    response: {\n",
              "      action: 'complete',\n",
              "    }\n",
              "  };\n",
              "}\n",
              "\n",
              "scope.google = scope.google || {};\n",
              "scope.google.colab = scope.google.colab || {};\n",
              "scope.google.colab._files = {\n",
              "  _uploadFiles,\n",
              "  _uploadFilesContinue,\n",
              "};\n",
              "})(self);\n",
              "</script> "
            ]
          },
          "metadata": {}
        },
        {
          "output_type": "stream",
          "name": "stdout",
          "text": [
            "Saving chipotle.tsv to chipotle (2).tsv\n"
          ]
        }
      ]
    },
    {
      "cell_type": "code",
      "source": [
        "print(chipo.shape) # 데이터의 (행, 열) 크기를 확인\n",
        "print(chipo.info()) #데이터프레임의 행과 열의 구성 정보를 확인\n",
        "#chipo를 구성하는 행과 열의 크기, 컬럼명, 컬럼을 구성하는 값의 자료형 등을 출력"
      ],
      "metadata": {
        "colab": {
          "base_uri": "https://localhost:8080/"
        },
        "id": "Q00ebgrluY5e",
        "outputId": "4e8f48a1-cdfe-49a8-8f89-e67bfcd38fa0"
      },
      "execution_count": null,
      "outputs": [
        {
          "output_type": "stream",
          "name": "stdout",
          "text": [
            "(4622, 5)\n",
            "<class 'pandas.core.frame.DataFrame'>\n",
            "RangeIndex: 4622 entries, 0 to 4621\n",
            "Data columns (total 5 columns):\n",
            " #   Column              Non-Null Count  Dtype \n",
            "---  ------              --------------  ----- \n",
            " 0   order_id            4622 non-null   int64 \n",
            " 1   quantity            4622 non-null   int64 \n",
            " 2   item_name           4622 non-null   object\n",
            " 3   choice_description  3376 non-null   object\n",
            " 4   item_price          4622 non-null   object\n",
            "dtypes: int64(2), object(3)\n",
            "memory usage: 180.7+ KB\n",
            "None\n"
          ]
        }
      ]
    },
    {
      "cell_type": "code",
      "source": [
        "print(chipo.columns) #chipo의 컬럼명을 모두 출력합니다.\n",
        "print(\"---------------\")\n",
        "print(chipo.index) #행에 대한 인덱스 정보를 제공"
      ],
      "metadata": {
        "colab": {
          "base_uri": "https://localhost:8080/"
        },
        "id": "dfqaf5s3vA6x",
        "outputId": "a3bfc5f1-c008-40e5-8c5d-cc5b1ba1aab7"
      },
      "execution_count": null,
      "outputs": [
        {
          "output_type": "stream",
          "name": "stdout",
          "text": [
            "Index(['order_id', 'quantity', 'item_name', 'choice_description',\n",
            "       'item_price'],\n",
            "      dtype='object')\n",
            "---------------\n",
            "RangeIndex(start=0, stop=4622, step=1)\n"
          ]
        }
      ]
    },
    {
      "cell_type": "code",
      "source": [
        "chipo.head(10) #괄호 안의 인자만큼 데이터를 가져와서 행과 열로 보여줌"
      ],
      "metadata": {
        "colab": {
          "base_uri": "https://localhost:8080/",
          "height": 442
        },
        "id": "WJzbAOLGwQb_",
        "outputId": "b111372b-1b99-4852-8fde-9128d9275c9e"
      },
      "execution_count": null,
      "outputs": [
        {
          "output_type": "execute_result",
          "data": {
            "text/plain": [
              "   order_id  quantity                              item_name  \\\n",
              "0         1         1           Chips and Fresh Tomato Salsa   \n",
              "1         1         1                                   Izze   \n",
              "2         1         1                       Nantucket Nectar   \n",
              "3         1         1  Chips and Tomatillo-Green Chili Salsa   \n",
              "4         2         2                           Chicken Bowl   \n",
              "5         3         1                           Chicken Bowl   \n",
              "6         3         1                          Side of Chips   \n",
              "7         4         1                          Steak Burrito   \n",
              "8         4         1                       Steak Soft Tacos   \n",
              "9         5         1                          Steak Burrito   \n",
              "\n",
              "                                  choice_description item_price  \n",
              "0                                                NaN     $2.39   \n",
              "1                                       [Clementine]     $3.39   \n",
              "2                                            [Apple]     $3.39   \n",
              "3                                                NaN     $2.39   \n",
              "4  [Tomatillo-Red Chili Salsa (Hot), [Black Beans...    $16.98   \n",
              "5  [Fresh Tomato Salsa (Mild), [Rice, Cheese, Sou...    $10.98   \n",
              "6                                                NaN     $1.69   \n",
              "7  [Tomatillo Red Chili Salsa, [Fajita Vegetables...    $11.75   \n",
              "8  [Tomatillo Green Chili Salsa, [Pinto Beans, Ch...     $9.25   \n",
              "9  [Fresh Tomato Salsa, [Rice, Black Beans, Pinto...     $9.25   "
            ],
            "text/html": [
              "\n",
              "  <div id=\"df-47269e05-5c33-4668-81c5-0ea160c256b3\">\n",
              "    <div class=\"colab-df-container\">\n",
              "      <div>\n",
              "<style scoped>\n",
              "    .dataframe tbody tr th:only-of-type {\n",
              "        vertical-align: middle;\n",
              "    }\n",
              "\n",
              "    .dataframe tbody tr th {\n",
              "        vertical-align: top;\n",
              "    }\n",
              "\n",
              "    .dataframe thead th {\n",
              "        text-align: right;\n",
              "    }\n",
              "</style>\n",
              "<table border=\"1\" class=\"dataframe\">\n",
              "  <thead>\n",
              "    <tr style=\"text-align: right;\">\n",
              "      <th></th>\n",
              "      <th>order_id</th>\n",
              "      <th>quantity</th>\n",
              "      <th>item_name</th>\n",
              "      <th>choice_description</th>\n",
              "      <th>item_price</th>\n",
              "    </tr>\n",
              "  </thead>\n",
              "  <tbody>\n",
              "    <tr>\n",
              "      <th>0</th>\n",
              "      <td>1</td>\n",
              "      <td>1</td>\n",
              "      <td>Chips and Fresh Tomato Salsa</td>\n",
              "      <td>NaN</td>\n",
              "      <td>$2.39</td>\n",
              "    </tr>\n",
              "    <tr>\n",
              "      <th>1</th>\n",
              "      <td>1</td>\n",
              "      <td>1</td>\n",
              "      <td>Izze</td>\n",
              "      <td>[Clementine]</td>\n",
              "      <td>$3.39</td>\n",
              "    </tr>\n",
              "    <tr>\n",
              "      <th>2</th>\n",
              "      <td>1</td>\n",
              "      <td>1</td>\n",
              "      <td>Nantucket Nectar</td>\n",
              "      <td>[Apple]</td>\n",
              "      <td>$3.39</td>\n",
              "    </tr>\n",
              "    <tr>\n",
              "      <th>3</th>\n",
              "      <td>1</td>\n",
              "      <td>1</td>\n",
              "      <td>Chips and Tomatillo-Green Chili Salsa</td>\n",
              "      <td>NaN</td>\n",
              "      <td>$2.39</td>\n",
              "    </tr>\n",
              "    <tr>\n",
              "      <th>4</th>\n",
              "      <td>2</td>\n",
              "      <td>2</td>\n",
              "      <td>Chicken Bowl</td>\n",
              "      <td>[Tomatillo-Red Chili Salsa (Hot), [Black Beans...</td>\n",
              "      <td>$16.98</td>\n",
              "    </tr>\n",
              "    <tr>\n",
              "      <th>5</th>\n",
              "      <td>3</td>\n",
              "      <td>1</td>\n",
              "      <td>Chicken Bowl</td>\n",
              "      <td>[Fresh Tomato Salsa (Mild), [Rice, Cheese, Sou...</td>\n",
              "      <td>$10.98</td>\n",
              "    </tr>\n",
              "    <tr>\n",
              "      <th>6</th>\n",
              "      <td>3</td>\n",
              "      <td>1</td>\n",
              "      <td>Side of Chips</td>\n",
              "      <td>NaN</td>\n",
              "      <td>$1.69</td>\n",
              "    </tr>\n",
              "    <tr>\n",
              "      <th>7</th>\n",
              "      <td>4</td>\n",
              "      <td>1</td>\n",
              "      <td>Steak Burrito</td>\n",
              "      <td>[Tomatillo Red Chili Salsa, [Fajita Vegetables...</td>\n",
              "      <td>$11.75</td>\n",
              "    </tr>\n",
              "    <tr>\n",
              "      <th>8</th>\n",
              "      <td>4</td>\n",
              "      <td>1</td>\n",
              "      <td>Steak Soft Tacos</td>\n",
              "      <td>[Tomatillo Green Chili Salsa, [Pinto Beans, Ch...</td>\n",
              "      <td>$9.25</td>\n",
              "    </tr>\n",
              "    <tr>\n",
              "      <th>9</th>\n",
              "      <td>5</td>\n",
              "      <td>1</td>\n",
              "      <td>Steak Burrito</td>\n",
              "      <td>[Fresh Tomato Salsa, [Rice, Black Beans, Pinto...</td>\n",
              "      <td>$9.25</td>\n",
              "    </tr>\n",
              "  </tbody>\n",
              "</table>\n",
              "</div>\n",
              "      <button class=\"colab-df-convert\" onclick=\"convertToInteractive('df-47269e05-5c33-4668-81c5-0ea160c256b3')\"\n",
              "              title=\"Convert this dataframe to an interactive table.\"\n",
              "              style=\"display:none;\">\n",
              "        \n",
              "  <svg xmlns=\"http://www.w3.org/2000/svg\" height=\"24px\"viewBox=\"0 0 24 24\"\n",
              "       width=\"24px\">\n",
              "    <path d=\"M0 0h24v24H0V0z\" fill=\"none\"/>\n",
              "    <path d=\"M18.56 5.44l.94 2.06.94-2.06 2.06-.94-2.06-.94-.94-2.06-.94 2.06-2.06.94zm-11 1L8.5 8.5l.94-2.06 2.06-.94-2.06-.94L8.5 2.5l-.94 2.06-2.06.94zm10 10l.94 2.06.94-2.06 2.06-.94-2.06-.94-.94-2.06-.94 2.06-2.06.94z\"/><path d=\"M17.41 7.96l-1.37-1.37c-.4-.4-.92-.59-1.43-.59-.52 0-1.04.2-1.43.59L10.3 9.45l-7.72 7.72c-.78.78-.78 2.05 0 2.83L4 21.41c.39.39.9.59 1.41.59.51 0 1.02-.2 1.41-.59l7.78-7.78 2.81-2.81c.8-.78.8-2.07 0-2.86zM5.41 20L4 18.59l7.72-7.72 1.47 1.35L5.41 20z\"/>\n",
              "  </svg>\n",
              "      </button>\n",
              "      \n",
              "  <style>\n",
              "    .colab-df-container {\n",
              "      display:flex;\n",
              "      flex-wrap:wrap;\n",
              "      gap: 12px;\n",
              "    }\n",
              "\n",
              "    .colab-df-convert {\n",
              "      background-color: #E8F0FE;\n",
              "      border: none;\n",
              "      border-radius: 50%;\n",
              "      cursor: pointer;\n",
              "      display: none;\n",
              "      fill: #1967D2;\n",
              "      height: 32px;\n",
              "      padding: 0 0 0 0;\n",
              "      width: 32px;\n",
              "    }\n",
              "\n",
              "    .colab-df-convert:hover {\n",
              "      background-color: #E2EBFA;\n",
              "      box-shadow: 0px 1px 2px rgba(60, 64, 67, 0.3), 0px 1px 3px 1px rgba(60, 64, 67, 0.15);\n",
              "      fill: #174EA6;\n",
              "    }\n",
              "\n",
              "    [theme=dark] .colab-df-convert {\n",
              "      background-color: #3B4455;\n",
              "      fill: #D2E3FC;\n",
              "    }\n",
              "\n",
              "    [theme=dark] .colab-df-convert:hover {\n",
              "      background-color: #434B5C;\n",
              "      box-shadow: 0px 1px 3px 1px rgba(0, 0, 0, 0.15);\n",
              "      filter: drop-shadow(0px 1px 2px rgba(0, 0, 0, 0.3));\n",
              "      fill: #FFFFFF;\n",
              "    }\n",
              "  </style>\n",
              "\n",
              "      <script>\n",
              "        const buttonEl =\n",
              "          document.querySelector('#df-47269e05-5c33-4668-81c5-0ea160c256b3 button.colab-df-convert');\n",
              "        buttonEl.style.display =\n",
              "          google.colab.kernel.accessAllowed ? 'block' : 'none';\n",
              "\n",
              "        async function convertToInteractive(key) {\n",
              "          const element = document.querySelector('#df-47269e05-5c33-4668-81c5-0ea160c256b3');\n",
              "          const dataTable =\n",
              "            await google.colab.kernel.invokeFunction('convertToInteractive',\n",
              "                                                     [key], {});\n",
              "          if (!dataTable) return;\n",
              "\n",
              "          const docLinkHtml = 'Like what you see? Visit the ' +\n",
              "            '<a target=\"_blank\" href=https://colab.research.google.com/notebooks/data_table.ipynb>data table notebook</a>'\n",
              "            + ' to learn more about interactive tables.';\n",
              "          element.innerHTML = '';\n",
              "          dataTable['output_type'] = 'display_data';\n",
              "          await google.colab.output.renderOutput(dataTable, element);\n",
              "          const docLink = document.createElement('div');\n",
              "          docLink.innerHTML = docLinkHtml;\n",
              "          element.appendChild(docLink);\n",
              "        }\n",
              "      </script>\n",
              "    </div>\n",
              "  </div>\n",
              "  "
            ]
          },
          "metadata": {},
          "execution_count": 45
        }
      ]
    },
    {
      "cell_type": "code",
      "source": [
        "chipo['order_id']=chipo['order_id'].astype(str) #주문번호 문자형(str)으로 변환 -> 숫자의 의미를 가지지 않기 때문에\n",
        "print(chipo.describe()) #chipo 데이터프레임에서 수치형 피쳐들의 기초 통계량 확인"
      ],
      "metadata": {
        "colab": {
          "base_uri": "https://localhost:8080/"
        },
        "id": "HJjlDeAdweRk",
        "outputId": "45f6a9d7-d72c-4c3e-ab27-c0cbef8f8a7d"
      },
      "execution_count": null,
      "outputs": [
        {
          "output_type": "stream",
          "name": "stdout",
          "text": [
            "          quantity\n",
            "count  4622.000000\n",
            "mean      1.075725\n",
            "std       0.410186\n",
            "min       1.000000\n",
            "25%       1.000000\n",
            "50%       1.000000\n",
            "75%       1.000000\n",
            "max      15.000000\n"
          ]
        }
      ]
    },
    {
      "cell_type": "code",
      "source": [
        "print(len(chipo['item_name'].unique())) #메뉴의 갯수를 중복을 제외하고 반환\n",
        "# print((chipo['item_name'].unique())) len을 제외하면 중복을 제외한 메뉴명이 다 출력된다\n",
        "print(len(chipo['order_id'].unique())) #전체 주문 수를 중복을 제외하고 반환"
      ],
      "metadata": {
        "colab": {
          "base_uri": "https://localhost:8080/"
        },
        "id": "W5UyUEOqvk4U",
        "outputId": "af96256c-32d7-4906-c26f-b28ec78fa1e2"
      },
      "execution_count": null,
      "outputs": [
        {
          "output_type": "stream",
          "name": "stdout",
          "text": [
            "50\n",
            "1834\n"
          ]
        }
      ]
    },
    {
      "cell_type": "code",
      "source": [
        "item_count = chipo['item_name'].value_counts()[:10] #갯수 카운트 후 내림차순으로 top 10개만 뽑기 \n",
        "# item_count = chipo['item_name'].value_counts(sort=False)[:10]   #정렬 안함\n",
        "#item_count = chipo['item_name'].value_counts(sort=True,ascending=True)[:10] #순차정렬(메뉴 적은 숫자대로 순차정렬)\n",
        "print(item_count) #내림차순으로 카운트 한 top 10 출력"
      ],
      "metadata": {
        "colab": {
          "base_uri": "https://localhost:8080/"
        },
        "id": "kwv1qR1uwsp9",
        "outputId": "03422623-689f-4c85-e99b-65ba3e7f7657"
      },
      "execution_count": null,
      "outputs": [
        {
          "output_type": "stream",
          "name": "stdout",
          "text": [
            "Chicken Bowl                    726\n",
            "Chicken Burrito                 553\n",
            "Chips and Guacamole             479\n",
            "Steak Burrito                   368\n",
            "Canned Soft Drink               301\n",
            "Steak Bowl                      211\n",
            "Chips                           211\n",
            "Bottled Water                   162\n",
            "Chicken Soft Tacos              115\n",
            "Chips and Fresh Tomato Salsa    110\n",
            "Name: item_name, dtype: int64\n"
          ]
        }
      ]
    },
    {
      "cell_type": "code",
      "source": [
        "for idx, (val, cnt) in enumerate(item_count.iteritems(),1): \n",
        "#enumerate함수를 이용해 시작 인덱스 값을 1로 설정하며, 인덱스와 원소(데이터)를 동시에 접근하면서 반복문 실행\n",
        "  print(\"Top\", idx, \":\", val, \"\\t\", cnt)\n",
        "# 반복문을 통해 얻은 인덱스 값, 메뉴명, 판매량 출력"
      ],
      "metadata": {
        "colab": {
          "base_uri": "https://localhost:8080/"
        },
        "id": "p2HfTTeFxOUu",
        "outputId": "85198af1-b64c-4c4e-cac2-8f7a8c8cd2d8"
      },
      "execution_count": null,
      "outputs": [
        {
          "output_type": "stream",
          "name": "stdout",
          "text": [
            "Top 1 : Chicken Bowl \t 726\n",
            "Top 2 : Chicken Burrito \t 553\n",
            "Top 3 : Chips and Guacamole \t 479\n",
            "Top 4 : Steak Burrito \t 368\n",
            "Top 5 : Canned Soft Drink \t 301\n",
            "Top 6 : Steak Bowl \t 211\n",
            "Top 7 : Chips \t 211\n",
            "Top 8 : Bottled Water \t 162\n",
            "Top 9 : Chicken Soft Tacos \t 115\n",
            "Top 10 : Chips and Fresh Tomato Salsa \t 110\n"
          ]
        }
      ]
    },
    {
      "cell_type": "code",
      "source": [
        "order_count = chipo.groupby('item_name')['order_id'].count()#아이템별로 그룹화한 후 주문개수(번호) 카운트\n",
        "# order_count[:10] 정렬없이 출력\n",
        "order_count.sort_values(ascending=False)[:10] #오름차순=False로 설정해 내림차순으로 상위 10개 정렬 후 출력"
      ],
      "metadata": {
        "colab": {
          "base_uri": "https://localhost:8080/"
        },
        "id": "x_SCiPDj5GAF",
        "outputId": "b1269024-717b-4026-d3f7-5b08001186ee"
      },
      "execution_count": null,
      "outputs": [
        {
          "output_type": "execute_result",
          "data": {
            "text/plain": [
              "item_name\n",
              "Chicken Bowl           726\n",
              "Chicken Burrito        553\n",
              "Chips and Guacamole    479\n",
              "Steak Burrito          368\n",
              "Canned Soft Drink      301\n",
              "Steak Bowl             211\n",
              "Chips                  211\n",
              "Bottled Water          162\n",
              "Chicken Soft Tacos     115\n",
              "Chicken Salad Bowl     110\n",
              "Name: order_id, dtype: int64"
            ]
          },
          "metadata": {},
          "execution_count": 54
        }
      ]
    },
    {
      "cell_type": "code",
      "source": [
        "item_quantity = chipo.groupby('item_name')['quantity'].sum() #아이템별로 그룹화한 후 주문 총수량 계산\n",
        "item_quantity.sort_values(ascending=False)[:10] #오름차순=False로 설정해 내림차순으로 상위 10개 정렬 후 출력"
      ],
      "metadata": {
        "colab": {
          "base_uri": "https://localhost:8080/"
        },
        "id": "PHcb3bL49DSx",
        "outputId": "64232fed-82ca-4410-b755-b58f9ad3d5f7"
      },
      "execution_count": null,
      "outputs": [
        {
          "output_type": "execute_result",
          "data": {
            "text/plain": [
              "item_name\n",
              "Chicken Bowl                    761\n",
              "Chicken Burrito                 591\n",
              "Chips and Guacamole             506\n",
              "Steak Burrito                   386\n",
              "Canned Soft Drink               351\n",
              "Chips                           230\n",
              "Steak Bowl                      221\n",
              "Bottled Water                   211\n",
              "Chips and Fresh Tomato Salsa    130\n",
              "Canned Soda                     126\n",
              "Name: quantity, dtype: int64"
            ]
          },
          "metadata": {},
          "execution_count": 51
        }
      ]
    },
    {
      "cell_type": "code",
      "source": [
        "item_name_list = item_quantity.index.tolist()\n",
        "#위의 코드블럭에서 선언한 item_quantity 변수에 저장된 데이터에서 index가 item_name이므로,\n",
        "#그것들(item_quantity의 인덱스. 즉, 메뉴명)을 리스트 형태로 저장\n",
        "\n",
        "x_pos = np.arange(len(item_name_list))\n",
        "#arange() 함수를 이용해 x_pos를 선언하고 0부터 50까지(item_name_list의 갯수)의 숫자를 그래프의 x축 이름으로 사용\n",
        "#숫자가 아닌 item_name_list로 사용하기에는 그래프의 공간이 너무 협소\n",
        "\n",
        "# print(x_pos)x_pos 출력\n",
        "\n",
        "order_cnt = item_quantity.values.tolist()\n",
        "#마찬가지로 위의 코드블럭에서 선언한 item_quantity 변수에 저장된 데이터에서 values가 주문 총수량이므로,\n",
        "#그것들을 리스트 형태로 저장\n",
        "\n",
        "plt.bar(x_pos, order_cnt, align='center') \n",
        "# plt.bar(막대의 x축 위치, 막대의 높이, 막대의 x축 좌표에서 정렬)\n",
        "# 즉, item_name_list에 대한 각각의 주문 총수량을 막대로 표현. 이때, 막대의 x축 위치에서 중앙에 위치하도록 한다.\n",
        "plt.ylabel('ordered_item_count') # y값에 대한 라벨(제목) 붙이기\n",
        "plt.title('Distribution of all ordered item') # 그래프에 대한 제목 붙이기\n",
        "plt.show() # 그래프 출력"
      ],
      "metadata": {
        "colab": {
          "base_uri": "https://localhost:8080/",
          "height": 281
        },
        "id": "Ax-fadvDBDzw",
        "outputId": "6d867b0d-e567-4218-d7f6-6006fecad0e1"
      },
      "execution_count": null,
      "outputs": [
        {
          "output_type": "display_data",
          "data": {
            "text/plain": [
              "<Figure size 432x288 with 1 Axes>"
            ],
            "image/png": "[encoded data removed]"
          },
          "metadata": {
            "needs_background": "light"
          }
        }
      ]
    },
    {
      "cell_type": "code",
      "source": [
        "chipo['item_price'] = chipo['item_price'].apply(lambda x: float(x[1:]))\n",
        "# chipo에서 'item_price'라는 열(column)에 있는 대상에 lambda x: float(x[1:])를 적용하겠다\n",
        "# lambda는 보통 함수를 먼저 선언하고 사용하는것과는 다르게 함수를 한 줄로 만들어 주는 것으로 'lambda x:'뒤에 오는 것이 함수임\n",
        "# 즉, chipo에서 'item_price'라는 열(column)에 있는 대상의 값의 1번째 인덱스부터 값을 추출해서 플롯형으로 변환을 적용하겠다.\n",
        "chipo.describe() \n",
        "#item_price를 변환 후의 chipo 데이터프레임에서 수치형 피쳐들의 기초 통계량 확인\n",
        "\n",
        "#-> 이 과정을 거치는 이유는 그냥 item_price를 출력해보면 가격앞에 $표시로 인해 describe함수가 적용이 되지않음.\n",
        "# 그러므로 $를 제외한 나머지값을 추출해야하므로 직접 만든 함수를 사용함."
      ],
      "metadata": {
        "colab": {
          "base_uri": "https://localhost:8080/",
          "height": 300
        },
        "id": "ce5HTfJ1KpRl",
        "outputId": "7d9e5efa-06ab-4783-f8cc-0f0bfbde3f7d"
      },
      "execution_count": null,
      "outputs": [
        {
          "output_type": "execute_result",
          "data": {
            "text/plain": [
              "          quantity   item_price\n",
              "count  4622.000000  4622.000000\n",
              "mean      1.075725     7.464336\n",
              "std       0.410186     4.245557\n",
              "min       1.000000     1.090000\n",
              "25%       1.000000     3.390000\n",
              "50%       1.000000     8.750000\n",
              "75%       1.000000     9.250000\n",
              "max      15.000000    44.250000"
            ],
            "text/html": [
              "\n",
              "  <div id=\"df-696029e3-d2c9-463a-a628-bbbeaee307af\">\n",
              "    <div class=\"colab-df-container\">\n",
              "      <div>\n",
              "<style scoped>\n",
              "    .dataframe tbody tr th:only-of-type {\n",
              "        vertical-align: middle;\n",
              "    }\n",
              "\n",
              "    .dataframe tbody tr th {\n",
              "        vertical-align: top;\n",
              "    }\n",
              "\n",
              "    .dataframe thead th {\n",
              "        text-align: right;\n",
              "    }\n",
              "</style>\n",
              "<table border=\"1\" class=\"dataframe\">\n",
              "  <thead>\n",
              "    <tr style=\"text-align: right;\">\n",
              "      <th></th>\n",
              "      <th>quantity</th>\n",
              "      <th>item_price</th>\n",
              "    </tr>\n",
              "  </thead>\n",
              "  <tbody>\n",
              "    <tr>\n",
              "      <th>count</th>\n",
              "      <td>4622.000000</td>\n",
              "      <td>4622.000000</td>\n",
              "    </tr>\n",
              "    <tr>\n",
              "      <th>mean</th>\n",
              "      <td>1.075725</td>\n",
              "      <td>7.464336</td>\n",
              "    </tr>\n",
              "    <tr>\n",
              "      <th>std</th>\n",
              "      <td>0.410186</td>\n",
              "      <td>4.245557</td>\n",
              "    </tr>\n",
              "    <tr>\n",
              "      <th>min</th>\n",
              "      <td>1.000000</td>\n",
              "      <td>1.090000</td>\n",
              "    </tr>\n",
              "    <tr>\n",
              "      <th>25%</th>\n",
              "      <td>1.000000</td>\n",
              "      <td>3.390000</td>\n",
              "    </tr>\n",
              "    <tr>\n",
              "      <th>50%</th>\n",
              "      <td>1.000000</td>\n",
              "      <td>8.750000</td>\n",
              "    </tr>\n",
              "    <tr>\n",
              "      <th>75%</th>\n",
              "      <td>1.000000</td>\n",
              "      <td>9.250000</td>\n",
              "    </tr>\n",
              "    <tr>\n",
              "      <th>max</th>\n",
              "      <td>15.000000</td>\n",
              "      <td>44.250000</td>\n",
              "    </tr>\n",
              "  </tbody>\n",
              "</table>\n",
              "</div>\n",
              "      <button class=\"colab-df-convert\" onclick=\"convertToInteractive('df-696029e3-d2c9-463a-a628-bbbeaee307af')\"\n",
              "              title=\"Convert this dataframe to an interactive table.\"\n",
              "              style=\"display:none;\">\n",
              "        \n",
              "  <svg xmlns=\"http://www.w3.org/2000/svg\" height=\"24px\"viewBox=\"0 0 24 24\"\n",
              "       width=\"24px\">\n",
              "    <path d=\"M0 0h24v24H0V0z\" fill=\"none\"/>\n",
              "    <path d=\"M18.56 5.44l.94 2.06.94-2.06 2.06-.94-2.06-.94-.94-2.06-.94 2.06-2.06.94zm-11 1L8.5 8.5l.94-2.06 2.06-.94-2.06-.94L8.5 2.5l-.94 2.06-2.06.94zm10 10l.94 2.06.94-2.06 2.06-.94-2.06-.94-.94-2.06-.94 2.06-2.06.94z\"/><path d=\"M17.41 7.96l-1.37-1.37c-.4-.4-.92-.59-1.43-.59-.52 0-1.04.2-1.43.59L10.3 9.45l-7.72 7.72c-.78.78-.78 2.05 0 2.83L4 21.41c.39.39.9.59 1.41.59.51 0 1.02-.2 1.41-.59l7.78-7.78 2.81-2.81c.8-.78.8-2.07 0-2.86zM5.41 20L4 18.59l7.72-7.72 1.47 1.35L5.41 20z\"/>\n",
              "  </svg>\n",
              "      </button>\n",
              "      \n",
              "  <style>\n",
              "    .colab-df-container {\n",
              "      display:flex;\n",
              "      flex-wrap:wrap;\n",
              "      gap: 12px;\n",
              "    }\n",
              "\n",
              "    .colab-df-convert {\n",
              "      background-color: #E8F0FE;\n",
              "      border: none;\n",
              "      border-radius: 50%;\n",
              "      cursor: pointer;\n",
              "      display: none;\n",
              "      fill: #1967D2;\n",
              "      height: 32px;\n",
              "      padding: 0 0 0 0;\n",
              "      width: 32px;\n",
              "    }\n",
              "\n",
              "    .colab-df-convert:hover {\n",
              "      background-color: #E2EBFA;\n",
              "      box-shadow: 0px 1px 2px rgba(60, 64, 67, 0.3), 0px 1px 3px 1px rgba(60, 64, 67, 0.15);\n",
              "      fill: #174EA6;\n",
              "    }\n",
              "\n",
              "    [theme=dark] .colab-df-convert {\n",
              "      background-color: #3B4455;\n",
              "      fill: #D2E3FC;\n",
              "    }\n",
              "\n",
              "    [theme=dark] .colab-df-convert:hover {\n",
              "      background-color: #434B5C;\n",
              "      box-shadow: 0px 1px 3px 1px rgba(0, 0, 0, 0.15);\n",
              "      filter: drop-shadow(0px 1px 2px rgba(0, 0, 0, 0.3));\n",
              "      fill: #FFFFFF;\n",
              "    }\n",
              "  </style>\n",
              "\n",
              "      <script>\n",
              "        const buttonEl =\n",
              "          document.querySelector('#df-696029e3-d2c9-463a-a628-bbbeaee307af button.colab-df-convert');\n",
              "        buttonEl.style.display =\n",
              "          google.colab.kernel.accessAllowed ? 'block' : 'none';\n",
              "\n",
              "        async function convertToInteractive(key) {\n",
              "          const element = document.querySelector('#df-696029e3-d2c9-463a-a628-bbbeaee307af');\n",
              "          const dataTable =\n",
              "            await google.colab.kernel.invokeFunction('convertToInteractive',\n",
              "                                                     [key], {});\n",
              "          if (!dataTable) return;\n",
              "\n",
              "          const docLinkHtml = 'Like what you see? Visit the ' +\n",
              "            '<a target=\"_blank\" href=https://colab.research.google.com/notebooks/data_table.ipynb>data table notebook</a>'\n",
              "            + ' to learn more about interactive tables.';\n",
              "          element.innerHTML = '';\n",
              "          dataTable['output_type'] = 'display_data';\n",
              "          await google.colab.output.renderOutput(dataTable, element);\n",
              "          const docLink = document.createElement('div');\n",
              "          docLink.innerHTML = docLinkHtml;\n",
              "          element.appendChild(docLink);\n",
              "        }\n",
              "      </script>\n",
              "    </div>\n",
              "  </div>\n",
              "  "
            ]
          },
          "metadata": {},
          "execution_count": 53
        }
      ]
    },
    {
      "cell_type": "code",
      "source": [
        "chipo_orderid_group = chipo.groupby('order_id').sum()\n",
        "# order_id를 기준으로 그룹화한 후 주문당 얼마의 돈을 소비했는지 합계를 구함.\n",
        "results =  chipo_orderid_group[chipo_orderid_group.item_price>=50]\n",
        "#구한값에서 item_price가 50달러 이상인 order_id 출력\n",
        "#이때, chipo_orderid_group.item_price>=50인 경우 True가 반환됨.\n",
        "#그리고 반환된 True의 인덱스만 남게 됨\n",
        "\n",
        "# print(chipo_orderid_group)\n",
        "\n",
        "print(results[:10]) #결과값 10개 출력\n",
        "print(results.index.values)\n",
        "#조건에 충족하는 id들만 출력을 하기위해서는 결과값의 index의 values가 필요하기때문에 result.index.values 출력"
      ],
      "metadata": {
        "colab": {
          "base_uri": "https://localhost:8080/"
        },
        "id": "2rPUhQQiKyjN",
        "outputId": "09ed34a6-95d3-426d-aef7-bea51dfef604"
      },
      "execution_count": null,
      "outputs": [
        {
          "output_type": "stream",
          "name": "stdout",
          "text": [
            "          quantity  item_price\n",
            "order_id                      \n",
            "1006             8       71.40\n",
            "1051             7       59.35\n",
            "1360             6       52.18\n",
            "1443            35      160.74\n",
            "1449            11       95.39\n",
            "1454            10       85.24\n",
            "1483            14      139.00\n",
            "1559            16       82.44\n",
            "1586             6       51.20\n",
            "1660            19       70.25\n",
            "['1006' '1051' '1360' '1443' '1449' '1454' '1483' '1559' '1586' '1660'\n",
            " '1764' '1786' '1825' '195' '205' '343' '488' '491' '511' '561' '577'\n",
            " '691' '759' '818' '848' '916' '926' '953']\n"
          ]
        }
      ]
    },
    {
      "cell_type": "code",
      "source": [
        "chipo_one_item = chipo[chipo.quantity==1]\n",
        "# 한 아이템을 한개만 산 것을 필터링\n",
        "price_per_item = chipo_one_item.groupby('item_name').min()\n",
        "# 필터링된 데이터에서 item_name별로 그룹화한 후 최소값을 구함.\n",
        "# 왜냐하면 같은 item_name이라도 추가된 토핑에 따라 가격이 다르기 때문에 최소값을 구함\n",
        "price_per_item.sort_values(by='item_price', ascending=False)[:10]\n",
        "#item_price를 기준으로 10개를 내림차순으로 정렬"
      ],
      "metadata": {
        "colab": {
          "base_uri": "https://localhost:8080/",
          "height": 394
        },
        "id": "U0t_XW6OK4GQ",
        "outputId": "c100780c-5e27-4b93-fe8c-0bf48af2848d"
      },
      "execution_count": null,
      "outputs": [
        {
          "output_type": "execute_result",
          "data": {
            "text/plain": [
              "                      order_id  quantity  \\\n",
              "item_name                                  \n",
              "Steak Salad Bowl          1032         1   \n",
              "Barbacoa Salad Bowl       1283         1   \n",
              "Carnitas Salad Bowl       1035         1   \n",
              "Carnitas Soft Tacos       1011         1   \n",
              "Carnitas Crispy Tacos     1774         1   \n",
              "Steak Soft Tacos          1054         1   \n",
              "Carnitas Salad            1500         1   \n",
              "Carnitas Bowl             1007         1   \n",
              "Barbacoa Soft Tacos       1103         1   \n",
              "Barbacoa Crispy Tacos      110         1   \n",
              "\n",
              "                                                      choice_description  \\\n",
              "item_name                                                                  \n",
              "Steak Salad Bowl                           [Fresh Tomato Salsa, Lettuce]   \n",
              "Barbacoa Salad Bowl                      [Fresh Tomato Salsa, Guacamole]   \n",
              "Carnitas Salad Bowl    [Fresh Tomato Salsa, [Rice, Black Beans, Chees...   \n",
              "Carnitas Soft Tacos    [Fresh Tomato Salsa (Mild), [Black Beans, Rice...   \n",
              "Carnitas Crispy Tacos  [Fresh Tomato Salsa, [Fajita Vegetables, Rice,...   \n",
              "Steak Soft Tacos       [Fresh Tomato Salsa (Mild), [Cheese, Sour Cream]]   \n",
              "Carnitas Salad         [[Fresh Tomato Salsa (Mild), Roasted Chili Cor...   \n",
              "Carnitas Bowl          [Fresh Tomato (Mild), [Guacamole, Lettuce, Ric...   \n",
              "Barbacoa Soft Tacos    [Fresh Tomato Salsa, [Black Beans, Cheese, Let...   \n",
              "Barbacoa Crispy Tacos                    [Fresh Tomato Salsa, Guacamole]   \n",
              "\n",
              "                       item_price  \n",
              "item_name                          \n",
              "Steak Salad Bowl             9.39  \n",
              "Barbacoa Salad Bowl          9.39  \n",
              "Carnitas Salad Bowl          9.39  \n",
              "Carnitas Soft Tacos          8.99  \n",
              "Carnitas Crispy Tacos        8.99  \n",
              "Steak Soft Tacos             8.99  \n",
              "Carnitas Salad               8.99  \n",
              "Carnitas Bowl                8.99  \n",
              "Barbacoa Soft Tacos          8.99  \n",
              "Barbacoa Crispy Tacos        8.99  "
            ],
            "text/html": [
              "\n",
              "  <div id=\"df-6337b878-8b65-4813-922c-5992ab00795e\">\n",
              "    <div class=\"colab-df-container\">\n",
              "      <div>\n",
              "<style scoped>\n",
              "    .dataframe tbody tr th:only-of-type {\n",
              "        vertical-align: middle;\n",
              "    }\n",
              "\n",
              "    .dataframe tbody tr th {\n",
              "        vertical-align: top;\n",
              "    }\n",
              "\n",
              "    .dataframe thead th {\n",
              "        text-align: right;\n",
              "    }\n",
              "</style>\n",
              "<table border=\"1\" class=\"dataframe\">\n",
              "  <thead>\n",
              "    <tr style=\"text-align: right;\">\n",
              "      <th></th>\n",
              "      <th>order_id</th>\n",
              "      <th>quantity</th>\n",
              "      <th>choice_description</th>\n",
              "      <th>item_price</th>\n",
              "    </tr>\n",
              "    <tr>\n",
              "      <th>item_name</th>\n",
              "      <th></th>\n",
              "      <th></th>\n",
              "      <th></th>\n",
              "      <th></th>\n",
              "    </tr>\n",
              "  </thead>\n",
              "  <tbody>\n",
              "    <tr>\n",
              "      <th>Steak Salad Bowl</th>\n",
              "      <td>1032</td>\n",
              "      <td>1</td>\n",
              "      <td>[Fresh Tomato Salsa, Lettuce]</td>\n",
              "      <td>9.39</td>\n",
              "    </tr>\n",
              "    <tr>\n",
              "      <th>Barbacoa Salad Bowl</th>\n",
              "      <td>1283</td>\n",
              "      <td>1</td>\n",
              "      <td>[Fresh Tomato Salsa, Guacamole]</td>\n",
              "      <td>9.39</td>\n",
              "    </tr>\n",
              "    <tr>\n",
              "      <th>Carnitas Salad Bowl</th>\n",
              "      <td>1035</td>\n",
              "      <td>1</td>\n",
              "      <td>[Fresh Tomato Salsa, [Rice, Black Beans, Chees...</td>\n",
              "      <td>9.39</td>\n",
              "    </tr>\n",
              "    <tr>\n",
              "      <th>Carnitas Soft Tacos</th>\n",
              "      <td>1011</td>\n",
              "      <td>1</td>\n",
              "      <td>[Fresh Tomato Salsa (Mild), [Black Beans, Rice...</td>\n",
              "      <td>8.99</td>\n",
              "    </tr>\n",
              "    <tr>\n",
              "      <th>Carnitas Crispy Tacos</th>\n",
              "      <td>1774</td>\n",
              "      <td>1</td>\n",
              "      <td>[Fresh Tomato Salsa, [Fajita Vegetables, Rice,...</td>\n",
              "      <td>8.99</td>\n",
              "    </tr>\n",
              "    <tr>\n",
              "      <th>Steak Soft Tacos</th>\n",
              "      <td>1054</td>\n",
              "      <td>1</td>\n",
              "      <td>[Fresh Tomato Salsa (Mild), [Cheese, Sour Cream]]</td>\n",
              "      <td>8.99</td>\n",
              "    </tr>\n",
              "    <tr>\n",
              "      <th>Carnitas Salad</th>\n",
              "      <td>1500</td>\n",
              "      <td>1</td>\n",
              "      <td>[[Fresh Tomato Salsa (Mild), Roasted Chili Cor...</td>\n",
              "      <td>8.99</td>\n",
              "    </tr>\n",
              "    <tr>\n",
              "      <th>Carnitas Bowl</th>\n",
              "      <td>1007</td>\n",
              "      <td>1</td>\n",
              "      <td>[Fresh Tomato (Mild), [Guacamole, Lettuce, Ric...</td>\n",
              "      <td>8.99</td>\n",
              "    </tr>\n",
              "    <tr>\n",
              "      <th>Barbacoa Soft Tacos</th>\n",
              "      <td>1103</td>\n",
              "      <td>1</td>\n",
              "      <td>[Fresh Tomato Salsa, [Black Beans, Cheese, Let...</td>\n",
              "      <td>8.99</td>\n",
              "    </tr>\n",
              "    <tr>\n",
              "      <th>Barbacoa Crispy Tacos</th>\n",
              "      <td>110</td>\n",
              "      <td>1</td>\n",
              "      <td>[Fresh Tomato Salsa, Guacamole]</td>\n",
              "      <td>8.99</td>\n",
              "    </tr>\n",
              "  </tbody>\n",
              "</table>\n",
              "</div>\n",
              "      <button class=\"colab-df-convert\" onclick=\"convertToInteractive('df-6337b878-8b65-4813-922c-5992ab00795e')\"\n",
              "              title=\"Convert this dataframe to an interactive table.\"\n",
              "              style=\"display:none;\">\n",
              "        \n",
              "  <svg xmlns=\"http://www.w3.org/2000/svg\" height=\"24px\"viewBox=\"0 0 24 24\"\n",
              "       width=\"24px\">\n",
              "    <path d=\"M0 0h24v24H0V0z\" fill=\"none\"/>\n",
              "    <path d=\"M18.56 5.44l.94 2.06.94-2.06 2.06-.94-2.06-.94-.94-2.06-.94 2.06-2.06.94zm-11 1L8.5 8.5l.94-2.06 2.06-.94-2.06-.94L8.5 2.5l-.94 2.06-2.06.94zm10 10l.94 2.06.94-2.06 2.06-.94-2.06-.94-.94-2.06-.94 2.06-2.06.94z\"/><path d=\"M17.41 7.96l-1.37-1.37c-.4-.4-.92-.59-1.43-.59-.52 0-1.04.2-1.43.59L10.3 9.45l-7.72 7.72c-.78.78-.78 2.05 0 2.83L4 21.41c.39.39.9.59 1.41.59.51 0 1.02-.2 1.41-.59l7.78-7.78 2.81-2.81c.8-.78.8-2.07 0-2.86zM5.41 20L4 18.59l7.72-7.72 1.47 1.35L5.41 20z\"/>\n",
              "  </svg>\n",
              "      </button>\n",
              "      \n",
              "  <style>\n",
              "    .colab-df-container {\n",
              "      display:flex;\n",
              "      flex-wrap:wrap;\n",
              "      gap: 12px;\n",
              "    }\n",
              "\n",
              "    .colab-df-convert {\n",
              "      background-color: #E8F0FE;\n",
              "      border: none;\n",
              "      border-radius: 50%;\n",
              "      cursor: pointer;\n",
              "      display: none;\n",
              "      fill: #1967D2;\n",
              "      height: 32px;\n",
              "      padding: 0 0 0 0;\n",
              "      width: 32px;\n",
              "    }\n",
              "\n",
              "    .colab-df-convert:hover {\n",
              "      background-color: #E2EBFA;\n",
              "      box-shadow: 0px 1px 2px rgba(60, 64, 67, 0.3), 0px 1px 3px 1px rgba(60, 64, 67, 0.15);\n",
              "      fill: #174EA6;\n",
              "    }\n",
              "\n",
              "    [theme=dark] .colab-df-convert {\n",
              "      background-color: #3B4455;\n",
              "      fill: #D2E3FC;\n",
              "    }\n",
              "\n",
              "    [theme=dark] .colab-df-convert:hover {\n",
              "      background-color: #434B5C;\n",
              "      box-shadow: 0px 1px 3px 1px rgba(0, 0, 0, 0.15);\n",
              "      filter: drop-shadow(0px 1px 2px rgba(0, 0, 0, 0.3));\n",
              "      fill: #FFFFFF;\n",
              "    }\n",
              "  </style>\n",
              "\n",
              "      <script>\n",
              "        const buttonEl =\n",
              "          document.querySelector('#df-6337b878-8b65-4813-922c-5992ab00795e button.colab-df-convert');\n",
              "        buttonEl.style.display =\n",
              "          google.colab.kernel.accessAllowed ? 'block' : 'none';\n",
              "\n",
              "        async function convertToInteractive(key) {\n",
              "          const element = document.querySelector('#df-6337b878-8b65-4813-922c-5992ab00795e');\n",
              "          const dataTable =\n",
              "            await google.colab.kernel.invokeFunction('convertToInteractive',\n",
              "                                                     [key], {});\n",
              "          if (!dataTable) return;\n",
              "\n",
              "          const docLinkHtml = 'Like what you see? Visit the ' +\n",
              "            '<a target=\"_blank\" href=https://colab.research.google.com/notebooks/data_table.ipynb>data table notebook</a>'\n",
              "            + ' to learn more about interactive tables.';\n",
              "          element.innerHTML = '';\n",
              "          dataTable['output_type'] = 'display_data';\n",
              "          await google.colab.output.renderOutput(dataTable, element);\n",
              "          const docLink = document.createElement('div');\n",
              "          docLink.innerHTML = docLinkHtml;\n",
              "          element.appendChild(docLink);\n",
              "        }\n",
              "      </script>\n",
              "    </div>\n",
              "  </div>\n",
              "  "
            ]
          },
          "metadata": {},
          "execution_count": 57
        }
      ]
    }
  ]
}